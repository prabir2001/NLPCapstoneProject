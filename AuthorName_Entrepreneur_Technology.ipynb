{
  "nbformat": 4,
  "nbformat_minor": 0,
  "metadata": {
    "colab": {
      "name": "Corrected AuthorName Entrepreneur Technology_11June.ipynb",
      "provenance": [],
      "collapsed_sections": []
    },
    "kernelspec": {
      "display_name": "Python 3",
      "name": "python3"
    },
    "language_info": {
      "name": "python"
    }
  },
  "cells": [
    {
      "cell_type": "markdown",
      "metadata": {
        "id": "LaKFUdAdcpp9"
      },
      "source": [
        "https://www.entrepreneur.com/topic/technology/\n",
        "---\n",
        "\n"
      ]
    },
    {
      "cell_type": "code",
      "metadata": {
        "id": "-Z1V23urwyRr"
      },
      "source": [
        "import requests\n",
        "import pandas as pd\n",
        "from google.colab import files\n",
        "import time"
      ],
      "execution_count": 11,
      "outputs": []
    },
    {
      "cell_type": "code",
      "metadata": {
        "id": "c9k_v62qCP5Y"
      },
      "source": [
        "from bs4 import BeautifulSoup"
      ],
      "execution_count": 2,
      "outputs": []
    },
    {
      "cell_type": "code",
      "metadata": {
        "colab": {
          "base_uri": "https://localhost:8080/"
        },
        "id": "OgdOF604CQpS",
        "outputId": "2b2bd9a1-f965-4ae6-cfd5-7839471045d2"
      },
      "source": [
        "pip install lxml"
      ],
      "execution_count": 3,
      "outputs": [
        {
          "output_type": "stream",
          "text": [
            "Requirement already satisfied: lxml in /usr/local/lib/python3.7/dist-packages (4.2.6)\n"
          ],
          "name": "stdout"
        }
      ]
    },
    {
      "cell_type": "code",
      "metadata": {
        "colab": {
          "base_uri": "https://localhost:8080/"
        },
        "id": "O9hPhy4nyQLz",
        "outputId": "20337c88-1436-4790-ded8-d597359182e6"
      },
      "source": [
        "from google.colab import drive\n",
        "drive.mount('/content/drive')"
      ],
      "execution_count": 4,
      "outputs": [
        {
          "output_type": "stream",
          "text": [
            "Mounted at /content/drive\n"
          ],
          "name": "stdout"
        }
      ]
    },
    {
      "cell_type": "code",
      "metadata": {
        "id": "DpX3a0JDD1Im"
      },
      "source": [
        "u = []\n",
        "Ent = pd.DataFrame()\n",
        "\n",
        "common_url = 'https://www.entrepreneur.com/topic/technology/'\n",
        "for i in range(1,817):\n",
        "  url = (common_url + str(i))\n",
        "  #print('From page:',url)\n",
        "  #time.sleep(3)\n",
        "  data = requests.get(url).text\n",
        "  soup = BeautifulSoup(data, \"lxml\")\n",
        "  for x in soup.find_all('div', class_=\"flex-1 px-6 pt-4 pb-2 flex flex-col\"):\n",
        "    for y in x.find_all('a',class_='block ga-click'):\n",
        "      z = y.get('href')\n",
        "      u.append('https://www.entrepreneur.com'+z)\n",
        "      #print('https://www.entrepreneur.com'+z)\n",
        "Ent['Article URL'] = u"
      ],
      "execution_count": 10,
      "outputs": []
    },
    {
      "cell_type": "code",
      "metadata": {
        "id": "bUGyAj1kdCDD",
        "colab": {
          "base_uri": "https://localhost:8080/"
        },
        "outputId": "4ee48599-7820-4b26-e5de-527f78cf5e2a"
      },
      "source": [
        "Ent.shape"
      ],
      "execution_count": 12,
      "outputs": [
        {
          "output_type": "execute_result",
          "data": {
            "text/plain": [
              "(2451, 1)"
            ]
          },
          "metadata": {
            "tags": []
          },
          "execution_count": 12
        }
      ]
    },
    {
      "cell_type": "code",
      "metadata": {
        "id": "bFUv8bOJkAXz",
        "colab": {
          "base_uri": "https://localhost:8080/",
          "height": 204
        },
        "outputId": "af971d77-9eb4-4318-8a44-d861a1b4c7da"
      },
      "source": [
        "Ent.head()"
      ],
      "execution_count": 13,
      "outputs": [
        {
          "output_type": "execute_result",
          "data": {
            "text/html": [
              "<div>\n",
              "<style scoped>\n",
              "    .dataframe tbody tr th:only-of-type {\n",
              "        vertical-align: middle;\n",
              "    }\n",
              "\n",
              "    .dataframe tbody tr th {\n",
              "        vertical-align: top;\n",
              "    }\n",
              "\n",
              "    .dataframe thead th {\n",
              "        text-align: right;\n",
              "    }\n",
              "</style>\n",
              "<table border=\"1\" class=\"dataframe\">\n",
              "  <thead>\n",
              "    <tr style=\"text-align: right;\">\n",
              "      <th></th>\n",
              "      <th>Article URL</th>\n",
              "    </tr>\n",
              "  </thead>\n",
              "  <tbody>\n",
              "    <tr>\n",
              "      <th>0</th>\n",
              "      <td>https://www.entrepreneur.com/article/367645</td>\n",
              "    </tr>\n",
              "    <tr>\n",
              "      <th>1</th>\n",
              "      <td>https://www.entrepreneur.com/slideshow/295683</td>\n",
              "    </tr>\n",
              "    <tr>\n",
              "      <th>2</th>\n",
              "      <td>https://www.entrepreneur.com/article/353419</td>\n",
              "    </tr>\n",
              "    <tr>\n",
              "      <th>3</th>\n",
              "      <td>https://www.entrepreneur.com/slideshow/374248</td>\n",
              "    </tr>\n",
              "    <tr>\n",
              "      <th>4</th>\n",
              "      <td>https://www.entrepreneur.com/article/371865</td>\n",
              "    </tr>\n",
              "  </tbody>\n",
              "</table>\n",
              "</div>"
            ],
            "text/plain": [
              "                                     Article URL\n",
              "0    https://www.entrepreneur.com/article/367645\n",
              "1  https://www.entrepreneur.com/slideshow/295683\n",
              "2    https://www.entrepreneur.com/article/353419\n",
              "3  https://www.entrepreneur.com/slideshow/374248\n",
              "4    https://www.entrepreneur.com/article/371865"
            ]
          },
          "metadata": {
            "tags": []
          },
          "execution_count": 13
        }
      ]
    },
    {
      "cell_type": "code",
      "metadata": {
        "id": "ODD9qvbNbj8_"
      },
      "source": [
        "Ent = Ent[~Ent['Article URL'].str.contains(\"slideshow\")]\n",
        "Ent = Ent[~Ent['Article URL'].str.contains(\"page\")]\n",
        "Ent = Ent[~Ent['Article URL'].str.contains(\"video\")]\n",
        "Ent = Ent[~Ent['Article URL'].str.contains(\"answer\")]"
      ],
      "execution_count": 14,
      "outputs": []
    },
    {
      "cell_type": "code",
      "metadata": {
        "id": "zeGk3l1u7FOu",
        "colab": {
          "base_uri": "https://localhost:8080/"
        },
        "outputId": "cc172b9a-fe6b-4161-e2c6-82ba51b8ff50"
      },
      "source": [
        "Ent.shape"
      ],
      "execution_count": 15,
      "outputs": [
        {
          "output_type": "execute_result",
          "data": {
            "text/plain": [
              "(2296, 1)"
            ]
          },
          "metadata": {
            "tags": []
          },
          "execution_count": 15
        }
      ]
    },
    {
      "cell_type": "code",
      "metadata": {
        "id": "5ULp0VwpCENt"
      },
      "source": [
        "h = [] # To Collect Headlines\n",
        "content = [] #To Collect Articles\n",
        "subdomain = [] #To Collect Sub Domains\n",
        "domain = [] # Domain\n",
        "author = [] #To Collect Author Names\n",
        "\n",
        "for x in Ent['Article URL']:\n",
        "  url_article = x\n",
        "  try:\n",
        "    data_inside = requests.get(x).text\n",
        "  except:\n",
        "    pass\n",
        "\n",
        "  #time.sleep(3)\n",
        "\n",
        "  #Parse the data using Beautiful Soup\n",
        "  soup_inside = BeautifulSoup(data_inside, \"lxml\")\n",
        "\n",
        "#Getting the Headline\n",
        "  for p in soup_inside.find_all('h1', class_='headline'):\n",
        "    try:\n",
        "      headline1 = p.get_text()\n",
        "    except:\n",
        "      pass\n",
        "    h.append(headline1)\n",
        "\n",
        "  #Getting the Content\n",
        "  for q in soup_inside.find_all('div', class_='gate-check'):\n",
        "    try:\n",
        "      a1 = q.get_text()\n",
        "    except:\n",
        "      pass\n",
        "    content.append(a1)\n",
        "\n",
        "  #Getting the Sub Domain\n",
        "  sd_flag = bool(soup_inside.find(\"a\", attrs={\"class\": \"articlekicker ga-click kickertags\"}))\n",
        "  if sd_flag == True:\n",
        "    for sdr in soup_inside.find(\"a\", attrs={\"class\": \"articlekicker ga-click kickertags\"}):\n",
        "      try:\n",
        "        sd = sdr\n",
        "      except:\n",
        "         pass \n",
        "  else:\n",
        "    sd = 'Unavailable'     \n",
        "    \n",
        "  subdomain.append(sd)\n",
        "\n",
        "  #Appending the Domain\n",
        "  domain.append(\"Technology\")\n",
        "\n",
        "  #Getting the Author\n",
        "  Author_Flag = bool(soup_inside.find('div', itemprop='name'))\n",
        "  if Author_Flag == True:\n",
        "      for r in soup_inside.find_all('div', itemprop='name'):\n",
        "      #for r in soup_inside.find_all(\"a\", attrs={\"class\": \"authorname ga-click\"}):\n",
        "          try:\n",
        "            au = r.get_text()\n",
        "          except:\n",
        "            pass     \n",
        "  else:\n",
        "    au = 'Unknown'\n",
        "  \n",
        "  author.append(au)\n",
        "\n",
        "#Made a new column in data and added the text to that\n",
        "Ent['Headline'] = h\n",
        "Ent['Article Text'] = content\n",
        "Ent['Sub Domain'] = subdomain\n",
        "Ent['Domain'] = domain\n",
        "Ent['Author'] = author"
      ],
      "execution_count": 36,
      "outputs": []
    },
    {
      "cell_type": "code",
      "metadata": {
        "id": "lBjQ-aRQ0_HJ",
        "colab": {
          "base_uri": "https://localhost:8080/"
        },
        "outputId": "bfd43a84-d655-402a-80b9-358045152b28"
      },
      "source": [
        "len(h)"
      ],
      "execution_count": 38,
      "outputs": [
        {
          "output_type": "execute_result",
          "data": {
            "text/plain": [
              "2296"
            ]
          },
          "metadata": {
            "tags": []
          },
          "execution_count": 38
        }
      ]
    },
    {
      "cell_type": "code",
      "metadata": {
        "id": "yxl3AAWihMlS",
        "colab": {
          "base_uri": "https://localhost:8080/"
        },
        "outputId": "c4853d35-9fe8-470d-9108-d677089e8c98"
      },
      "source": [
        "len(author)"
      ],
      "execution_count": 39,
      "outputs": [
        {
          "output_type": "execute_result",
          "data": {
            "text/plain": [
              "2296"
            ]
          },
          "metadata": {
            "tags": []
          },
          "execution_count": 39
        }
      ]
    },
    {
      "cell_type": "code",
      "metadata": {
        "id": "-2didoWnAud7",
        "colab": {
          "base_uri": "https://localhost:8080/"
        },
        "outputId": "c912cc56-1321-435b-9866-c87397709aed"
      },
      "source": [
        "Ent.shape"
      ],
      "execution_count": 40,
      "outputs": [
        {
          "output_type": "execute_result",
          "data": {
            "text/plain": [
              "(2296, 6)"
            ]
          },
          "metadata": {
            "tags": []
          },
          "execution_count": 40
        }
      ]
    },
    {
      "cell_type": "code",
      "metadata": {
        "id": "oKhem_KfPNEO",
        "colab": {
          "base_uri": "https://localhost:8080/",
          "height": 665
        },
        "outputId": "91e805b6-bfc9-428a-e393-5d642b3b53bb"
      },
      "source": [
        "Ent.head(10)"
      ],
      "execution_count": 41,
      "outputs": [
        {
          "output_type": "execute_result",
          "data": {
            "text/html": [
              "<div>\n",
              "<style scoped>\n",
              "    .dataframe tbody tr th:only-of-type {\n",
              "        vertical-align: middle;\n",
              "    }\n",
              "\n",
              "    .dataframe tbody tr th {\n",
              "        vertical-align: top;\n",
              "    }\n",
              "\n",
              "    .dataframe thead th {\n",
              "        text-align: right;\n",
              "    }\n",
              "</style>\n",
              "<table border=\"1\" class=\"dataframe\">\n",
              "  <thead>\n",
              "    <tr style=\"text-align: right;\">\n",
              "      <th></th>\n",
              "      <th>Article URL</th>\n",
              "      <th>Headline</th>\n",
              "      <th>Article Text</th>\n",
              "      <th>Sub Domain</th>\n",
              "      <th>Domain</th>\n",
              "      <th>Author</th>\n",
              "    </tr>\n",
              "  </thead>\n",
              "  <tbody>\n",
              "    <tr>\n",
              "      <th>0</th>\n",
              "      <td>https://www.entrepreneur.com/article/367645</td>\n",
              "      <td>\\n\\t\\t\\t\\tYour Buyer's Journey is Now Online. ...</td>\n",
              "      <td>\\n\\n\\n\\t\\t\\t\\t\\t\\t\\t\\tApril\\n\\t\\t\\t\\t\\t\\t\\t\\t6...</td>\n",
              "      <td>Prepare to Succeed</td>\n",
              "      <td>Technology</td>\n",
              "      <td>Randy Frisch</td>\n",
              "    </tr>\n",
              "    <tr>\n",
              "      <th>2</th>\n",
              "      <td>https://www.entrepreneur.com/article/353419</td>\n",
              "      <td>\\n\\t\\t\\t\\tVirtual Meeting Etiquette Guide for ...</td>\n",
              "      <td>\\n\\n\\n\\t\\t\\t\\t\\t\\t\\t\\tJuly\\n\\t\\t\\t\\t\\t\\t\\t\\t17...</td>\n",
              "      <td>Virtual Meetings</td>\n",
              "      <td>Technology</td>\n",
              "      <td>John Rampton</td>\n",
              "    </tr>\n",
              "    <tr>\n",
              "      <th>4</th>\n",
              "      <td>https://www.entrepreneur.com/article/371865</td>\n",
              "      <td>\\n\\t\\t\\t\\tVulnerability In the Supply Chain: K...</td>\n",
              "      <td>\\n\\n\\n\\t\\t\\t\\t\\t\\t\\t\\tJune\\n\\t\\t\\t\\t\\t\\t\\t\\t11...</td>\n",
              "      <td>Supply Chain Management</td>\n",
              "      <td>Technology</td>\n",
              "      <td>Natacha Rousseau</td>\n",
              "    </tr>\n",
              "    <tr>\n",
              "      <th>5</th>\n",
              "      <td>https://www.entrepreneur.com/article/374165</td>\n",
              "      <td>\\n\\t\\t\\t\\tImprove Your Business Intelligence b...</td>\n",
              "      <td>\\n\\n\\n\\t\\t\\t\\t\\t\\t\\t\\tJune\\n\\t\\t\\t\\t\\t\\t\\t\\t11...</td>\n",
              "      <td>Business Intelligence</td>\n",
              "      <td>Technology</td>\n",
              "      <td>Entrepreneur Store</td>\n",
              "    </tr>\n",
              "    <tr>\n",
              "      <th>6</th>\n",
              "      <td>https://www.entrepreneur.com/article/373548</td>\n",
              "      <td>\\n\\t\\t\\t\\tHow to Mitigate Risk in the Crypto M...</td>\n",
              "      <td>\\n\\n\\n\\t\\t\\t\\t\\t\\t\\t\\tJune\\n\\t\\t\\t\\t\\t\\t\\t\\t8,...</td>\n",
              "      <td>Cryptocurrency</td>\n",
              "      <td>Technology</td>\n",
              "      <td>James Murphy</td>\n",
              "    </tr>\n",
              "    <tr>\n",
              "      <th>7</th>\n",
              "      <td>https://www.entrepreneur.com/article/373880</td>\n",
              "      <td>\\n\\t\\t\\t\\tProtect Your Company's Sensitive Ema...</td>\n",
              "      <td>\\n\\n\\n\\t\\t\\t\\t\\t\\t\\t\\tJune\\n\\t\\t\\t\\t\\t\\t\\t\\t8,...</td>\n",
              "      <td>Email Security and Privacy</td>\n",
              "      <td>Technology</td>\n",
              "      <td>Entrepreneur Store</td>\n",
              "    </tr>\n",
              "    <tr>\n",
              "      <th>8</th>\n",
              "      <td>https://www.entrepreneur.com/article/373512</td>\n",
              "      <td>\\n\\t\\t\\t\\tCan Anything Be an NFT? Here's What ...</td>\n",
              "      <td>\\n\\n\\n\\t\\t\\t\\t\\t\\t\\t\\tJune\\n\\t\\t\\t\\t\\t\\t\\t\\t8,...</td>\n",
              "      <td>NFT</td>\n",
              "      <td>Technology</td>\n",
              "      <td>Ariel Shapira</td>\n",
              "    </tr>\n",
              "    <tr>\n",
              "      <th>9</th>\n",
              "      <td>https://www.entrepreneur.com/article/345915</td>\n",
              "      <td>\\n\\t\\t\\t\\tCraft a Compelling Marketing Strateg...</td>\n",
              "      <td>\\n\\n\\n\\t\\t\\t\\t\\t\\t\\t\\tFebruary\\n\\t\\t\\t\\t\\t\\t\\t...</td>\n",
              "      <td>Graphic Design</td>\n",
              "      <td>Technology</td>\n",
              "      <td>Entrepreneur Store</td>\n",
              "    </tr>\n",
              "    <tr>\n",
              "      <th>10</th>\n",
              "      <td>https://www.entrepreneur.com/article/366751</td>\n",
              "      <td>\\n\\t\\t\\t\\tHow AI Can Deliver Clean Water to Bi...</td>\n",
              "      <td>\\n\\n\\n\\t\\t\\t\\t\\t\\t\\t\\tJune\\n\\t\\t\\t\\t\\t\\t\\t\\t5,...</td>\n",
              "      <td>artifical intelligence</td>\n",
              "      <td>Technology</td>\n",
              "      <td>Ari Goldberg</td>\n",
              "    </tr>\n",
              "    <tr>\n",
              "      <th>11</th>\n",
              "      <td>https://www.entrepreneur.com/article/372677</td>\n",
              "      <td>\\n\\t\\t\\t\\t3 Non-Digital Art NFT Use Cases Set ...</td>\n",
              "      <td>\\n\\n\\n\\t\\t\\t\\t\\t\\t\\t\\tJune\\n\\t\\t\\t\\t\\t\\t\\t\\t4,...</td>\n",
              "      <td>Technology</td>\n",
              "      <td>Technology</td>\n",
              "      <td>Sarah Austin</td>\n",
              "    </tr>\n",
              "  </tbody>\n",
              "</table>\n",
              "</div>"
            ],
            "text/plain": [
              "                                    Article URL  ...              Author\n",
              "0   https://www.entrepreneur.com/article/367645  ...        Randy Frisch\n",
              "2   https://www.entrepreneur.com/article/353419  ...        John Rampton\n",
              "4   https://www.entrepreneur.com/article/371865  ...    Natacha Rousseau\n",
              "5   https://www.entrepreneur.com/article/374165  ...  Entrepreneur Store\n",
              "6   https://www.entrepreneur.com/article/373548  ...        James Murphy\n",
              "7   https://www.entrepreneur.com/article/373880  ...  Entrepreneur Store\n",
              "8   https://www.entrepreneur.com/article/373512  ...       Ariel Shapira\n",
              "9   https://www.entrepreneur.com/article/345915  ...  Entrepreneur Store\n",
              "10  https://www.entrepreneur.com/article/366751  ...        Ari Goldberg\n",
              "11  https://www.entrepreneur.com/article/372677  ...        Sarah Austin\n",
              "\n",
              "[10 rows x 6 columns]"
            ]
          },
          "metadata": {
            "tags": []
          },
          "execution_count": 41
        }
      ]
    },
    {
      "cell_type": "code",
      "metadata": {
        "id": "tofxNiuCgJW_",
        "colab": {
          "base_uri": "https://localhost:8080/",
          "height": 1000
        },
        "outputId": "07642a4b-fc60-4d42-d1ed-9fac566be672"
      },
      "source": [
        "unk_auth = pd.DataFrame(Ent[Ent['Author']=='Unknown'])\n",
        "unk_auth"
      ],
      "execution_count": 42,
      "outputs": [
        {
          "output_type": "execute_result",
          "data": {
            "text/html": [
              "<div>\n",
              "<style scoped>\n",
              "    .dataframe tbody tr th:only-of-type {\n",
              "        vertical-align: middle;\n",
              "    }\n",
              "\n",
              "    .dataframe tbody tr th {\n",
              "        vertical-align: top;\n",
              "    }\n",
              "\n",
              "    .dataframe thead th {\n",
              "        text-align: right;\n",
              "    }\n",
              "</style>\n",
              "<table border=\"1\" class=\"dataframe\">\n",
              "  <thead>\n",
              "    <tr style=\"text-align: right;\">\n",
              "      <th></th>\n",
              "      <th>Article URL</th>\n",
              "      <th>Headline</th>\n",
              "      <th>Article Text</th>\n",
              "      <th>Sub Domain</th>\n",
              "      <th>Domain</th>\n",
              "      <th>Author</th>\n",
              "    </tr>\n",
              "  </thead>\n",
              "  <tbody>\n",
              "    <tr>\n",
              "      <th>90</th>\n",
              "      <td>https://www.entrepreneur.com/article/365277</td>\n",
              "      <td>\\n\\t\\t\\t\\tApple Reaches Agreement With Prepear...</td>\n",
              "      <td>\\n\\n\\n\\t\\t\\t\\t\\t\\t\\t\\tFebruary\\n\\t\\t\\t\\t\\t\\t\\t...</td>\n",
              "      <td>Apple</td>\n",
              "      <td>Technology</td>\n",
              "      <td>Unknown</td>\n",
              "    </tr>\n",
              "    <tr>\n",
              "      <th>484</th>\n",
              "      <td>https://www.entrepreneur.com/article/313633</td>\n",
              "      <td>\\n\\t\\t\\t\\tInstagram Now Lets You Share Posts i...</td>\n",
              "      <td>\\n\\n\\n\\t\\t\\t\\t\\t\\t\\t\\tMay\\n\\t\\t\\t\\t\\t\\t\\t\\t17,...</td>\n",
              "      <td>Social Media</td>\n",
              "      <td>Technology</td>\n",
              "      <td>Unknown</td>\n",
              "    </tr>\n",
              "    <tr>\n",
              "      <th>720</th>\n",
              "      <td>https://www.entrepreneur.com/article/288048</td>\n",
              "      <td>\\n\\t\\t\\t\\tWhich Social App Will Be the First t...</td>\n",
              "      <td>\\n\\n\\n\\t\\t\\t\\t\\t\\t\\t\\tJanuary\\n\\t\\t\\t\\t\\t\\t\\t\\...</td>\n",
              "      <td>Artificial Intelligence</td>\n",
              "      <td>Technology</td>\n",
              "      <td>Unknown</td>\n",
              "    </tr>\n",
              "    <tr>\n",
              "      <th>725</th>\n",
              "      <td>https://www.entrepreneur.com/article/287438</td>\n",
              "      <td>\\n\\t\\t\\t\\t5 Major Artificial Intelligence Hurd...</td>\n",
              "      <td>\\n\\n\\n\\t\\t\\t\\t\\t\\t\\t\\tJanuary\\n\\t\\t\\t\\t\\t\\t\\t\\...</td>\n",
              "      <td>Artificial Intelligence</td>\n",
              "      <td>Technology</td>\n",
              "      <td>Unknown</td>\n",
              "    </tr>\n",
              "    <tr>\n",
              "      <th>1048</th>\n",
              "      <td>https://www.entrepreneur.com/article/247921</td>\n",
              "      <td>\\n\\t\\t\\t\\tApple to Pay $450 Million After Losi...</td>\n",
              "      <td>\\n\\n\\n\\t\\t\\t\\t\\t\\t\\t\\tJune\\n\\t\\t\\t\\t\\t\\t\\t\\t30...</td>\n",
              "      <td>Apple</td>\n",
              "      <td>Technology</td>\n",
              "      <td>Unknown</td>\n",
              "    </tr>\n",
              "    <tr>\n",
              "      <th>1557</th>\n",
              "      <td>https://www.entrepreneur.com/article/227405</td>\n",
              "      <td>\\n\\t\\t\\t\\tHulu Sale Called Off as Owners Try t...</td>\n",
              "      <td>\\n\\n\\n\\t\\t\\t\\t\\t\\t\\t\\tJuly\\n\\t\\t\\t\\t\\t\\t\\t\\t12...</td>\n",
              "      <td>Technology</td>\n",
              "      <td>Technology</td>\n",
              "      <td>Unknown</td>\n",
              "    </tr>\n",
              "    <tr>\n",
              "      <th>1560</th>\n",
              "      <td>https://www.entrepreneur.com/article/227301</td>\n",
              "      <td>\\n\\t\\t\\t\\tYahoo Buys Mobile App Qwiki\\n\\t\\t\\t</td>\n",
              "      <td>\\n\\n\\n\\t\\t\\t\\t\\t\\t\\t\\tJuly\\n\\t\\t\\t\\t\\t\\t\\t\\t3,...</td>\n",
              "      <td>Technology</td>\n",
              "      <td>Technology</td>\n",
              "      <td>Unknown</td>\n",
              "    </tr>\n",
              "    <tr>\n",
              "      <th>1561</th>\n",
              "      <td>https://www.entrepreneur.com/article/227271</td>\n",
              "      <td>\\n\\t\\t\\t\\tApple Plans Nevada Solar Farm in Cle...</td>\n",
              "      <td>\\n\\n\\n\\t\\t\\t\\t\\t\\t\\t\\tJuly\\n\\t\\t\\t\\t\\t\\t\\t\\t2,...</td>\n",
              "      <td>Technology</td>\n",
              "      <td>Technology</td>\n",
              "      <td>Unknown</td>\n",
              "    </tr>\n",
              "    <tr>\n",
              "      <th>1732</th>\n",
              "      <td>https://www.entrepreneur.com/article/217545</td>\n",
              "      <td>\\n\\t\\t\\t\\tHow to Build an iPhone App Without H...</td>\n",
              "      <td>\\n\\n\\n\\t\\t\\t\\t\\t\\t\\t\\tNovember\\n\\t\\t\\t\\t\\t\\t\\t...</td>\n",
              "      <td>Technology</td>\n",
              "      <td>Technology</td>\n",
              "      <td>Unknown</td>\n",
              "    </tr>\n",
              "    <tr>\n",
              "      <th>1738</th>\n",
              "      <td>https://www.entrepreneur.com/article/217259</td>\n",
              "      <td>\\n\\t\\t\\t\\tHow to Start a Business with No Mone...</td>\n",
              "      <td>\\n\\n\\n\\t\\t\\t\\t\\t\\t\\t\\tSeptember\\n\\t\\t\\t\\t\\t\\t\\...</td>\n",
              "      <td>How To</td>\n",
              "      <td>Technology</td>\n",
              "      <td>Unknown</td>\n",
              "    </tr>\n",
              "    <tr>\n",
              "      <th>1746</th>\n",
              "      <td>https://www.entrepreneur.com/article/206770</td>\n",
              "      <td>\\n\\t\\t\\t\\tIs Your Social Media Policy Clear?\\n...</td>\n",
              "      <td>\\n\\n\\n\\t\\t\\t\\t\\t\\t\\t\\tMay\\n\\t\\t\\t\\t\\t\\t\\t\\t21,...</td>\n",
              "      <td>Growth Strategies</td>\n",
              "      <td>Technology</td>\n",
              "      <td>Unknown</td>\n",
              "    </tr>\n",
              "    <tr>\n",
              "      <th>1751</th>\n",
              "      <td>https://www.entrepreneur.com/article/206382</td>\n",
              "      <td>\\n\\t\\t\\t\\tOnline Marketing Tools: A Comparison...</td>\n",
              "      <td>\\n\\n\\n\\t\\t\\t\\t\\t\\t\\t\\tApril\\n\\t\\t\\t\\t\\t\\t\\t\\t2...</td>\n",
              "      <td>Marketing</td>\n",
              "      <td>Technology</td>\n",
              "      <td>Unknown</td>\n",
              "    </tr>\n",
              "    <tr>\n",
              "      <th>1756</th>\n",
              "      <td>https://www.entrepreneur.com/article/205540</td>\n",
              "      <td>\\n\\t\\t\\t\\tApple at the Core of AdMob's Success...</td>\n",
              "      <td>\\n\\n\\n\\t\\t\\t\\t\\t\\t\\t\\tMarch\\n\\t\\t\\t\\t\\t\\t\\t\\t1...</td>\n",
              "      <td>Growth Strategies</td>\n",
              "      <td>Technology</td>\n",
              "      <td>Unknown</td>\n",
              "    </tr>\n",
              "    <tr>\n",
              "      <th>1762</th>\n",
              "      <td>https://www.entrepreneur.com/article/204676</td>\n",
              "      <td>\\n\\t\\t\\t\\tJust How Useful is Window's 7 for Bu...</td>\n",
              "      <td>\\n\\n\\n\\t\\t\\t\\t\\t\\t\\t\\tJanuary\\n\\t\\t\\t\\t\\t\\t\\t\\...</td>\n",
              "      <td>Technology</td>\n",
              "      <td>Technology</td>\n",
              "      <td>Unknown</td>\n",
              "    </tr>\n",
              "    <tr>\n",
              "      <th>1769</th>\n",
              "      <td>https://www.entrepreneur.com/article/204076</td>\n",
              "      <td>\\n\\t\\t\\t\\tCan't Live With/Can't Live Without: ...</td>\n",
              "      <td>\\n\\n\\n\\t\\t\\t\\t\\t\\t\\t\\tNovember\\n\\t\\t\\t\\t\\t\\t\\t...</td>\n",
              "      <td>Growth Strategies</td>\n",
              "      <td>Technology</td>\n",
              "      <td>Unknown</td>\n",
              "    </tr>\n",
              "    <tr>\n",
              "      <th>1770</th>\n",
              "      <td>https://www.entrepreneur.com/article/203626</td>\n",
              "      <td>\\n\\t\\t\\t\\tMaster of Munchies\\n\\t\\t\\t</td>\n",
              "      <td>\\n\\n\\n\\t\\t\\t\\t\\t\\t\\t\\tOctober\\n\\t\\t\\t\\t\\t\\t\\t\\...</td>\n",
              "      <td>Starting a Business</td>\n",
              "      <td>Technology</td>\n",
              "      <td>Unknown</td>\n",
              "    </tr>\n",
              "    <tr>\n",
              "      <th>1771</th>\n",
              "      <td>https://www.entrepreneur.com/article/203608</td>\n",
              "      <td>\\n\\t\\t\\t\\tCutting-Edge Cost Cutters\\n\\t\\t\\t</td>\n",
              "      <td>\\n\\n\\n\\t\\t\\t\\t\\t\\t\\t\\tOctober\\n\\t\\t\\t\\t\\t\\t\\t\\...</td>\n",
              "      <td>Technology</td>\n",
              "      <td>Technology</td>\n",
              "      <td>Unknown</td>\n",
              "    </tr>\n",
              "    <tr>\n",
              "      <th>1784</th>\n",
              "      <td>https://www.entrepreneur.com/article/201742</td>\n",
              "      <td>\\n\\t\\t\\t\\tWhat to Look for in Online Backup\\n\\...</td>\n",
              "      <td>\\n\\n\\n\\t\\t\\t\\t\\t\\t\\t\\tMay\\n\\t\\t\\t\\t\\t\\t\\t\\t18,...</td>\n",
              "      <td>Technology</td>\n",
              "      <td>Technology</td>\n",
              "      <td>Unknown</td>\n",
              "    </tr>\n",
              "    <tr>\n",
              "      <th>1790</th>\n",
              "      <td>https://www.entrepreneur.com/article/200940</td>\n",
              "      <td>\\n\\t\\t\\t\\tSeven More Keyboard Shortcuts\\n\\t\\t\\t</td>\n",
              "      <td>\\n\\n\\n\\t\\t\\t\\t\\t\\t\\t\\tMarch\\n\\t\\t\\t\\t\\t\\t\\t\\t2...</td>\n",
              "      <td>Technology</td>\n",
              "      <td>Technology</td>\n",
              "      <td>Unknown</td>\n",
              "    </tr>\n",
              "    <tr>\n",
              "      <th>1824</th>\n",
              "      <td>https://www.entrepreneur.com/article/193912</td>\n",
              "      <td>\\n\\t\\t\\t\\tRIM's BlackBerry Bold Beats Apple to...</td>\n",
              "      <td>\\n\\n\\n\\t\\t\\t\\t\\t\\t\\t\\tMay\\n\\t\\t\\t\\t\\t\\t\\t\\t11,...</td>\n",
              "      <td>Technology</td>\n",
              "      <td>Technology</td>\n",
              "      <td>Unknown</td>\n",
              "    </tr>\n",
              "    <tr>\n",
              "      <th>1838</th>\n",
              "      <td>https://www.entrepreneur.com/article/187854</td>\n",
              "      <td>\\n\\t\\t\\t\\tTechnology's Most (and Least) Reliab...</td>\n",
              "      <td>\\n\\n\\n\\t\\t\\t\\t\\t\\t\\t\\tNovember\\n\\t\\t\\t\\t\\t\\t\\t...</td>\n",
              "      <td>Marketing</td>\n",
              "      <td>Technology</td>\n",
              "      <td>Unknown</td>\n",
              "    </tr>\n",
              "    <tr>\n",
              "      <th>1844</th>\n",
              "      <td>https://www.entrepreneur.com/article/185324</td>\n",
              "      <td>\\n\\t\\t\\t\\tFifteen Backup Programs to Safeguard...</td>\n",
              "      <td>\\n\\n\\n\\t\\t\\t\\t\\t\\t\\t\\tSeptember\\n\\t\\t\\t\\t\\t\\t\\...</td>\n",
              "      <td>Technology</td>\n",
              "      <td>Technology</td>\n",
              "      <td>Unknown</td>\n",
              "    </tr>\n",
              "    <tr>\n",
              "      <th>1852</th>\n",
              "      <td>https://www.entrepreneur.com/article/185326</td>\n",
              "      <td>\\n\\t\\t\\t\\tHow to Survive the Worst PC Disaster...</td>\n",
              "      <td>\\n\\n\\n\\t\\t\\t\\t\\t\\t\\t\\tMay\\n\\t\\t\\t\\t\\t\\t\\t\\t24,...</td>\n",
              "      <td>Technology</td>\n",
              "      <td>Technology</td>\n",
              "      <td>Unknown</td>\n",
              "    </tr>\n",
              "    <tr>\n",
              "      <th>1871</th>\n",
              "      <td>https://www.entrepreneur.com/article/169354</td>\n",
              "      <td>\\n\\t\\t\\t\\tTricks of the Trade\\n\\t\\t\\t</td>\n",
              "      <td>\\n\\n\\n\\t\\t\\t\\t\\t\\t\\t\\tOctober\\n\\t\\t\\t\\t\\t\\t\\t\\...</td>\n",
              "      <td>Technology</td>\n",
              "      <td>Technology</td>\n",
              "      <td>Unknown</td>\n",
              "    </tr>\n",
              "    <tr>\n",
              "      <th>1887</th>\n",
              "      <td>https://www.entrepreneur.com/article/84184</td>\n",
              "      <td>\\n\\t\\t\\t\\tShipping Your eBay Inventory\\n\\t\\t\\t</td>\n",
              "      <td>\\n\\n\\n\\t\\t\\t\\t\\t\\t\\t\\tMarch\\n\\t\\t\\t\\t\\t\\t\\t\\t2...</td>\n",
              "      <td>Technology</td>\n",
              "      <td>Technology</td>\n",
              "      <td>Unknown</td>\n",
              "    </tr>\n",
              "    <tr>\n",
              "      <th>1896</th>\n",
              "      <td>https://www.entrepreneur.com/article/82972</td>\n",
              "      <td>\\n\\t\\t\\t\\tAre Internet Taxes Coming Soon?\\n\\t\\t\\t</td>\n",
              "      <td>\\n\\n\\n\\t\\t\\t\\t\\t\\t\\t\\tFebruary\\n\\t\\t\\t\\t\\t\\t\\t...</td>\n",
              "      <td>Technology</td>\n",
              "      <td>Technology</td>\n",
              "      <td>Unknown</td>\n",
              "    </tr>\n",
              "    <tr>\n",
              "      <th>1900</th>\n",
              "      <td>https://www.entrepreneur.com/article/171908</td>\n",
              "      <td>\\n\\t\\t\\t\\tMobile Broadband Goes to 4G\\n\\t\\t\\t</td>\n",
              "      <td>\\n\\n\\n\\t\\t\\t\\t\\t\\t\\t\\tJanuary\\n\\t\\t\\t\\t\\t\\t\\t\\...</td>\n",
              "      <td>Technology</td>\n",
              "      <td>Technology</td>\n",
              "      <td>Unknown</td>\n",
              "    </tr>\n",
              "    <tr>\n",
              "      <th>1913</th>\n",
              "      <td>https://www.entrepreneur.com/article/77960</td>\n",
              "      <td>\\n\\t\\t\\t\\tPoint-of-Sale System Basics for Reta...</td>\n",
              "      <td>\\n\\n\\t\\tOpinions expressed by Entrepreneur con...</td>\n",
              "      <td>Growth Strategies</td>\n",
              "      <td>Technology</td>\n",
              "      <td>Unknown</td>\n",
              "    </tr>\n",
              "    <tr>\n",
              "      <th>1917</th>\n",
              "      <td>https://www.entrepreneur.com/article/50414</td>\n",
              "      <td>\\n\\t\\t\\t\\tSecurity Threats From Within\\n\\t\\t\\t</td>\n",
              "      <td>\\n\\n\\n\\t\\t\\t\\t\\t\\t\\t\\tApril\\n\\t\\t\\t\\t\\t\\t\\t\\t1...</td>\n",
              "      <td>Technology</td>\n",
              "      <td>Technology</td>\n",
              "      <td>Unknown</td>\n",
              "    </tr>\n",
              "    <tr>\n",
              "      <th>1918</th>\n",
              "      <td>https://www.entrepreneur.com/article/43048</td>\n",
              "      <td>\\n\\t\\t\\t\\tProtecting Your System From Hackers\\...</td>\n",
              "      <td>\\n\\n\\n\\t\\t\\t\\t\\t\\t\\t\\tAugust\\n\\t\\t\\t\\t\\t\\t\\t\\t...</td>\n",
              "      <td>Technology</td>\n",
              "      <td>Technology</td>\n",
              "      <td>Unknown</td>\n",
              "    </tr>\n",
              "  </tbody>\n",
              "</table>\n",
              "</div>"
            ],
            "text/plain": [
              "                                      Article URL  ...   Author\n",
              "90    https://www.entrepreneur.com/article/365277  ...  Unknown\n",
              "484   https://www.entrepreneur.com/article/313633  ...  Unknown\n",
              "720   https://www.entrepreneur.com/article/288048  ...  Unknown\n",
              "725   https://www.entrepreneur.com/article/287438  ...  Unknown\n",
              "1048  https://www.entrepreneur.com/article/247921  ...  Unknown\n",
              "1557  https://www.entrepreneur.com/article/227405  ...  Unknown\n",
              "1560  https://www.entrepreneur.com/article/227301  ...  Unknown\n",
              "1561  https://www.entrepreneur.com/article/227271  ...  Unknown\n",
              "1732  https://www.entrepreneur.com/article/217545  ...  Unknown\n",
              "1738  https://www.entrepreneur.com/article/217259  ...  Unknown\n",
              "1746  https://www.entrepreneur.com/article/206770  ...  Unknown\n",
              "1751  https://www.entrepreneur.com/article/206382  ...  Unknown\n",
              "1756  https://www.entrepreneur.com/article/205540  ...  Unknown\n",
              "1762  https://www.entrepreneur.com/article/204676  ...  Unknown\n",
              "1769  https://www.entrepreneur.com/article/204076  ...  Unknown\n",
              "1770  https://www.entrepreneur.com/article/203626  ...  Unknown\n",
              "1771  https://www.entrepreneur.com/article/203608  ...  Unknown\n",
              "1784  https://www.entrepreneur.com/article/201742  ...  Unknown\n",
              "1790  https://www.entrepreneur.com/article/200940  ...  Unknown\n",
              "1824  https://www.entrepreneur.com/article/193912  ...  Unknown\n",
              "1838  https://www.entrepreneur.com/article/187854  ...  Unknown\n",
              "1844  https://www.entrepreneur.com/article/185324  ...  Unknown\n",
              "1852  https://www.entrepreneur.com/article/185326  ...  Unknown\n",
              "1871  https://www.entrepreneur.com/article/169354  ...  Unknown\n",
              "1887   https://www.entrepreneur.com/article/84184  ...  Unknown\n",
              "1896   https://www.entrepreneur.com/article/82972  ...  Unknown\n",
              "1900  https://www.entrepreneur.com/article/171908  ...  Unknown\n",
              "1913   https://www.entrepreneur.com/article/77960  ...  Unknown\n",
              "1917   https://www.entrepreneur.com/article/50414  ...  Unknown\n",
              "1918   https://www.entrepreneur.com/article/43048  ...  Unknown\n",
              "\n",
              "[30 rows x 6 columns]"
            ]
          },
          "metadata": {
            "tags": []
          },
          "execution_count": 42
        }
      ]
    },
    {
      "cell_type": "code",
      "metadata": {
        "id": "j0muXUovAm0M",
        "colab": {
          "base_uri": "https://localhost:8080/"
        },
        "outputId": "c2cfac8c-745c-42ad-b219-9d6eb88ba81b"
      },
      "source": [
        "Ent['Author'].nunique()"
      ],
      "execution_count": 43,
      "outputs": [
        {
          "output_type": "execute_result",
          "data": {
            "text/plain": [
              "686"
            ]
          },
          "metadata": {
            "tags": []
          },
          "execution_count": 43
        }
      ]
    },
    {
      "cell_type": "code",
      "metadata": {
        "id": "OmH2WzgIPVBi",
        "colab": {
          "base_uri": "https://localhost:8080/",
          "height": 17
        },
        "outputId": "e2b84ee1-d9ca-4d2d-d056-d3a65570617a"
      },
      "source": [
        "Ent.to_csv(\"Ent_Articles_Technology_withAuthor11June.csv\")\n",
        "\n",
        "#Download the file to the laptop\n",
        "files.download('Ent_Articles_Technology_withAuthor11June.csv')"
      ],
      "execution_count": 44,
      "outputs": [
        {
          "output_type": "display_data",
          "data": {
            "application/javascript": [
              "\n",
              "    async function download(id, filename, size) {\n",
              "      if (!google.colab.kernel.accessAllowed) {\n",
              "        return;\n",
              "      }\n",
              "      const div = document.createElement('div');\n",
              "      const label = document.createElement('label');\n",
              "      label.textContent = `Downloading \"${filename}\": `;\n",
              "      div.appendChild(label);\n",
              "      const progress = document.createElement('progress');\n",
              "      progress.max = size;\n",
              "      div.appendChild(progress);\n",
              "      document.body.appendChild(div);\n",
              "\n",
              "      const buffers = [];\n",
              "      let downloaded = 0;\n",
              "\n",
              "      const channel = await google.colab.kernel.comms.open(id);\n",
              "      // Send a message to notify the kernel that we're ready.\n",
              "      channel.send({})\n",
              "\n",
              "      for await (const message of channel.messages) {\n",
              "        // Send a message to notify the kernel that we're ready.\n",
              "        channel.send({})\n",
              "        if (message.buffers) {\n",
              "          for (const buffer of message.buffers) {\n",
              "            buffers.push(buffer);\n",
              "            downloaded += buffer.byteLength;\n",
              "            progress.value = downloaded;\n",
              "          }\n",
              "        }\n",
              "      }\n",
              "      const blob = new Blob(buffers, {type: 'application/binary'});\n",
              "      const a = document.createElement('a');\n",
              "      a.href = window.URL.createObjectURL(blob);\n",
              "      a.download = filename;\n",
              "      div.appendChild(a);\n",
              "      a.click();\n",
              "      div.remove();\n",
              "    }\n",
              "  "
            ],
            "text/plain": [
              "<IPython.core.display.Javascript object>"
            ]
          },
          "metadata": {
            "tags": []
          }
        },
        {
          "output_type": "display_data",
          "data": {
            "application/javascript": [
              "download(\"download_34951223-78b8-4a65-b9d3-75832e9a7d50\", \"Ent_Articles_Technology_withAuthor11June.csv\", 9256932)"
            ],
            "text/plain": [
              "<IPython.core.display.Javascript object>"
            ]
          },
          "metadata": {
            "tags": []
          }
        }
      ]
    },
    {
      "cell_type": "code",
      "metadata": {
        "id": "Y2EztDX8Ltdg"
      },
      "source": [
        ""
      ],
      "execution_count": null,
      "outputs": []
    }
  ]
}