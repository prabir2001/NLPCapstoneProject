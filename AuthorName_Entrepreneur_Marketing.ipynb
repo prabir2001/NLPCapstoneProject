{
  "nbformat": 4,
  "nbformat_minor": 0,
  "metadata": {
    "colab": {
      "name": "Corrected AuthorName Entrepreneur Marketing_11June.ipynb",
      "provenance": [],
      "collapsed_sections": []
    },
    "kernelspec": {
      "display_name": "Python 3",
      "name": "python3"
    },
    "language_info": {
      "name": "python"
    }
  },
  "cells": [
    {
      "cell_type": "markdown",
      "metadata": {
        "id": "LaKFUdAdcpp9"
      },
      "source": [
        "https://www.entrepreneur.com/topic/marketing/\n",
        "---\n",
        "\n"
      ]
    },
    {
      "cell_type": "code",
      "metadata": {
        "id": "-Z1V23urwyRr"
      },
      "source": [
        "import requests\n",
        "import pandas as pd\n",
        "from google.colab import files\n",
        "import time"
      ],
      "execution_count": 3,
      "outputs": []
    },
    {
      "cell_type": "code",
      "metadata": {
        "id": "c9k_v62qCP5Y"
      },
      "source": [
        "from bs4 import BeautifulSoup"
      ],
      "execution_count": 4,
      "outputs": []
    },
    {
      "cell_type": "code",
      "metadata": {
        "colab": {
          "base_uri": "https://localhost:8080/"
        },
        "id": "OgdOF604CQpS",
        "outputId": "e5933e4f-f1b3-4a73-d9e7-8a123910fcce"
      },
      "source": [
        "pip install lxml"
      ],
      "execution_count": 5,
      "outputs": [
        {
          "output_type": "stream",
          "text": [
            "Requirement already satisfied: lxml in /usr/local/lib/python3.7/dist-packages (4.2.6)\n"
          ],
          "name": "stdout"
        }
      ]
    },
    {
      "cell_type": "code",
      "metadata": {
        "colab": {
          "base_uri": "https://localhost:8080/"
        },
        "id": "O9hPhy4nyQLz",
        "outputId": "e2356286-de32-4776-ad44-947a128702d5"
      },
      "source": [
        "from google.colab import drive\n",
        "drive.mount('/content/drive')"
      ],
      "execution_count": 6,
      "outputs": [
        {
          "output_type": "stream",
          "text": [
            "Mounted at /content/drive\n"
          ],
          "name": "stdout"
        }
      ]
    },
    {
      "cell_type": "code",
      "metadata": {
        "id": "DpX3a0JDD1Im"
      },
      "source": [
        "u = []\n",
        "Ent = pd.DataFrame()\n",
        "\n",
        "common_url = 'https://www.entrepreneur.com/topic/marketing/'\n",
        "for i in range(1,700):\n",
        "  url = (common_url + str(i))\n",
        "  #print('From page:',url)\n",
        "  #time.sleep(3)\n",
        "  data = requests.get(url).text\n",
        "  soup = BeautifulSoup(data, \"lxml\")\n",
        "  for x in soup.find_all('div', class_=\"flex-1 px-6 pt-4 pb-2 flex flex-col\"):\n",
        "    for y in x.find_all('a',class_='block ga-click'):\n",
        "      z = y.get('href')\n",
        "      u.append('https://www.entrepreneur.com'+z)\n",
        "      #print('https://www.entrepreneur.com'+z)\n",
        "Ent['Article URL'] = u"
      ],
      "execution_count": 7,
      "outputs": []
    },
    {
      "cell_type": "code",
      "metadata": {
        "id": "bUGyAj1kdCDD",
        "colab": {
          "base_uri": "https://localhost:8080/"
        },
        "outputId": "cc86b0f5-baee-4f56-fea5-432f0778fff7"
      },
      "source": [
        "Ent.shape"
      ],
      "execution_count": 9,
      "outputs": [
        {
          "output_type": "execute_result",
          "data": {
            "text/plain": [
              "(2100, 1)"
            ]
          },
          "metadata": {
            "tags": []
          },
          "execution_count": 9
        }
      ]
    },
    {
      "cell_type": "code",
      "metadata": {
        "id": "bFUv8bOJkAXz",
        "colab": {
          "base_uri": "https://localhost:8080/",
          "height": 204
        },
        "outputId": "75fa1c2d-53db-408f-9dd4-3034262ef1bf"
      },
      "source": [
        "Ent.head()"
      ],
      "execution_count": 10,
      "outputs": [
        {
          "output_type": "execute_result",
          "data": {
            "text/html": [
              "<div>\n",
              "<style scoped>\n",
              "    .dataframe tbody tr th:only-of-type {\n",
              "        vertical-align: middle;\n",
              "    }\n",
              "\n",
              "    .dataframe tbody tr th {\n",
              "        vertical-align: top;\n",
              "    }\n",
              "\n",
              "    .dataframe thead th {\n",
              "        text-align: right;\n",
              "    }\n",
              "</style>\n",
              "<table border=\"1\" class=\"dataframe\">\n",
              "  <thead>\n",
              "    <tr style=\"text-align: right;\">\n",
              "      <th></th>\n",
              "      <th>Article URL</th>\n",
              "    </tr>\n",
              "  </thead>\n",
              "  <tbody>\n",
              "    <tr>\n",
              "      <th>0</th>\n",
              "      <td>https://www.entrepreneur.com/slideshow/300248</td>\n",
              "    </tr>\n",
              "    <tr>\n",
              "      <th>1</th>\n",
              "      <td>https://www.entrepreneur.com/article/373083</td>\n",
              "    </tr>\n",
              "    <tr>\n",
              "      <th>2</th>\n",
              "      <td>https://www.entrepreneur.com/article/370466</td>\n",
              "    </tr>\n",
              "    <tr>\n",
              "      <th>3</th>\n",
              "      <td>https://www.entrepreneur.com/article/373886</td>\n",
              "    </tr>\n",
              "    <tr>\n",
              "      <th>4</th>\n",
              "      <td>https://www.entrepreneur.com/article/371865</td>\n",
              "    </tr>\n",
              "  </tbody>\n",
              "</table>\n",
              "</div>"
            ],
            "text/plain": [
              "                                     Article URL\n",
              "0  https://www.entrepreneur.com/slideshow/300248\n",
              "1    https://www.entrepreneur.com/article/373083\n",
              "2    https://www.entrepreneur.com/article/370466\n",
              "3    https://www.entrepreneur.com/article/373886\n",
              "4    https://www.entrepreneur.com/article/371865"
            ]
          },
          "metadata": {
            "tags": []
          },
          "execution_count": 10
        }
      ]
    },
    {
      "cell_type": "code",
      "metadata": {
        "id": "ODD9qvbNbj8_"
      },
      "source": [
        "Ent = Ent[~Ent['Article URL'].str.contains(\"slideshow\")]\n",
        "Ent = Ent[~Ent['Article URL'].str.contains(\"page\")]\n",
        "Ent = Ent[~Ent['Article URL'].str.contains(\"video\")]\n",
        "Ent = Ent[~Ent['Article URL'].str.contains(\"answer\")]"
      ],
      "execution_count": 11,
      "outputs": []
    },
    {
      "cell_type": "code",
      "metadata": {
        "id": "zeGk3l1u7FOu",
        "colab": {
          "base_uri": "https://localhost:8080/"
        },
        "outputId": "57496b78-d9a0-435d-d600-8040489dcb77"
      },
      "source": [
        "Ent.shape"
      ],
      "execution_count": 12,
      "outputs": [
        {
          "output_type": "execute_result",
          "data": {
            "text/plain": [
              "(1947, 1)"
            ]
          },
          "metadata": {
            "tags": []
          },
          "execution_count": 12
        }
      ]
    },
    {
      "cell_type": "code",
      "metadata": {
        "id": "5ULp0VwpCENt"
      },
      "source": [
        "h = [] # To Collect Headlines\n",
        "content = [] #To Collect Articles\n",
        "subdomain = [] #To Collect Sub Domains\n",
        "domain = [] # Domain\n",
        "author = [] #To Collect Author Names\n",
        "\n",
        "for x in Ent['Article URL']:\n",
        "  url_article = x\n",
        "  try:\n",
        "    data_inside = requests.get(x).text\n",
        "  except:\n",
        "    pass\n",
        "\n",
        "  #time.sleep(3)\n",
        "\n",
        "  #Parse the data using Beautiful Soup\n",
        "  soup_inside = BeautifulSoup(data_inside, \"lxml\")\n",
        "\n",
        "#Getting the Headline\n",
        "  for p in soup_inside.find_all('h1', class_='headline'):\n",
        "    try:\n",
        "      headline1 = p.get_text()\n",
        "    except:\n",
        "      pass\n",
        "    h.append(headline1)\n",
        "\n",
        "  #Getting the Content\n",
        "  for q in soup_inside.find_all('div', class_='gate-check'):\n",
        "    try:\n",
        "      a1 = q.get_text()\n",
        "    except:\n",
        "      pass\n",
        "    content.append(a1)\n",
        "\n",
        "  #Getting the Sub Domain\n",
        "  sd_flag = bool(soup_inside.find(\"a\", attrs={\"class\": \"articlekicker ga-click kickertags\"}))\n",
        "  if sd_flag == True:\n",
        "    for sdr in soup_inside.find(\"a\", attrs={\"class\": \"articlekicker ga-click kickertags\"}):\n",
        "      try:\n",
        "        sd = sdr\n",
        "      except:\n",
        "         pass \n",
        "  else:\n",
        "    sd = 'Unavailable'     \n",
        "    \n",
        "  subdomain.append(sd)\n",
        "\n",
        "  #Appending the Domain\n",
        "  domain.append(\"Marketing\")\n",
        "\n",
        "  #Getting the Author\n",
        "  Author_Flag = bool(soup_inside.find('div', itemprop='name'))\n",
        "  if Author_Flag == True:\n",
        "      for r in soup_inside.find_all('div', itemprop='name'):\n",
        "      #for r in soup_inside.find_all(\"a\", attrs={\"class\": \"authorname ga-click\"}):\n",
        "          try:\n",
        "            au = r.get_text()\n",
        "          except:\n",
        "            pass     \n",
        "  else:\n",
        "    au = 'Unknown'\n",
        "  \n",
        "  author.append(au)\n",
        "\n",
        "#Made a new column in data and added the text to that\n",
        "Ent['Headline'] = h\n",
        "Ent['Article Text'] = content\n",
        "Ent['Sub Domain'] = subdomain\n",
        "Ent['Domain'] = domain\n",
        "Ent['Author'] = author"
      ],
      "execution_count": 13,
      "outputs": []
    },
    {
      "cell_type": "code",
      "metadata": {
        "id": "lBjQ-aRQ0_HJ",
        "colab": {
          "base_uri": "https://localhost:8080/"
        },
        "outputId": "db196457-b39a-425a-c7c4-bda4690ed184"
      },
      "source": [
        "len(h)"
      ],
      "execution_count": 14,
      "outputs": [
        {
          "output_type": "execute_result",
          "data": {
            "text/plain": [
              "1947"
            ]
          },
          "metadata": {
            "tags": []
          },
          "execution_count": 14
        }
      ]
    },
    {
      "cell_type": "code",
      "metadata": {
        "id": "yxl3AAWihMlS",
        "colab": {
          "base_uri": "https://localhost:8080/"
        },
        "outputId": "6167cfa2-6749-4245-c8b7-b8d9bd711695"
      },
      "source": [
        "len(author)"
      ],
      "execution_count": 15,
      "outputs": [
        {
          "output_type": "execute_result",
          "data": {
            "text/plain": [
              "1947"
            ]
          },
          "metadata": {
            "tags": []
          },
          "execution_count": 15
        }
      ]
    },
    {
      "cell_type": "code",
      "metadata": {
        "id": "-2didoWnAud7",
        "colab": {
          "base_uri": "https://localhost:8080/"
        },
        "outputId": "be859c1e-d2bf-42b9-d05c-829e1b53f38e"
      },
      "source": [
        "Ent.shape"
      ],
      "execution_count": 16,
      "outputs": [
        {
          "output_type": "execute_result",
          "data": {
            "text/plain": [
              "(1947, 6)"
            ]
          },
          "metadata": {
            "tags": []
          },
          "execution_count": 16
        }
      ]
    },
    {
      "cell_type": "code",
      "metadata": {
        "id": "oKhem_KfPNEO",
        "colab": {
          "base_uri": "https://localhost:8080/",
          "height": 631
        },
        "outputId": "80b6a447-02db-4743-b7b4-5fd644c08bf1"
      },
      "source": [
        "Ent.head(10)"
      ],
      "execution_count": 17,
      "outputs": [
        {
          "output_type": "execute_result",
          "data": {
            "text/html": [
              "<div>\n",
              "<style scoped>\n",
              "    .dataframe tbody tr th:only-of-type {\n",
              "        vertical-align: middle;\n",
              "    }\n",
              "\n",
              "    .dataframe tbody tr th {\n",
              "        vertical-align: top;\n",
              "    }\n",
              "\n",
              "    .dataframe thead th {\n",
              "        text-align: right;\n",
              "    }\n",
              "</style>\n",
              "<table border=\"1\" class=\"dataframe\">\n",
              "  <thead>\n",
              "    <tr style=\"text-align: right;\">\n",
              "      <th></th>\n",
              "      <th>Article URL</th>\n",
              "      <th>Headline</th>\n",
              "      <th>Article Text</th>\n",
              "      <th>Sub Domain</th>\n",
              "      <th>Domain</th>\n",
              "      <th>Author</th>\n",
              "    </tr>\n",
              "  </thead>\n",
              "  <tbody>\n",
              "    <tr>\n",
              "      <th>1</th>\n",
              "      <td>https://www.entrepreneur.com/article/373083</td>\n",
              "      <td>\\n\\t\\t\\t\\tHow To Avoid Rainbow-Washing In Your...</td>\n",
              "      <td>\\n\\n\\n\\t\\t\\t\\t\\t\\t\\t\\tJune\\n\\t\\t\\t\\t\\t\\t\\t\\t1,...</td>\n",
              "      <td>Marketing</td>\n",
              "      <td>Marketing</td>\n",
              "      <td>Nick Wolny</td>\n",
              "    </tr>\n",
              "    <tr>\n",
              "      <th>2</th>\n",
              "      <td>https://www.entrepreneur.com/article/370466</td>\n",
              "      <td>\\n\\t\\t\\t\\t7 Ways You Can Use LinkedIn To Blow ...</td>\n",
              "      <td>\\n\\n\\n\\t\\t\\t\\t\\t\\t\\t\\tMay\\n\\t\\t\\t\\t\\t\\t\\t\\t30,...</td>\n",
              "      <td>Growing a Business</td>\n",
              "      <td>Marketing</td>\n",
              "      <td>Julie Guest</td>\n",
              "    </tr>\n",
              "    <tr>\n",
              "      <th>3</th>\n",
              "      <td>https://www.entrepreneur.com/article/373886</td>\n",
              "      <td>\\n\\t\\t\\t\\t8 Must-Have Skills for an Expert Con...</td>\n",
              "      <td>\\n\\n\\n\\t\\t\\t\\t\\t\\t\\t\\tJune\\n\\t\\t\\t\\t\\t\\t\\t\\t11...</td>\n",
              "      <td>Content Marketing</td>\n",
              "      <td>Marketing</td>\n",
              "      <td>Tracey Wallace</td>\n",
              "    </tr>\n",
              "    <tr>\n",
              "      <th>4</th>\n",
              "      <td>https://www.entrepreneur.com/article/371865</td>\n",
              "      <td>\\n\\t\\t\\t\\tVulnerability In the Supply Chain: K...</td>\n",
              "      <td>\\n\\n\\n\\t\\t\\t\\t\\t\\t\\t\\tJune\\n\\t\\t\\t\\t\\t\\t\\t\\t11...</td>\n",
              "      <td>Supply Chain Management</td>\n",
              "      <td>Marketing</td>\n",
              "      <td>Natacha Rousseau</td>\n",
              "    </tr>\n",
              "    <tr>\n",
              "      <th>5</th>\n",
              "      <td>https://www.entrepreneur.com/article/373945</td>\n",
              "      <td>\\n\\t\\t\\t\\t4 Smart Ways to Write Dynamic Sales ...</td>\n",
              "      <td>\\n\\n\\n\\t\\t\\t\\t\\t\\t\\t\\tJune\\n\\t\\t\\t\\t\\t\\t\\t\\t11...</td>\n",
              "      <td>Marketing</td>\n",
              "      <td>Marketing</td>\n",
              "      <td>Svetoslav Dimitrov</td>\n",
              "    </tr>\n",
              "    <tr>\n",
              "      <th>6</th>\n",
              "      <td>https://www.entrepreneur.com/article/373451</td>\n",
              "      <td>\\n\\t\\t\\t\\t9 Strategies to Boost Small-Business...</td>\n",
              "      <td>\\n\\n\\n\\t\\t\\t\\t\\t\\t\\t\\tJune\\n\\t\\t\\t\\t\\t\\t\\t\\t7,...</td>\n",
              "      <td>Small Businesses</td>\n",
              "      <td>Marketing</td>\n",
              "      <td>Ekalavya Hansaj</td>\n",
              "    </tr>\n",
              "    <tr>\n",
              "      <th>7</th>\n",
              "      <td>https://www.entrepreneur.com/article/372553</td>\n",
              "      <td>\\n\\t\\t\\t\\tFree Webinar | June 17: Facebook Ad ...</td>\n",
              "      <td>\\n\\n\\t\\t\\t\\t\\t\\tBrought to you by T-Mobile for...</td>\n",
              "      <td>Facebook Advertising</td>\n",
              "      <td>Marketing</td>\n",
              "      <td>Unknown</td>\n",
              "    </tr>\n",
              "    <tr>\n",
              "      <th>8</th>\n",
              "      <td>https://www.entrepreneur.com/article/373286</td>\n",
              "      <td>\\n\\t\\t\\t\\t7 things you do on social media that...</td>\n",
              "      <td>\\nThis article was translated from our Spanish...</td>\n",
              "      <td>Professional Image</td>\n",
              "      <td>Marketing</td>\n",
              "      <td>Armando Ruiz</td>\n",
              "    </tr>\n",
              "    <tr>\n",
              "      <th>10</th>\n",
              "      <td>https://www.entrepreneur.com/article/368305</td>\n",
              "      <td>\\n\\t\\t\\t\\tCreating Content for a Specific Audi...</td>\n",
              "      <td>\\n\\n\\n\\t\\t\\t\\t\\t\\t\\t\\tJune\\n\\t\\t\\t\\t\\t\\t\\t\\t1,...</td>\n",
              "      <td>Content Marketing</td>\n",
              "      <td>Marketing</td>\n",
              "      <td>Christian Anderson (Trust'N)</td>\n",
              "    </tr>\n",
              "    <tr>\n",
              "      <th>11</th>\n",
              "      <td>https://www.entrepreneur.com/article/373083</td>\n",
              "      <td>\\n\\t\\t\\t\\tHow To Avoid Rainbow-Washing In Your...</td>\n",
              "      <td>\\n\\n\\n\\t\\t\\t\\t\\t\\t\\t\\tJune\\n\\t\\t\\t\\t\\t\\t\\t\\t1,...</td>\n",
              "      <td>Marketing</td>\n",
              "      <td>Marketing</td>\n",
              "      <td>Nick Wolny</td>\n",
              "    </tr>\n",
              "  </tbody>\n",
              "</table>\n",
              "</div>"
            ],
            "text/plain": [
              "                                    Article URL  ...                        Author\n",
              "1   https://www.entrepreneur.com/article/373083  ...                    Nick Wolny\n",
              "2   https://www.entrepreneur.com/article/370466  ...                   Julie Guest\n",
              "3   https://www.entrepreneur.com/article/373886  ...                Tracey Wallace\n",
              "4   https://www.entrepreneur.com/article/371865  ...              Natacha Rousseau\n",
              "5   https://www.entrepreneur.com/article/373945  ...            Svetoslav Dimitrov\n",
              "6   https://www.entrepreneur.com/article/373451  ...               Ekalavya Hansaj\n",
              "7   https://www.entrepreneur.com/article/372553  ...                       Unknown\n",
              "8   https://www.entrepreneur.com/article/373286  ...                  Armando Ruiz\n",
              "10  https://www.entrepreneur.com/article/368305  ...  Christian Anderson (Trust'N)\n",
              "11  https://www.entrepreneur.com/article/373083  ...                    Nick Wolny\n",
              "\n",
              "[10 rows x 6 columns]"
            ]
          },
          "metadata": {
            "tags": []
          },
          "execution_count": 17
        }
      ]
    },
    {
      "cell_type": "code",
      "metadata": {
        "id": "tofxNiuCgJW_",
        "colab": {
          "base_uri": "https://localhost:8080/",
          "height": 623
        },
        "outputId": "bf18f6da-424a-460a-cd6e-4eb958a605ee"
      },
      "source": [
        "unk_auth = pd.DataFrame(Ent[Ent['Author']=='Unknown'])\n",
        "unk_auth"
      ],
      "execution_count": 18,
      "outputs": [
        {
          "output_type": "execute_result",
          "data": {
            "text/html": [
              "<div>\n",
              "<style scoped>\n",
              "    .dataframe tbody tr th:only-of-type {\n",
              "        vertical-align: middle;\n",
              "    }\n",
              "\n",
              "    .dataframe tbody tr th {\n",
              "        vertical-align: top;\n",
              "    }\n",
              "\n",
              "    .dataframe thead th {\n",
              "        text-align: right;\n",
              "    }\n",
              "</style>\n",
              "<table border=\"1\" class=\"dataframe\">\n",
              "  <thead>\n",
              "    <tr style=\"text-align: right;\">\n",
              "      <th></th>\n",
              "      <th>Article URL</th>\n",
              "      <th>Headline</th>\n",
              "      <th>Article Text</th>\n",
              "      <th>Sub Domain</th>\n",
              "      <th>Domain</th>\n",
              "      <th>Author</th>\n",
              "    </tr>\n",
              "  </thead>\n",
              "  <tbody>\n",
              "    <tr>\n",
              "      <th>7</th>\n",
              "      <td>https://www.entrepreneur.com/article/372553</td>\n",
              "      <td>\\n\\t\\t\\t\\tFree Webinar | June 17: Facebook Ad ...</td>\n",
              "      <td>\\n\\n\\t\\t\\t\\t\\t\\tBrought to you by T-Mobile for...</td>\n",
              "      <td>Facebook Advertising</td>\n",
              "      <td>Marketing</td>\n",
              "      <td>Unknown</td>\n",
              "    </tr>\n",
              "    <tr>\n",
              "      <th>376</th>\n",
              "      <td>https://www.entrepreneur.com/article/313630</td>\n",
              "      <td>\\n\\t\\t\\t\\tHere's Why So Many Fast Food Logos A...</td>\n",
              "      <td>\\n\\n\\n\\t\\t\\t\\t\\t\\t\\t\\tMay\\n\\t\\t\\t\\t\\t\\t\\t\\t17,...</td>\n",
              "      <td>Fast Food</td>\n",
              "      <td>Marketing</td>\n",
              "      <td>Unknown</td>\n",
              "    </tr>\n",
              "    <tr>\n",
              "      <th>414</th>\n",
              "      <td>https://www.entrepreneur.com/article/309352</td>\n",
              "      <td>\\n\\t\\t\\t\\tCan Your Blog Make Money? Here's How...</td>\n",
              "      <td>\\n\\n\\n\\t\\t\\t\\t\\t\\t\\t\\tFebruary\\n\\t\\t\\t\\t\\t\\t\\t...</td>\n",
              "      <td>Blog</td>\n",
              "      <td>Marketing</td>\n",
              "      <td>Unknown</td>\n",
              "    </tr>\n",
              "    <tr>\n",
              "      <th>426</th>\n",
              "      <td>https://www.entrepreneur.com/article/307855</td>\n",
              "      <td>\\n\\t\\t\\t\\t5 Ways to Drive Leads and Double You...</td>\n",
              "      <td>\\n\\n\\n\\t\\t\\t\\t\\t\\t\\t\\tJanuary\\n\\t\\t\\t\\t\\t\\t\\t\\...</td>\n",
              "      <td>Profits</td>\n",
              "      <td>Marketing</td>\n",
              "      <td>Unknown</td>\n",
              "    </tr>\n",
              "    <tr>\n",
              "      <th>451</th>\n",
              "      <td>https://www.entrepreneur.com/article/304857</td>\n",
              "      <td>\\n\\t\\t\\t\\tMake Yourself a Star! Turn Yourself ...</td>\n",
              "      <td>\\n\\n\\n\\t\\t\\t\\t\\t\\t\\t\\tNovember\\n\\t\\t\\t\\t\\t\\t\\t...</td>\n",
              "      <td>Guest Blogging</td>\n",
              "      <td>Marketing</td>\n",
              "      <td>Unknown</td>\n",
              "    </tr>\n",
              "    <tr>\n",
              "      <th>...</th>\n",
              "      <td>...</td>\n",
              "      <td>...</td>\n",
              "      <td>...</td>\n",
              "      <td>...</td>\n",
              "      <td>...</td>\n",
              "      <td>...</td>\n",
              "    </tr>\n",
              "    <tr>\n",
              "      <th>2044</th>\n",
              "      <td>https://www.entrepreneur.com/article/80100</td>\n",
              "      <td>\\n\\t\\t\\t\\tCreate a Blog to Boost Your Business...</td>\n",
              "      <td>\\n\\n\\n\\t\\t\\t\\t\\t\\t\\t\\tSeptember\\n\\t\\t\\t\\t\\t\\t\\...</td>\n",
              "      <td>Marketing</td>\n",
              "      <td>Marketing</td>\n",
              "      <td>Unknown</td>\n",
              "    </tr>\n",
              "    <tr>\n",
              "      <th>2053</th>\n",
              "      <td>https://www.entrepreneur.com/article/70822</td>\n",
              "      <td>\\n\\t\\t\\t\\t5 Cheap Ways on How to Market Your B...</td>\n",
              "      <td>\\n\\n\\n\\t\\t\\t\\t\\t\\t\\t\\tMay\\n\\t\\t\\t\\t\\t\\t\\t\\t17,...</td>\n",
              "      <td>How To</td>\n",
              "      <td>Marketing</td>\n",
              "      <td>Unknown</td>\n",
              "    </tr>\n",
              "    <tr>\n",
              "      <th>2065</th>\n",
              "      <td>https://www.entrepreneur.com/article/24576</td>\n",
              "      <td>\\n\\t\\t\\t\\tSpecial Events\\n\\t\\t\\t</td>\n",
              "      <td>\\n\\n\\n\\t\\t\\t\\t\\t\\t\\t\\tAugust\\n\\t\\t\\t\\t\\t\\t\\t\\t...</td>\n",
              "      <td>Marketing</td>\n",
              "      <td>Marketing</td>\n",
              "      <td>Unknown</td>\n",
              "    </tr>\n",
              "    <tr>\n",
              "      <th>2066</th>\n",
              "      <td>https://www.entrepreneur.com/article/24608</td>\n",
              "      <td>\\n\\t\\t\\t\\tSocial Graces\\n\\t\\t\\t</td>\n",
              "      <td>\\n\\n\\n\\t\\t\\t\\t\\t\\t\\t\\tAugust\\n\\t\\t\\t\\t\\t\\t\\t\\t...</td>\n",
              "      <td>Marketing</td>\n",
              "      <td>Marketing</td>\n",
              "      <td>Unknown</td>\n",
              "    </tr>\n",
              "    <tr>\n",
              "      <th>2097</th>\n",
              "      <td>https://www.entrepreneur.com/article/52322</td>\n",
              "      <td>\\n\\t\\t\\t\\tMarketing From the Inside Out: Clari...</td>\n",
              "      <td>\\n\\n\\n\\t\\t\\t\\t\\t\\t\\t\\tJune\\n\\t\\t\\t\\t\\t\\t\\t\\t3,...</td>\n",
              "      <td>Marketing</td>\n",
              "      <td>Marketing</td>\n",
              "      <td>Unknown</td>\n",
              "    </tr>\n",
              "  </tbody>\n",
              "</table>\n",
              "<p>70 rows × 6 columns</p>\n",
              "</div>"
            ],
            "text/plain": [
              "                                      Article URL  ...   Author\n",
              "7     https://www.entrepreneur.com/article/372553  ...  Unknown\n",
              "376   https://www.entrepreneur.com/article/313630  ...  Unknown\n",
              "414   https://www.entrepreneur.com/article/309352  ...  Unknown\n",
              "426   https://www.entrepreneur.com/article/307855  ...  Unknown\n",
              "451   https://www.entrepreneur.com/article/304857  ...  Unknown\n",
              "...                                           ...  ...      ...\n",
              "2044   https://www.entrepreneur.com/article/80100  ...  Unknown\n",
              "2053   https://www.entrepreneur.com/article/70822  ...  Unknown\n",
              "2065   https://www.entrepreneur.com/article/24576  ...  Unknown\n",
              "2066   https://www.entrepreneur.com/article/24608  ...  Unknown\n",
              "2097   https://www.entrepreneur.com/article/52322  ...  Unknown\n",
              "\n",
              "[70 rows x 6 columns]"
            ]
          },
          "metadata": {
            "tags": []
          },
          "execution_count": 18
        }
      ]
    },
    {
      "cell_type": "code",
      "metadata": {
        "id": "j0muXUovAm0M",
        "colab": {
          "base_uri": "https://localhost:8080/"
        },
        "outputId": "241e78a2-6a05-4d3d-eefa-a8429d3d6289"
      },
      "source": [
        "Ent['Author'].nunique()"
      ],
      "execution_count": 19,
      "outputs": [
        {
          "output_type": "execute_result",
          "data": {
            "text/plain": [
              "837"
            ]
          },
          "metadata": {
            "tags": []
          },
          "execution_count": 19
        }
      ]
    },
    {
      "cell_type": "code",
      "metadata": {
        "id": "OmH2WzgIPVBi",
        "colab": {
          "base_uri": "https://localhost:8080/",
          "height": 17
        },
        "outputId": "66c0d591-54bc-4500-b26f-d4c26679a02f"
      },
      "source": [
        "Ent.to_csv(\"Ent_Articles_Marketing_withAuthor11June.csv\")\n",
        "\n",
        "#Download the file to the laptop\n",
        "files.download('Ent_Articles_Marketing_withAuthor11June.csv')"
      ],
      "execution_count": 20,
      "outputs": [
        {
          "output_type": "display_data",
          "data": {
            "application/javascript": [
              "\n",
              "    async function download(id, filename, size) {\n",
              "      if (!google.colab.kernel.accessAllowed) {\n",
              "        return;\n",
              "      }\n",
              "      const div = document.createElement('div');\n",
              "      const label = document.createElement('label');\n",
              "      label.textContent = `Downloading \"${filename}\": `;\n",
              "      div.appendChild(label);\n",
              "      const progress = document.createElement('progress');\n",
              "      progress.max = size;\n",
              "      div.appendChild(progress);\n",
              "      document.body.appendChild(div);\n",
              "\n",
              "      const buffers = [];\n",
              "      let downloaded = 0;\n",
              "\n",
              "      const channel = await google.colab.kernel.comms.open(id);\n",
              "      // Send a message to notify the kernel that we're ready.\n",
              "      channel.send({})\n",
              "\n",
              "      for await (const message of channel.messages) {\n",
              "        // Send a message to notify the kernel that we're ready.\n",
              "        channel.send({})\n",
              "        if (message.buffers) {\n",
              "          for (const buffer of message.buffers) {\n",
              "            buffers.push(buffer);\n",
              "            downloaded += buffer.byteLength;\n",
              "            progress.value = downloaded;\n",
              "          }\n",
              "        }\n",
              "      }\n",
              "      const blob = new Blob(buffers, {type: 'application/binary'});\n",
              "      const a = document.createElement('a');\n",
              "      a.href = window.URL.createObjectURL(blob);\n",
              "      a.download = filename;\n",
              "      div.appendChild(a);\n",
              "      a.click();\n",
              "      div.remove();\n",
              "    }\n",
              "  "
            ],
            "text/plain": [
              "<IPython.core.display.Javascript object>"
            ]
          },
          "metadata": {
            "tags": []
          }
        },
        {
          "output_type": "display_data",
          "data": {
            "application/javascript": [
              "download(\"download_a8bdec73-62e5-4de6-8289-2e8760b02778\", \"Ent_Articles_Marketing_withAuthor11June.csv\", 10100345)"
            ],
            "text/plain": [
              "<IPython.core.display.Javascript object>"
            ]
          },
          "metadata": {
            "tags": []
          }
        }
      ]
    },
    {
      "cell_type": "code",
      "metadata": {
        "id": "Y2EztDX8Ltdg"
      },
      "source": [
        ""
      ],
      "execution_count": null,
      "outputs": []
    }
  ]
}