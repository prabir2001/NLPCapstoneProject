{
  "nbformat": 4,
  "nbformat_minor": 0,
  "metadata": {
    "colab": {
      "name": "HBR - Finance.ipynb",
      "provenance": [],
      "collapsed_sections": []
    },
    "kernelspec": {
      "name": "python3",
      "display_name": "Python 3"
    },
    "language_info": {
      "name": "python"
    }
  },
  "cells": [
    {
      "cell_type": "markdown",
      "metadata": {
        "id": "LaKFUdAdcpp9"
      },
      "source": [
        "* 27\n",
        "https://hbswk.hbs.edu/Pages/browse.aspx?HBSTopic=Finance\n",
        "* 19\n",
        "https://hbswk.hbs.edu/Pages/browse.aspx?HBSTopic=Leadership\n",
        "* 15\n",
        "https://hbswk.hbs.edu/Pages/browse.aspx?HBSTopic=Management\n",
        "* 20\n",
        "https://hbswk.hbs.edu/Pages/browse.aspx?HBSTopic=Strategy"
      ]
    },
    {
      "cell_type": "code",
      "metadata": {
        "id": "-Z1V23urwyRr"
      },
      "source": [
        "import requests\n",
        "import pandas as pd\n",
        "from google.colab import files\n",
        "import time"
      ],
      "execution_count": null,
      "outputs": []
    },
    {
      "cell_type": "code",
      "metadata": {
        "id": "c9k_v62qCP5Y"
      },
      "source": [
        "from bs4 import BeautifulSoup"
      ],
      "execution_count": null,
      "outputs": []
    },
    {
      "cell_type": "code",
      "metadata": {
        "colab": {
          "base_uri": "https://localhost:8080/"
        },
        "id": "OgdOF604CQpS",
        "outputId": "58281449-1bf1-4d0f-fae2-9ac02747c416"
      },
      "source": [
        "pip install lxml"
      ],
      "execution_count": null,
      "outputs": [
        {
          "output_type": "stream",
          "text": [
            "Requirement already satisfied: lxml in /usr/local/lib/python3.7/dist-packages (4.2.6)\n"
          ],
          "name": "stdout"
        }
      ]
    },
    {
      "cell_type": "code",
      "metadata": {
        "id": "nKXsGTQwCcGP"
      },
      "source": [
        "h = []\n",
        "#s = []\n",
        "u = []"
      ],
      "execution_count": null,
      "outputs": []
    },
    {
      "cell_type": "code",
      "metadata": {
        "id": "woUa5lXzCkfs"
      },
      "source": [
        "HBR = pd.DataFrame()"
      ],
      "execution_count": null,
      "outputs": []
    },
    {
      "cell_type": "code",
      "metadata": {
        "id": "Chgw6qBTwyRv"
      },
      "source": [
        "common_url = 'https://hbswk.hbs.edu/Pages/browse.aspx?HBSTopic=Technology&page='\n",
        "for i in range(1,14):\n",
        "  url = (common_url + str(i))\n",
        "  #time.sleep(1)\n",
        "  data = requests.get(url).text\n",
        "  soup = BeautifulSoup(data, \"lxml\")\n",
        "  for eta in soup.find_all('div',class_='highlight-container'):\n",
        "    try:\n",
        "      headline = eta.h4.a.text\n",
        "    except:\n",
        "      pass\n",
        "    headline.encode(\"ascii\", \"ignore\")\n",
        "    headline.encode(\"utf-8\", \"ignore\")\n",
        "    h.append(headline)\n",
        "\n",
        "    #try:\n",
        "    #  summary = eta.p.text\n",
        "    #except:\n",
        "    #  pass\n",
        "    #s.append(summary)\n",
        "    \n",
        "    try:\n",
        "      url = eta.a.attrs['href']\n",
        "    except:\n",
        "      pass\n",
        "    u.append('https://hbswk.hbs.edu'+url)\n",
        "  \n",
        "HBR['Headline'] = h\n",
        "#HBR['Summary'] = s\n",
        "HBR['Article URL'] = u"
      ],
      "execution_count": null,
      "outputs": []
    },
    {
      "cell_type": "code",
      "metadata": {
        "colab": {
          "base_uri": "https://localhost:8080/"
        },
        "id": "LsZ2kgrLBGaj",
        "outputId": "5dde5a37-3a50-4ae2-f129-aa05890c4d91"
      },
      "source": [
        "HBR.shape"
      ],
      "execution_count": null,
      "outputs": [
        {
          "output_type": "execute_result",
          "data": {
            "text/plain": [
              "(260, 2)"
            ]
          },
          "metadata": {
            "tags": []
          },
          "execution_count": 19
        }
      ]
    },
    {
      "cell_type": "code",
      "metadata": {
        "colab": {
          "base_uri": "https://localhost:8080/",
          "height": 204
        },
        "id": "Zn2j84OONkzD",
        "outputId": "fcfcad9e-a631-4e9b-f778-0fb76b02aac5"
      },
      "source": [
        "HBR.head(5)"
      ],
      "execution_count": null,
      "outputs": [
        {
          "output_type": "execute_result",
          "data": {
            "text/html": [
              "<div>\n",
              "<style scoped>\n",
              "    .dataframe tbody tr th:only-of-type {\n",
              "        vertical-align: middle;\n",
              "    }\n",
              "\n",
              "    .dataframe tbody tr th {\n",
              "        vertical-align: top;\n",
              "    }\n",
              "\n",
              "    .dataframe thead th {\n",
              "        text-align: right;\n",
              "    }\n",
              "</style>\n",
              "<table border=\"1\" class=\"dataframe\">\n",
              "  <thead>\n",
              "    <tr style=\"text-align: right;\">\n",
              "      <th></th>\n",
              "      <th>Headline</th>\n",
              "      <th>Article URL</th>\n",
              "    </tr>\n",
              "  </thead>\n",
              "  <tbody>\n",
              "    <tr>\n",
              "      <th>0</th>\n",
              "      <td>Running a Consumer Fintech Startup within Gold...</td>\n",
              "      <td>https://hbswk.hbs.edu/item/cold-call-running-a...</td>\n",
              "    </tr>\n",
              "    <tr>\n",
              "      <th>1</th>\n",
              "      <td>White Airbnb Hosts Earn More. Can AI Shrink th...</td>\n",
              "      <td>https://hbswk.hbs.edu/item/white-airbnb-hosts-...</td>\n",
              "    </tr>\n",
              "    <tr>\n",
              "      <th>2</th>\n",
              "      <td>Time Dependency, Data Flow, and Competitive Ad...</td>\n",
              "      <td>https://hbswk.hbs.edu/item/time-dependency-dat...</td>\n",
              "    </tr>\n",
              "    <tr>\n",
              "      <th>3</th>\n",
              "      <td>Disrupting the Waste Industry with Technology</td>\n",
              "      <td>https://hbswk.hbs.edu/item/cold-call-disruptin...</td>\n",
              "    </tr>\n",
              "    <tr>\n",
              "      <th>4</th>\n",
              "      <td>Assessing the Strength of Network Effects in S...</td>\n",
              "      <td>https://hbswk.hbs.edu/item/assessing-the-stren...</td>\n",
              "    </tr>\n",
              "  </tbody>\n",
              "</table>\n",
              "</div>"
            ],
            "text/plain": [
              "                                            Headline                                        Article URL\n",
              "0  Running a Consumer Fintech Startup within Gold...  https://hbswk.hbs.edu/item/cold-call-running-a...\n",
              "1  White Airbnb Hosts Earn More. Can AI Shrink th...  https://hbswk.hbs.edu/item/white-airbnb-hosts-...\n",
              "2  Time Dependency, Data Flow, and Competitive Ad...  https://hbswk.hbs.edu/item/time-dependency-dat...\n",
              "3      Disrupting the Waste Industry with Technology  https://hbswk.hbs.edu/item/cold-call-disruptin...\n",
              "4  Assessing the Strength of Network Effects in S...  https://hbswk.hbs.edu/item/assessing-the-stren..."
            ]
          },
          "metadata": {
            "tags": []
          },
          "execution_count": 20
        }
      ]
    },
    {
      "cell_type": "code",
      "metadata": {
        "id": "CQE1WLMdzQe8"
      },
      "source": [
        "#Adding an extra column to the dataframe for collecting the text and author\n",
        "\n",
        "collect = []\n",
        "author = []\n",
        "domain = []\n",
        "\n",
        "for x in HBR['Article URL']:\n",
        "  #Getting Inside Page\n",
        "\n",
        "  #Loading URL\n",
        "  url_article = x\n",
        "\n",
        "  #Download the data from the inside page\n",
        "  try:\n",
        "    data_inside = requests.get(x).text\n",
        "  except:\n",
        "    pass\n",
        "\n",
        "  #time.sleep(1)\n",
        "\n",
        "  #Parse the data using Beautiful Soup\n",
        "  soup_inside = BeautifulSoup(data_inside, \"lxml\")\n",
        "\n",
        "  #Getting just the article content from the page\n",
        "  for p in soup_inside.find_all('div', class_='citrus-inherit story-body'):\n",
        "    try:\n",
        "      text = p.get_text()\n",
        "    except:\n",
        "      pass\n",
        "    text.encode(\"ascii\", \"ignore\")\n",
        "    text.encode(\"utf-8\", \"ignore\")\n",
        "    collect.append(text)\n",
        "\n",
        "#Getting author from the page\n",
        "  Author_Flag = bool(soup_inside.find('span', class_='kappa regular'))\n",
        "  if Author_Flag == True:\n",
        "    for au in soup_inside.find_all('span', class_='kappa regular'):\n",
        "      try:\n",
        "        a = au.get_text()\n",
        "      except:\n",
        "        pass\n",
        "  else:\n",
        "    a = 'Unknown'\n",
        "  \n",
        "  text.encode(\"ascii\", \"ignore\")\n",
        "  text.encode(\"utf-8\", \"ignore\")\n",
        "  author.append(a)\n",
        "\n",
        "  #Appending the Domain\n",
        "  domain.append(\"Technology\")\n",
        "\n",
        "#Made a new column in data and added the text to that\n",
        "HBR['Article'] = collect\n",
        "HBR['Domain'] = domain\n",
        "HBR['Author'] = author "
      ],
      "execution_count": null,
      "outputs": []
    },
    {
      "cell_type": "code",
      "metadata": {
        "colab": {
          "base_uri": "https://localhost:8080/"
        },
        "id": "-2didoWnAud7",
        "outputId": "32e80bb3-ee2f-439d-f0d1-2dcb025b43cc"
      },
      "source": [
        "HBR.shape"
      ],
      "execution_count": null,
      "outputs": [
        {
          "output_type": "execute_result",
          "data": {
            "text/plain": [
              "(260, 5)"
            ]
          },
          "metadata": {
            "tags": []
          },
          "execution_count": 22
        }
      ]
    },
    {
      "cell_type": "code",
      "metadata": {
        "id": "oKhem_KfPNEO",
        "colab": {
          "base_uri": "https://localhost:8080/",
          "height": 289
        },
        "outputId": "b3ceec7a-0a62-441e-e28a-c71f46ade622"
      },
      "source": [
        "HBR.head(5)"
      ],
      "execution_count": null,
      "outputs": [
        {
          "output_type": "execute_result",
          "data": {
            "text/html": [
              "<div>\n",
              "<style scoped>\n",
              "    .dataframe tbody tr th:only-of-type {\n",
              "        vertical-align: middle;\n",
              "    }\n",
              "\n",
              "    .dataframe tbody tr th {\n",
              "        vertical-align: top;\n",
              "    }\n",
              "\n",
              "    .dataframe thead th {\n",
              "        text-align: right;\n",
              "    }\n",
              "</style>\n",
              "<table border=\"1\" class=\"dataframe\">\n",
              "  <thead>\n",
              "    <tr style=\"text-align: right;\">\n",
              "      <th></th>\n",
              "      <th>Headline</th>\n",
              "      <th>Article URL</th>\n",
              "      <th>Article</th>\n",
              "      <th>Domain</th>\n",
              "      <th>Author</th>\n",
              "    </tr>\n",
              "  </thead>\n",
              "  <tbody>\n",
              "    <tr>\n",
              "      <th>0</th>\n",
              "      <td>Running a Consumer Fintech Startup within Gold...</td>\n",
              "      <td>https://hbswk.hbs.edu/item/cold-call-running-a...</td>\n",
              "      <td>\\n\\n\\nBrian Kenny: The German Revolution of 18...</td>\n",
              "      <td>Technology</td>\n",
              "      <td>Unknown</td>\n",
              "    </tr>\n",
              "    <tr>\n",
              "      <th>1</th>\n",
              "      <td>White Airbnb Hosts Earn More. Can AI Shrink th...</td>\n",
              "      <td>https://hbswk.hbs.edu/item/white-airbnb-hosts-...</td>\n",
              "      <td>\\nWhite people who host rental properties on A...</td>\n",
              "      <td>Technology</td>\n",
              "      <td>by \\n                     Lane Lambert</td>\n",
              "    </tr>\n",
              "    <tr>\n",
              "      <th>2</th>\n",
              "      <td>Time Dependency, Data Flow, and Competitive Ad...</td>\n",
              "      <td>https://hbswk.hbs.edu/item/time-dependency-dat...</td>\n",
              "      <td>\\nAuthor Abstract\\n\\nData is fundamental to ma...</td>\n",
              "      <td>Technology</td>\n",
              "      <td>by Ehsan Valavi, Joel Hestness, Marco Iansiti,...</td>\n",
              "    </tr>\n",
              "    <tr>\n",
              "      <th>3</th>\n",
              "      <td>Disrupting the Waste Industry with Technology</td>\n",
              "      <td>https://hbswk.hbs.edu/item/cold-call-disruptin...</td>\n",
              "      <td>\\n\\n\\nBrian Kenny: Americans throw a lot of st...</td>\n",
              "      <td>Technology</td>\n",
              "      <td>Unknown</td>\n",
              "    </tr>\n",
              "    <tr>\n",
              "      <th>4</th>\n",
              "      <td>Assessing the Strength of Network Effects in S...</td>\n",
              "      <td>https://hbswk.hbs.edu/item/assessing-the-stren...</td>\n",
              "      <td>\\nAuthor Abstract\\n\\nNetwork effects have rise...</td>\n",
              "      <td>Technology</td>\n",
              "      <td>by Marco Iansiti</td>\n",
              "    </tr>\n",
              "  </tbody>\n",
              "</table>\n",
              "</div>"
            ],
            "text/plain": [
              "                                            Headline  ...                                             Author\n",
              "0  Running a Consumer Fintech Startup within Gold...  ...                                            Unknown\n",
              "1  White Airbnb Hosts Earn More. Can AI Shrink th...  ...             by \\n                     Lane Lambert\n",
              "2  Time Dependency, Data Flow, and Competitive Ad...  ...  by Ehsan Valavi, Joel Hestness, Marco Iansiti,...\n",
              "3      Disrupting the Waste Industry with Technology  ...                                            Unknown\n",
              "4  Assessing the Strength of Network Effects in S...  ...                                   by Marco Iansiti\n",
              "\n",
              "[5 rows x 5 columns]"
            ]
          },
          "metadata": {
            "tags": []
          },
          "execution_count": 23
        }
      ]
    },
    {
      "cell_type": "code",
      "metadata": {
        "colab": {
          "base_uri": "https://localhost:8080/",
          "height": 17
        },
        "id": "OmH2WzgIPVBi",
        "outputId": "8b77a13f-0efc-44b6-90a5-359d56096a12"
      },
      "source": [
        "HBR.to_csv(\"HBR Articles_Technology.csv\")\n",
        "\n",
        "#Download the file to the laptop\n",
        "files.download('HBR Articles_Technology.csv')"
      ],
      "execution_count": null,
      "outputs": [
        {
          "output_type": "display_data",
          "data": {
            "application/javascript": [
              "\n",
              "    async function download(id, filename, size) {\n",
              "      if (!google.colab.kernel.accessAllowed) {\n",
              "        return;\n",
              "      }\n",
              "      const div = document.createElement('div');\n",
              "      const label = document.createElement('label');\n",
              "      label.textContent = `Downloading \"${filename}\": `;\n",
              "      div.appendChild(label);\n",
              "      const progress = document.createElement('progress');\n",
              "      progress.max = size;\n",
              "      div.appendChild(progress);\n",
              "      document.body.appendChild(div);\n",
              "\n",
              "      const buffers = [];\n",
              "      let downloaded = 0;\n",
              "\n",
              "      const channel = await google.colab.kernel.comms.open(id);\n",
              "      // Send a message to notify the kernel that we're ready.\n",
              "      channel.send({})\n",
              "\n",
              "      for await (const message of channel.messages) {\n",
              "        // Send a message to notify the kernel that we're ready.\n",
              "        channel.send({})\n",
              "        if (message.buffers) {\n",
              "          for (const buffer of message.buffers) {\n",
              "            buffers.push(buffer);\n",
              "            downloaded += buffer.byteLength;\n",
              "            progress.value = downloaded;\n",
              "          }\n",
              "        }\n",
              "      }\n",
              "      const blob = new Blob(buffers, {type: 'application/binary'});\n",
              "      const a = document.createElement('a');\n",
              "      a.href = window.URL.createObjectURL(blob);\n",
              "      a.download = filename;\n",
              "      div.appendChild(a);\n",
              "      a.click();\n",
              "      div.remove();\n",
              "    }\n",
              "  "
            ],
            "text/plain": [
              "<IPython.core.display.Javascript object>"
            ]
          },
          "metadata": {
            "tags": []
          }
        },
        {
          "output_type": "display_data",
          "data": {
            "application/javascript": [
              "download(\"download_d87c0d39-a6a5-4510-a1c7-eaa85f193810\", \"HBR Articles_Technology.csv\", 2097759)"
            ],
            "text/plain": [
              "<IPython.core.display.Javascript object>"
            ]
          },
          "metadata": {
            "tags": []
          }
        }
      ]
    }
  ]
}