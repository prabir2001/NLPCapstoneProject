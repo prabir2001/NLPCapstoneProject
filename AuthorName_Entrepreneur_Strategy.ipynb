{
  "nbformat": 4,
  "nbformat_minor": 0,
  "metadata": {
    "colab": {
      "name": "Corrected AuthorName Entrepreneur Strategy.ipynb",
      "provenance": [],
      "collapsed_sections": []
    },
    "kernelspec": {
      "display_name": "Python 3",
      "name": "python3"
    },
    "language_info": {
      "name": "python"
    }
  },
  "cells": [
    {
      "cell_type": "markdown",
      "metadata": {
        "id": "LaKFUdAdcpp9"
      },
      "source": [
        "https://www.entrepreneur.com/topic/growth-strategies/\n",
        "---\n",
        "\n"
      ]
    },
    {
      "cell_type": "code",
      "metadata": {
        "id": "-Z1V23urwyRr"
      },
      "source": [
        "import requests\n",
        "import pandas as pd\n",
        "from google.colab import files\n",
        "import time"
      ],
      "execution_count": 1,
      "outputs": []
    },
    {
      "cell_type": "code",
      "metadata": {
        "id": "c9k_v62qCP5Y"
      },
      "source": [
        "from bs4 import BeautifulSoup"
      ],
      "execution_count": 2,
      "outputs": []
    },
    {
      "cell_type": "code",
      "metadata": {
        "colab": {
          "base_uri": "https://localhost:8080/"
        },
        "id": "OgdOF604CQpS",
        "outputId": "3c779d16-90ad-4ba8-f329-a3a9565747fa"
      },
      "source": [
        "pip install lxml"
      ],
      "execution_count": 3,
      "outputs": [
        {
          "output_type": "stream",
          "text": [
            "Requirement already satisfied: lxml in /usr/local/lib/python3.7/dist-packages (4.2.6)\n"
          ],
          "name": "stdout"
        }
      ]
    },
    {
      "cell_type": "code",
      "metadata": {
        "colab": {
          "base_uri": "https://localhost:8080/"
        },
        "id": "O9hPhy4nyQLz",
        "outputId": "cb622e46-308a-4814-de1e-580d39de1c81"
      },
      "source": [
        "from google.colab import drive\n",
        "drive.mount('/content/drive')"
      ],
      "execution_count": 4,
      "outputs": [
        {
          "output_type": "stream",
          "text": [
            "Mounted at /content/drive\n"
          ],
          "name": "stdout"
        }
      ]
    },
    {
      "cell_type": "code",
      "metadata": {
        "id": "DpX3a0JDD1Im"
      },
      "source": [
        "u = []\n",
        "Ent = pd.DataFrame()\n",
        "\n",
        "common_url = 'https://www.entrepreneur.com/topic/growth-strategies/'\n",
        "for i in range(1,1001):\n",
        "  url = (common_url + str(i))\n",
        "  #print('From page:',url)\n",
        "  #time.sleep(3)\n",
        "  data = requests.get(url).text\n",
        "  soup = BeautifulSoup(data, \"lxml\")\n",
        "  for x in soup.find_all('div', class_=\"flex-1 px-6 pt-4 pb-2 flex flex-col\"):\n",
        "    for y in x.find_all('a',class_='block ga-click'):\n",
        "      z = y.get('href')\n",
        "      u.append('https://www.entrepreneur.com'+z)\n",
        "      #print('https://www.entrepreneur.com'+z)\n",
        "Ent['Article URL'] = u"
      ],
      "execution_count": 6,
      "outputs": []
    },
    {
      "cell_type": "code",
      "metadata": {
        "id": "bUGyAj1kdCDD",
        "colab": {
          "base_uri": "https://localhost:8080/"
        },
        "outputId": "158354a4-3c56-4ac5-d253-699695be0872"
      },
      "source": [
        "Ent.shape"
      ],
      "execution_count": 7,
      "outputs": [
        {
          "output_type": "execute_result",
          "data": {
            "text/plain": [
              "(3003, 1)"
            ]
          },
          "metadata": {
            "tags": []
          },
          "execution_count": 7
        }
      ]
    },
    {
      "cell_type": "code",
      "metadata": {
        "id": "bFUv8bOJkAXz",
        "colab": {
          "base_uri": "https://localhost:8080/",
          "height": 204
        },
        "outputId": "9afe11e4-d3f9-430b-cc92-35898224654f"
      },
      "source": [
        "Ent.head()"
      ],
      "execution_count": 8,
      "outputs": [
        {
          "output_type": "execute_result",
          "data": {
            "text/html": [
              "<div>\n",
              "<style scoped>\n",
              "    .dataframe tbody tr th:only-of-type {\n",
              "        vertical-align: middle;\n",
              "    }\n",
              "\n",
              "    .dataframe tbody tr th {\n",
              "        vertical-align: top;\n",
              "    }\n",
              "\n",
              "    .dataframe thead th {\n",
              "        text-align: right;\n",
              "    }\n",
              "</style>\n",
              "<table border=\"1\" class=\"dataframe\">\n",
              "  <thead>\n",
              "    <tr style=\"text-align: right;\">\n",
              "      <th></th>\n",
              "      <th>Article URL</th>\n",
              "    </tr>\n",
              "  </thead>\n",
              "  <tbody>\n",
              "    <tr>\n",
              "      <th>0</th>\n",
              "      <td>https://www.entrepreneur.com/article/366129</td>\n",
              "    </tr>\n",
              "    <tr>\n",
              "      <th>1</th>\n",
              "      <td>https://www.entrepreneur.com/article/365889</td>\n",
              "    </tr>\n",
              "    <tr>\n",
              "      <th>2</th>\n",
              "      <td>https://www.entrepreneur.com/article/373097</td>\n",
              "    </tr>\n",
              "    <tr>\n",
              "      <th>3</th>\n",
              "      <td>https://www.entrepreneur.com/article/371671</td>\n",
              "    </tr>\n",
              "    <tr>\n",
              "      <th>4</th>\n",
              "      <td>https://www.entrepreneur.com/article/371543</td>\n",
              "    </tr>\n",
              "  </tbody>\n",
              "</table>\n",
              "</div>"
            ],
            "text/plain": [
              "                                   Article URL\n",
              "0  https://www.entrepreneur.com/article/366129\n",
              "1  https://www.entrepreneur.com/article/365889\n",
              "2  https://www.entrepreneur.com/article/373097\n",
              "3  https://www.entrepreneur.com/article/371671\n",
              "4  https://www.entrepreneur.com/article/371543"
            ]
          },
          "metadata": {
            "tags": []
          },
          "execution_count": 8
        }
      ]
    },
    {
      "cell_type": "code",
      "metadata": {
        "id": "ODD9qvbNbj8_"
      },
      "source": [
        "Ent = Ent[~Ent['Article URL'].str.contains(\"slideshow\")]\n",
        "Ent = Ent[~Ent['Article URL'].str.contains(\"page\")]\n",
        "Ent = Ent[~Ent['Article URL'].str.contains(\"video\")]\n",
        "Ent = Ent[~Ent['Article URL'].str.contains(\"answer\")]"
      ],
      "execution_count": 9,
      "outputs": []
    },
    {
      "cell_type": "code",
      "metadata": {
        "id": "zeGk3l1u7FOu",
        "colab": {
          "base_uri": "https://localhost:8080/"
        },
        "outputId": "723b8fe7-3801-4665-b77d-f10f175e9499"
      },
      "source": [
        "Ent.shape"
      ],
      "execution_count": 10,
      "outputs": [
        {
          "output_type": "execute_result",
          "data": {
            "text/plain": [
              "(2721, 1)"
            ]
          },
          "metadata": {
            "tags": []
          },
          "execution_count": 10
        }
      ]
    },
    {
      "cell_type": "code",
      "metadata": {
        "id": "5ULp0VwpCENt"
      },
      "source": [
        "h = [] # To Collect Headlines\n",
        "content = [] #To Collect Articles\n",
        "subdomain = [] #To Collect Sub Domains\n",
        "domain = [] # Domain\n",
        "author = [] #To Collect Author Names\n",
        "\n",
        "for x in Ent['Article URL']:\n",
        "  url_article = x\n",
        "  try:\n",
        "    data_inside = requests.get(x).text\n",
        "  except:\n",
        "    pass\n",
        "\n",
        "  #time.sleep(3)\n",
        "\n",
        "  #Parse the data using Beautiful Soup\n",
        "  soup_inside = BeautifulSoup(data_inside, \"lxml\")\n",
        "\n",
        "#Getting the Headline\n",
        "  for p in soup_inside.find_all('h1', class_='headline'):\n",
        "    try:\n",
        "      headline1 = p.get_text()\n",
        "    except:\n",
        "      pass\n",
        "    h.append(headline1)\n",
        "\n",
        "  #Getting the Content\n",
        "  for q in soup_inside.find_all('div', class_='gate-check'):\n",
        "    try:\n",
        "      a1 = q.get_text()\n",
        "    except:\n",
        "      pass\n",
        "    content.append(a1)\n",
        "\n",
        "  #Getting the Sub Domain\n",
        "  for sd in soup_inside.find(\"a\", attrs={\"class\": \"articlekicker ga-click kickertags\"}):\n",
        "    subdomain.append(sd)\n",
        "\n",
        "  #Appending the Domain\n",
        "  domain.append(\"Stretegy\")\n",
        "\n",
        "  #Getting the Author\n",
        "  Author_Flag = bool(soup_inside.find('div', itemprop='name'))\n",
        "  if Author_Flag == True:\n",
        "      for r in soup_inside.find_all('div', itemprop='name'):\n",
        "      #for r in soup_inside.find_all(\"a\", attrs={\"class\": \"authorname ga-click\"}):\n",
        "          try:\n",
        "            au = r.get_text()\n",
        "          except:\n",
        "            pass     \n",
        "  else:\n",
        "    au = 'Unknown'\n",
        "  \n",
        "  author.append(au)\n",
        "\n",
        "#Made a new column in data and added the text to that\n",
        "Ent['Headline'] = h\n",
        "Ent['Article Text'] = content\n",
        "Ent['Sub Domain'] = subdomain\n",
        "Ent['Domain'] = domain\n",
        "Ent['Author'] = author"
      ],
      "execution_count": 11,
      "outputs": []
    },
    {
      "cell_type": "code",
      "metadata": {
        "id": "lBjQ-aRQ0_HJ",
        "colab": {
          "base_uri": "https://localhost:8080/"
        },
        "outputId": "16194920-f113-4f44-ca2f-0a88dd90dd43"
      },
      "source": [
        "len(h)"
      ],
      "execution_count": 12,
      "outputs": [
        {
          "output_type": "execute_result",
          "data": {
            "text/plain": [
              "2721"
            ]
          },
          "metadata": {
            "tags": []
          },
          "execution_count": 12
        }
      ]
    },
    {
      "cell_type": "code",
      "metadata": {
        "id": "yxl3AAWihMlS",
        "colab": {
          "base_uri": "https://localhost:8080/"
        },
        "outputId": "912ac6ee-882b-4936-ad81-ddb7e8c5f53e"
      },
      "source": [
        "len(author)"
      ],
      "execution_count": 13,
      "outputs": [
        {
          "output_type": "execute_result",
          "data": {
            "text/plain": [
              "2721"
            ]
          },
          "metadata": {
            "tags": []
          },
          "execution_count": 13
        }
      ]
    },
    {
      "cell_type": "code",
      "metadata": {
        "id": "-2didoWnAud7",
        "colab": {
          "base_uri": "https://localhost:8080/"
        },
        "outputId": "b46d612f-904b-4334-ba16-11767d4f4ef8"
      },
      "source": [
        "Ent.shape"
      ],
      "execution_count": 14,
      "outputs": [
        {
          "output_type": "execute_result",
          "data": {
            "text/plain": [
              "(2721, 6)"
            ]
          },
          "metadata": {
            "tags": []
          },
          "execution_count": 14
        }
      ]
    },
    {
      "cell_type": "code",
      "metadata": {
        "id": "oKhem_KfPNEO",
        "colab": {
          "base_uri": "https://localhost:8080/",
          "height": 580
        },
        "outputId": "8694d5ae-94c6-4e51-9734-265692448ad4"
      },
      "source": [
        "Ent.head(10)"
      ],
      "execution_count": 15,
      "outputs": [
        {
          "output_type": "execute_result",
          "data": {
            "text/html": [
              "<div>\n",
              "<style scoped>\n",
              "    .dataframe tbody tr th:only-of-type {\n",
              "        vertical-align: middle;\n",
              "    }\n",
              "\n",
              "    .dataframe tbody tr th {\n",
              "        vertical-align: top;\n",
              "    }\n",
              "\n",
              "    .dataframe thead th {\n",
              "        text-align: right;\n",
              "    }\n",
              "</style>\n",
              "<table border=\"1\" class=\"dataframe\">\n",
              "  <thead>\n",
              "    <tr style=\"text-align: right;\">\n",
              "      <th></th>\n",
              "      <th>Article URL</th>\n",
              "      <th>Headline</th>\n",
              "      <th>Article Text</th>\n",
              "      <th>Sub Domain</th>\n",
              "      <th>Domain</th>\n",
              "      <th>Author</th>\n",
              "    </tr>\n",
              "  </thead>\n",
              "  <tbody>\n",
              "    <tr>\n",
              "      <th>0</th>\n",
              "      <td>https://www.entrepreneur.com/article/366129</td>\n",
              "      <td>\\n\\t\\t\\t\\tHow Convenience Is Marking a New Wav...</td>\n",
              "      <td>\\n\\n\\n\\t\\t\\t\\t\\t\\t\\t\\tMarch\\n\\t\\t\\t\\t\\t\\t\\t\\t2...</td>\n",
              "      <td>Consumer Psychology</td>\n",
              "      <td>Stretegy</td>\n",
              "      <td>Aimee Tariq</td>\n",
              "    </tr>\n",
              "    <tr>\n",
              "      <th>1</th>\n",
              "      <td>https://www.entrepreneur.com/article/365889</td>\n",
              "      <td>\\n\\t\\t\\t\\t3 Sales Tweaks That Could Change The...</td>\n",
              "      <td>\\n\\n\\n\\t\\t\\t\\t\\t\\t\\t\\tMarch\\n\\t\\t\\t\\t\\t\\t\\t\\t3...</td>\n",
              "      <td>Sales Strategies</td>\n",
              "      <td>Stretegy</td>\n",
              "      <td>Imran Tariq</td>\n",
              "    </tr>\n",
              "    <tr>\n",
              "      <th>2</th>\n",
              "      <td>https://www.entrepreneur.com/article/373097</td>\n",
              "      <td>\\n\\t\\t\\t\\t5 Ways Mental Fitness Apps Can Impro...</td>\n",
              "      <td>\\n\\n\\n\\t\\t\\t\\t\\t\\t\\t\\tMay\\n\\t\\t\\t\\t\\t\\t\\t\\t31,...</td>\n",
              "      <td>Lifestyle</td>\n",
              "      <td>Stretegy</td>\n",
              "      <td>Rashan Dixon</td>\n",
              "    </tr>\n",
              "    <tr>\n",
              "      <th>3</th>\n",
              "      <td>https://www.entrepreneur.com/article/371671</td>\n",
              "      <td>\\n\\t\\t\\t\\tBuild a Company That Has Something t...</td>\n",
              "      <td>\\n\\n\\n\\t\\t\\t\\t\\t\\t\\t\\tJune\\n\\t\\t\\t\\t\\t\\t\\t\\t10...</td>\n",
              "      <td>Growth Strategies</td>\n",
              "      <td>Stretegy</td>\n",
              "      <td>Fredrick D. Scott, FMVA</td>\n",
              "    </tr>\n",
              "    <tr>\n",
              "      <th>4</th>\n",
              "      <td>https://www.entrepreneur.com/article/371543</td>\n",
              "      <td>\\n\\t\\t\\t\\tYour Business Is Facing a Tight Job ...</td>\n",
              "      <td>\\n\\n\\n\\t\\t\\t\\t\\t\\t\\t\\tJune\\n\\t\\t\\t\\t\\t\\t\\t\\t10...</td>\n",
              "      <td>Growth Strategies</td>\n",
              "      <td>Stretegy</td>\n",
              "      <td>Miles Jennings</td>\n",
              "    </tr>\n",
              "    <tr>\n",
              "      <th>5</th>\n",
              "      <td>https://www.entrepreneur.com/article/373845</td>\n",
              "      <td>\\n\\t\\t\\t\\tHow to Build Your Own Empire Like El...</td>\n",
              "      <td>\\n\\n\\n\\t\\t\\t\\t\\t\\t\\t\\tJune\\n\\t\\t\\t\\t\\t\\t\\t\\t10...</td>\n",
              "      <td>Elon Musk</td>\n",
              "      <td>Stretegy</td>\n",
              "      <td>Kevin Leyes</td>\n",
              "    </tr>\n",
              "    <tr>\n",
              "      <th>6</th>\n",
              "      <td>https://www.entrepreneur.com/article/370294</td>\n",
              "      <td>\\n\\t\\t\\t\\tHow to Grow Your Business With Publi...</td>\n",
              "      <td>\\n\\n\\n\\t\\t\\t\\t\\t\\t\\t\\tJune\\n\\t\\t\\t\\t\\t\\t\\t\\t7,...</td>\n",
              "      <td>Growth</td>\n",
              "      <td>Stretegy</td>\n",
              "      <td>LaQuita Cleare</td>\n",
              "    </tr>\n",
              "    <tr>\n",
              "      <th>7</th>\n",
              "      <td>https://www.entrepreneur.com/article/373311</td>\n",
              "      <td>\\n\\t\\t\\t\\t5 Ways to Harness the Power of Commu...</td>\n",
              "      <td>\\n\\n\\n\\t\\t\\t\\t\\t\\t\\t\\tJune\\n\\t\\t\\t\\t\\t\\t\\t\\t7,...</td>\n",
              "      <td>Customer Engagement</td>\n",
              "      <td>Stretegy</td>\n",
              "      <td>Dasha Kroshkina</td>\n",
              "    </tr>\n",
              "    <tr>\n",
              "      <th>8</th>\n",
              "      <td>https://www.entrepreneur.com/article/373470</td>\n",
              "      <td>\\n\\t\\t\\t\\t5 Lessons Brands Can Learn From the ...</td>\n",
              "      <td>\\n\\n\\n\\t\\t\\t\\t\\t\\t\\t\\tJune\\n\\t\\t\\t\\t\\t\\t\\t\\t7,...</td>\n",
              "      <td>Growth Strategies</td>\n",
              "      <td>Stretegy</td>\n",
              "      <td>Mervik Haums</td>\n",
              "    </tr>\n",
              "    <tr>\n",
              "      <th>9</th>\n",
              "      <td>https://www.entrepreneur.com/article/373054</td>\n",
              "      <td>\\n\\t\\t\\t\\tIn Just One Year, This Cereal Creato...</td>\n",
              "      <td>\\n\\n\\n\\t\\t\\t\\t\\t\\t\\t\\tJune\\n\\t\\t\\t\\t\\t\\t\\t\\t1,...</td>\n",
              "      <td>Food Businesses</td>\n",
              "      <td>Stretegy</td>\n",
              "      <td>Amanda Breen</td>\n",
              "    </tr>\n",
              "  </tbody>\n",
              "</table>\n",
              "</div>"
            ],
            "text/plain": [
              "                                   Article URL  ...                   Author\n",
              "0  https://www.entrepreneur.com/article/366129  ...              Aimee Tariq\n",
              "1  https://www.entrepreneur.com/article/365889  ...              Imran Tariq\n",
              "2  https://www.entrepreneur.com/article/373097  ...             Rashan Dixon\n",
              "3  https://www.entrepreneur.com/article/371671  ...  Fredrick D. Scott, FMVA\n",
              "4  https://www.entrepreneur.com/article/371543  ...           Miles Jennings\n",
              "5  https://www.entrepreneur.com/article/373845  ...              Kevin Leyes\n",
              "6  https://www.entrepreneur.com/article/370294  ...           LaQuita Cleare\n",
              "7  https://www.entrepreneur.com/article/373311  ...          Dasha Kroshkina\n",
              "8  https://www.entrepreneur.com/article/373470  ...             Mervik Haums\n",
              "9  https://www.entrepreneur.com/article/373054  ...             Amanda Breen\n",
              "\n",
              "[10 rows x 6 columns]"
            ]
          },
          "metadata": {
            "tags": []
          },
          "execution_count": 15
        }
      ]
    },
    {
      "cell_type": "code",
      "metadata": {
        "id": "tofxNiuCgJW_",
        "colab": {
          "base_uri": "https://localhost:8080/",
          "height": 1000
        },
        "outputId": "e79430a9-93ab-4b3b-9365-b41775114101"
      },
      "source": [
        "unk_auth = pd.DataFrame(Ent[Ent['Author']=='Unknown'])\n",
        "unk_auth"
      ],
      "execution_count": 16,
      "outputs": [
        {
          "output_type": "execute_result",
          "data": {
            "text/html": [
              "<div>\n",
              "<style scoped>\n",
              "    .dataframe tbody tr th:only-of-type {\n",
              "        vertical-align: middle;\n",
              "    }\n",
              "\n",
              "    .dataframe tbody tr th {\n",
              "        vertical-align: top;\n",
              "    }\n",
              "\n",
              "    .dataframe thead th {\n",
              "        text-align: right;\n",
              "    }\n",
              "</style>\n",
              "<table border=\"1\" class=\"dataframe\">\n",
              "  <thead>\n",
              "    <tr style=\"text-align: right;\">\n",
              "      <th></th>\n",
              "      <th>Article URL</th>\n",
              "      <th>Headline</th>\n",
              "      <th>Article Text</th>\n",
              "      <th>Sub Domain</th>\n",
              "      <th>Domain</th>\n",
              "      <th>Author</th>\n",
              "    </tr>\n",
              "  </thead>\n",
              "  <tbody>\n",
              "    <tr>\n",
              "      <th>259</th>\n",
              "      <td>https://www.entrepreneur.com/article/348516</td>\n",
              "      <td>\\n\\t\\t\\t\\tForget Scaling Your Business 10X Unl...</td>\n",
              "      <td>\\n\\n\\n\\t\\t\\t\\t\\t\\t\\t\\tApril\\n\\t\\t\\t\\t\\t\\t\\t\\t3...</td>\n",
              "      <td>Scaling</td>\n",
              "      <td>Stretegy</td>\n",
              "      <td>Unknown</td>\n",
              "    </tr>\n",
              "    <tr>\n",
              "      <th>269</th>\n",
              "      <td>https://www.entrepreneur.com/article/347716</td>\n",
              "      <td>\\n\\t\\t\\t\\t7 Unconventional Things You Need to ...</td>\n",
              "      <td>\\n\\n\\n\\t\\t\\t\\t\\t\\t\\t\\tMarch\\n\\t\\t\\t\\t\\t\\t\\t\\t1...</td>\n",
              "      <td>Scaling up</td>\n",
              "      <td>Stretegy</td>\n",
              "      <td>Unknown</td>\n",
              "    </tr>\n",
              "    <tr>\n",
              "      <th>496</th>\n",
              "      <td>https://www.entrepreneur.com/article/327610</td>\n",
              "      <td>\\n\\t\\t\\t\\tThe Secrets to Becoming a High-Incom...</td>\n",
              "      <td>\\n\\n\\n\\t\\t\\t\\t\\t\\t\\t\\tFebruary\\n\\t\\t\\t\\t\\t\\t\\t...</td>\n",
              "      <td>Public Speaking</td>\n",
              "      <td>Stretegy</td>\n",
              "      <td>Unknown</td>\n",
              "    </tr>\n",
              "    <tr>\n",
              "      <th>592</th>\n",
              "      <td>https://www.entrepreneur.com/article/320786</td>\n",
              "      <td>\\n\\t\\t\\t\\t10 Tips to Find (and Keep) the Perfe...</td>\n",
              "      <td>\\n\\n\\n\\t\\t\\t\\t\\t\\t\\t\\tOctober\\n\\t\\t\\t\\t\\t\\t\\t\\...</td>\n",
              "      <td>Mentors</td>\n",
              "      <td>Stretegy</td>\n",
              "      <td>Unknown</td>\n",
              "    </tr>\n",
              "    <tr>\n",
              "      <th>763</th>\n",
              "      <td>https://www.entrepreneur.com/article/310691</td>\n",
              "      <td>\\n\\t\\t\\t\\t8 Proven Habits for Ultimate Success...</td>\n",
              "      <td>\\n\\n\\n\\t\\t\\t\\t\\t\\t\\t\\tMarch\\n\\t\\t\\t\\t\\t\\t\\t\\t2...</td>\n",
              "      <td>Success Habits</td>\n",
              "      <td>Stretegy</td>\n",
              "      <td>Unknown</td>\n",
              "    </tr>\n",
              "    <tr>\n",
              "      <th>766</th>\n",
              "      <td>https://www.entrepreneur.com/article/310515</td>\n",
              "      <td>\\n\\t\\t\\t\\tIs Pivoting a Last-Ditch Effort or a...</td>\n",
              "      <td>\\n\\n\\n\\t\\t\\t\\t\\t\\t\\t\\tMarch\\n\\t\\t\\t\\t\\t\\t\\t\\t1...</td>\n",
              "      <td>Pivots</td>\n",
              "      <td>Stretegy</td>\n",
              "      <td>Unknown</td>\n",
              "    </tr>\n",
              "    <tr>\n",
              "      <th>886</th>\n",
              "      <td>https://www.entrepreneur.com/article/301069</td>\n",
              "      <td>\\n\\t\\t\\t\\t7 Bad Workplace Habits Millennials N...</td>\n",
              "      <td>\\n\\n\\n\\t\\t\\t\\t\\t\\t\\t\\tOctober\\n\\t\\t\\t\\t\\t\\t\\t\\...</td>\n",
              "      <td>Millennials</td>\n",
              "      <td>Stretegy</td>\n",
              "      <td>Unknown</td>\n",
              "    </tr>\n",
              "    <tr>\n",
              "      <th>921</th>\n",
              "      <td>https://www.entrepreneur.com/article/299000</td>\n",
              "      <td>\\n\\t\\t\\t\\t5 Project Management Mistakes That C...</td>\n",
              "      <td>\\n\\n\\n\\t\\t\\t\\t\\t\\t\\t\\tAugust\\n\\t\\t\\t\\t\\t\\t\\t\\t...</td>\n",
              "      <td>Project Management</td>\n",
              "      <td>Stretegy</td>\n",
              "      <td>Unknown</td>\n",
              "    </tr>\n",
              "    <tr>\n",
              "      <th>975</th>\n",
              "      <td>https://www.entrepreneur.com/article/295886</td>\n",
              "      <td>\\n\\t\\t\\t\\t7 Steps to Building a Personal Brand...</td>\n",
              "      <td>\\n\\n\\n\\t\\t\\t\\t\\t\\t\\t\\tJune\\n\\t\\t\\t\\t\\t\\t\\t\\t26...</td>\n",
              "      <td>Personal Branding</td>\n",
              "      <td>Stretegy</td>\n",
              "      <td>Unknown</td>\n",
              "    </tr>\n",
              "    <tr>\n",
              "      <th>1039</th>\n",
              "      <td>https://www.entrepreneur.com/article/291082</td>\n",
              "      <td>\\n\\t\\t\\t\\t7 Misconceptions About Entrepreneurs...</td>\n",
              "      <td>\\n\\n\\n\\t\\t\\t\\t\\t\\t\\t\\tApril\\n\\t\\t\\t\\t\\t\\t\\t\\t1...</td>\n",
              "      <td>Cultivating Emotional Intelligence</td>\n",
              "      <td>Stretegy</td>\n",
              "      <td>Unknown</td>\n",
              "    </tr>\n",
              "    <tr>\n",
              "      <th>1102</th>\n",
              "      <td>https://www.entrepreneur.com/article/288370</td>\n",
              "      <td>\\n\\t\\t\\t\\tDo You Have 'Shiny Object' Syndrome?...</td>\n",
              "      <td>\\n\\n\\n\\t\\t\\t\\t\\t\\t\\t\\tFebruary\\n\\t\\t\\t\\t\\t\\t\\t...</td>\n",
              "      <td>Prepare to Succeed</td>\n",
              "      <td>Stretegy</td>\n",
              "      <td>Unknown</td>\n",
              "    </tr>\n",
              "    <tr>\n",
              "      <th>1123</th>\n",
              "      <td>https://www.entrepreneur.com/article/287438</td>\n",
              "      <td>\\n\\t\\t\\t\\t5 Major Artificial Intelligence Hurd...</td>\n",
              "      <td>\\n\\n\\n\\t\\t\\t\\t\\t\\t\\t\\tJanuary\\n\\t\\t\\t\\t\\t\\t\\t\\...</td>\n",
              "      <td>Artificial Intelligence</td>\n",
              "      <td>Stretegy</td>\n",
              "      <td>Unknown</td>\n",
              "    </tr>\n",
              "    <tr>\n",
              "      <th>1126</th>\n",
              "      <td>https://www.entrepreneur.com/article/286611</td>\n",
              "      <td>\\n\\t\\t\\t\\t5 Mega-Successful Entrepreneurs Who ...</td>\n",
              "      <td>\\n\\n\\n\\t\\t\\t\\t\\t\\t\\t\\tJanuary\\n\\t\\t\\t\\t\\t\\t\\t\\...</td>\n",
              "      <td>Cultivating Emotional Intelligence</td>\n",
              "      <td>Stretegy</td>\n",
              "      <td>Unknown</td>\n",
              "    </tr>\n",
              "    <tr>\n",
              "      <th>1195</th>\n",
              "      <td>https://www.entrepreneur.com/article/284768</td>\n",
              "      <td>\\n\\t\\t\\t\\t101 Efficiency Hacks for Busy Entrep...</td>\n",
              "      <td>\\n\\n\\n\\t\\t\\t\\t\\t\\t\\t\\tNovember\\n\\t\\t\\t\\t\\t\\t\\t...</td>\n",
              "      <td>Prepare to Succeed</td>\n",
              "      <td>Stretegy</td>\n",
              "      <td>Unknown</td>\n",
              "    </tr>\n",
              "    <tr>\n",
              "      <th>1300</th>\n",
              "      <td>https://www.entrepreneur.com/article/279523</td>\n",
              "      <td>\\n\\t\\t\\t\\t4 Risky Marketing Ideas That Paid Of...</td>\n",
              "      <td>\\n\\n\\n\\t\\t\\t\\t\\t\\t\\t\\tAugust\\n\\t\\t\\t\\t\\t\\t\\t\\t...</td>\n",
              "      <td>Taking Risks</td>\n",
              "      <td>Stretegy</td>\n",
              "      <td>Unknown</td>\n",
              "    </tr>\n",
              "    <tr>\n",
              "      <th>1371</th>\n",
              "      <td>https://www.entrepreneur.com/article/276563</td>\n",
              "      <td>\\n\\t\\t\\t\\tHow to Define and Implement a Social...</td>\n",
              "      <td>\\n\\n\\n\\t\\t\\t\\t\\t\\t\\t\\tJune\\n\\t\\t\\t\\t\\t\\t\\t\\t2,...</td>\n",
              "      <td>social mission</td>\n",
              "      <td>Stretegy</td>\n",
              "      <td>Unknown</td>\n",
              "    </tr>\n",
              "    <tr>\n",
              "      <th>1440</th>\n",
              "      <td>https://www.entrepreneur.com/article/272711</td>\n",
              "      <td>\\n\\t\\t\\t\\t10 Simple Ways to Improve Customer R...</td>\n",
              "      <td>\\n\\n\\n\\t\\t\\t\\t\\t\\t\\t\\tMarch\\n\\t\\t\\t\\t\\t\\t\\t\\t2...</td>\n",
              "      <td>Prepare to Succeed</td>\n",
              "      <td>Stretegy</td>\n",
              "      <td>Unknown</td>\n",
              "    </tr>\n",
              "    <tr>\n",
              "      <th>1559</th>\n",
              "      <td>https://www.entrepreneur.com/article/254049</td>\n",
              "      <td>\\n\\t\\t\\t\\tHow Does Company Culture Actually Le...</td>\n",
              "      <td>\\n\\n\\n\\t\\t\\t\\t\\t\\t\\t\\tDecember\\n\\t\\t\\t\\t\\t\\t\\t...</td>\n",
              "      <td>Company Culture</td>\n",
              "      <td>Stretegy</td>\n",
              "      <td>Unknown</td>\n",
              "    </tr>\n",
              "    <tr>\n",
              "      <th>1674</th>\n",
              "      <td>https://www.entrepreneur.com/article/250537</td>\n",
              "      <td>\\n\\t\\t\\t\\tThe One Question That Can Transform ...</td>\n",
              "      <td>\\n\\n\\n\\t\\t\\t\\t\\t\\t\\t\\tSeptember\\n\\t\\t\\t\\t\\t\\t\\...</td>\n",
              "      <td>Strategic Planning</td>\n",
              "      <td>Stretegy</td>\n",
              "      <td>Unknown</td>\n",
              "    </tr>\n",
              "    <tr>\n",
              "      <th>1687</th>\n",
              "      <td>https://www.entrepreneur.com/article/250037</td>\n",
              "      <td>\\n\\t\\t\\t\\t5 Entrepreneurial Roadblocks You Nev...</td>\n",
              "      <td>\\n\\n\\n\\t\\t\\t\\t\\t\\t\\t\\tSeptember\\n\\t\\t\\t\\t\\t\\t\\...</td>\n",
              "      <td>Prepare to Succeed</td>\n",
              "      <td>Stretegy</td>\n",
              "      <td>Unknown</td>\n",
              "    </tr>\n",
              "    <tr>\n",
              "      <th>1964</th>\n",
              "      <td>https://www.entrepreneur.com/article/241505</td>\n",
              "      <td>\\n\\t\\t\\t\\t4 Goals Every Small-Business Owner S...</td>\n",
              "      <td>\\n\\n\\n\\t\\t\\t\\t\\t\\t\\t\\tJanuary\\n\\t\\t\\t\\t\\t\\t\\t\\...</td>\n",
              "      <td>Business Planning</td>\n",
              "      <td>Stretegy</td>\n",
              "      <td>Unknown</td>\n",
              "    </tr>\n",
              "    <tr>\n",
              "      <th>1971</th>\n",
              "      <td>https://www.entrepreneur.com/article/241304</td>\n",
              "      <td>\\n\\t\\t\\t\\t7 Failures Every Entrepreneur Must E...</td>\n",
              "      <td>\\n\\n\\n\\t\\t\\t\\t\\t\\t\\t\\tJanuary\\n\\t\\t\\t\\t\\t\\t\\t\\...</td>\n",
              "      <td>Failure</td>\n",
              "      <td>Stretegy</td>\n",
              "      <td>Unknown</td>\n",
              "    </tr>\n",
              "    <tr>\n",
              "      <th>2027</th>\n",
              "      <td>https://www.entrepreneur.com/article/239852</td>\n",
              "      <td>\\n\\t\\t\\t\\tHere's How to Tell a Buyer He's Wron...</td>\n",
              "      <td>\\n\\n\\t\\t\\t\\t\\t\\tThis story originally appeared...</td>\n",
              "      <td>Customer Relationship</td>\n",
              "      <td>Stretegy</td>\n",
              "      <td>Unknown</td>\n",
              "    </tr>\n",
              "    <tr>\n",
              "      <th>2042</th>\n",
              "      <td>https://www.entrepreneur.com/article/239423</td>\n",
              "      <td>\\n\\t\\t\\t\\tUse the 'Puppy' Approach to Close Mo...</td>\n",
              "      <td>\\n\\n\\t\\t\\t\\t\\t\\tThis story originally appeared...</td>\n",
              "      <td>Closing Sales</td>\n",
              "      <td>Stretegy</td>\n",
              "      <td>Unknown</td>\n",
              "    </tr>\n",
              "    <tr>\n",
              "      <th>2112</th>\n",
              "      <td>https://www.entrepreneur.com/article/237064</td>\n",
              "      <td>\\n\\t\\t\\t\\tImprove Your Sales Team's Performanc...</td>\n",
              "      <td>\\n\\n\\t\\t\\t\\t\\t\\tThis story originally appeared...</td>\n",
              "      <td>Sales</td>\n",
              "      <td>Stretegy</td>\n",
              "      <td>Unknown</td>\n",
              "    </tr>\n",
              "    <tr>\n",
              "      <th>2118</th>\n",
              "      <td>https://www.entrepreneur.com/article/237077</td>\n",
              "      <td>\\n\\t\\t\\t\\t10 Lessons Every Entrepreneur Must L...</td>\n",
              "      <td>\\n\\n\\n\\t\\t\\t\\t\\t\\t\\t\\tSeptember\\n\\t\\t\\t\\t\\t\\t\\...</td>\n",
              "      <td>Lessons</td>\n",
              "      <td>Stretegy</td>\n",
              "      <td>Unknown</td>\n",
              "    </tr>\n",
              "    <tr>\n",
              "      <th>2150</th>\n",
              "      <td>https://www.entrepreneur.com/article/236128</td>\n",
              "      <td>\\n\\t\\t\\t\\t5 Skills Every Successful Entreprene...</td>\n",
              "      <td>\\n\\n\\n\\t\\t\\t\\t\\t\\t\\t\\tAugust\\n\\t\\t\\t\\t\\t\\t\\t\\t...</td>\n",
              "      <td>Skills</td>\n",
              "      <td>Stretegy</td>\n",
              "      <td>Unknown</td>\n",
              "    </tr>\n",
              "    <tr>\n",
              "      <th>2359</th>\n",
              "      <td>https://www.entrepreneur.com/article/228023</td>\n",
              "      <td>\\n\\t\\t\\t\\tWant to Grow Your Business? Get Out ...</td>\n",
              "      <td>\\n\\n\\n\\t\\t\\t\\t\\t\\t\\t\\tAugust\\n\\t\\t\\t\\t\\t\\t\\t\\t...</td>\n",
              "      <td>Growth Strategies</td>\n",
              "      <td>Stretegy</td>\n",
              "      <td>Unknown</td>\n",
              "    </tr>\n",
              "    <tr>\n",
              "      <th>2488</th>\n",
              "      <td>https://www.entrepreneur.com/article/204564</td>\n",
              "      <td>\\n\\t\\t\\t\\tHow To Cut Your Company's Tech Bills...</td>\n",
              "      <td>\\n\\n\\n\\t\\t\\t\\t\\t\\t\\t\\tJanuary\\n\\t\\t\\t\\t\\t\\t\\t\\...</td>\n",
              "      <td>Growth Strategies</td>\n",
              "      <td>Stretegy</td>\n",
              "      <td>Unknown</td>\n",
              "    </tr>\n",
              "    <tr>\n",
              "      <th>2491</th>\n",
              "      <td>https://www.entrepreneur.com/article/204316</td>\n",
              "      <td>\\n\\t\\t\\t\\tPosition Yourself for Real Growth\\n\\...</td>\n",
              "      <td>\\n\\n\\n\\t\\t\\t\\t\\t\\t\\t\\tDecember\\n\\t\\t\\t\\t\\t\\t\\t...</td>\n",
              "      <td>Growth Strategies</td>\n",
              "      <td>Stretegy</td>\n",
              "      <td>Unknown</td>\n",
              "    </tr>\n",
              "    <tr>\n",
              "      <th>2499</th>\n",
              "      <td>https://www.entrepreneur.com/article/203188</td>\n",
              "      <td>\\n\\t\\t\\t\\tPutting Her Best Face Forward\\n\\t\\t\\t</td>\n",
              "      <td>\\n\\n\\n\\t\\t\\t\\t\\t\\t\\t\\tAugust\\n\\t\\t\\t\\t\\t\\t\\t\\t...</td>\n",
              "      <td>Growth Strategies</td>\n",
              "      <td>Stretegy</td>\n",
              "      <td>Unknown</td>\n",
              "    </tr>\n",
              "    <tr>\n",
              "      <th>2514</th>\n",
              "      <td>https://www.entrepreneur.com/article/197608</td>\n",
              "      <td>\\n\\t\\t\\t\\tJeff Bezos\\n\\t\\t\\t</td>\n",
              "      <td>\\n\\n\\n\\t\\t\\t\\t\\t\\t\\t\\tOctober\\n\\t\\t\\t\\t\\t\\t\\t\\...</td>\n",
              "      <td>Growth Strategies</td>\n",
              "      <td>Stretegy</td>\n",
              "      <td>Unknown</td>\n",
              "    </tr>\n",
              "    <tr>\n",
              "      <th>2515</th>\n",
              "      <td>https://www.entrepreneur.com/article/197624</td>\n",
              "      <td>\\n\\t\\t\\t\\tGabrielle \"Coco\" Chanel\\n\\t\\t\\t</td>\n",
              "      <td>\\n\\n\\n\\t\\t\\t\\t\\t\\t\\t\\tOctober\\n\\t\\t\\t\\t\\t\\t\\t\\...</td>\n",
              "      <td>Growth Strategies</td>\n",
              "      <td>Stretegy</td>\n",
              "      <td>Unknown</td>\n",
              "    </tr>\n",
              "    <tr>\n",
              "      <th>2516</th>\n",
              "      <td>https://www.entrepreneur.com/article/197626</td>\n",
              "      <td>\\n\\t\\t\\t\\tBen Cohen &amp; Jerry Greenfield\\n\\t\\t\\t</td>\n",
              "      <td>\\n\\n\\n\\t\\t\\t\\t\\t\\t\\t\\tOctober\\n\\t\\t\\t\\t\\t\\t\\t\\...</td>\n",
              "      <td>Growth Strategies</td>\n",
              "      <td>Stretegy</td>\n",
              "      <td>Unknown</td>\n",
              "    </tr>\n",
              "    <tr>\n",
              "      <th>2545</th>\n",
              "      <td>https://www.entrepreneur.com/article/81412</td>\n",
              "      <td>\\n\\t\\t\\t\\tStrategic Alliances\\n\\t\\t\\t</td>\n",
              "      <td>\\n\\n\\n\\t\\t\\t\\t\\t\\t\\t\\tDecember\\n\\t\\t\\t\\t\\t\\t\\t...</td>\n",
              "      <td>Growth Strategies</td>\n",
              "      <td>Stretegy</td>\n",
              "      <td>Unknown</td>\n",
              "    </tr>\n",
              "    <tr>\n",
              "      <th>2546</th>\n",
              "      <td>https://www.entrepreneur.com/article/81414</td>\n",
              "      <td>\\n\\t\\t\\t\\t60-Second Guide to Building Word-of-...</td>\n",
              "      <td>\\n\\n\\n\\t\\t\\t\\t\\t\\t\\t\\tDecember\\n\\t\\t\\t\\t\\t\\t\\t...</td>\n",
              "      <td>Growth Strategies</td>\n",
              "      <td>Stretegy</td>\n",
              "      <td>Unknown</td>\n",
              "    </tr>\n",
              "    <tr>\n",
              "      <th>2549</th>\n",
              "      <td>https://www.entrepreneur.com/article/66024</td>\n",
              "      <td>\\n\\t\\t\\t\\tNext Business Step? Success\\n\\t\\t\\t</td>\n",
              "      <td>\\n\\n\\n\\t\\t\\t\\t\\t\\t\\t\\tDecember\\n\\t\\t\\t\\t\\t\\t\\t...</td>\n",
              "      <td>Growth Strategies</td>\n",
              "      <td>Stretegy</td>\n",
              "      <td>Unknown</td>\n",
              "    </tr>\n",
              "    <tr>\n",
              "      <th>2550</th>\n",
              "      <td>https://www.entrepreneur.com/article/49362</td>\n",
              "      <td>\\n\\t\\t\\t\\tAchieve Growth Without Borrowing Fun...</td>\n",
              "      <td>\\n\\n\\n\\t\\t\\t\\t\\t\\t\\t\\tFebruary\\n\\t\\t\\t\\t\\t\\t\\t...</td>\n",
              "      <td>Growth Strategies</td>\n",
              "      <td>Stretegy</td>\n",
              "      <td>Unknown</td>\n",
              "    </tr>\n",
              "    <tr>\n",
              "      <th>2552</th>\n",
              "      <td>https://www.entrepreneur.com/article/41846</td>\n",
              "      <td>\\n\\t\\t\\t\\tHow to Start an Import/Export Busine...</td>\n",
              "      <td>\\n\\n\\t\\tOpinions expressed by Entrepreneur con...</td>\n",
              "      <td>Growth Strategies</td>\n",
              "      <td>Stretegy</td>\n",
              "      <td>Unknown</td>\n",
              "    </tr>\n",
              "    <tr>\n",
              "      <th>2614</th>\n",
              "      <td>https://www.entrepreneur.com/article/252277</td>\n",
              "      <td>\\n\\t\\t\\t\\t10 Places to Find Ideal Candidates f...</td>\n",
              "      <td>\\n\\n\\n\\t\\t\\t\\t\\t\\t\\t\\tNovember\\n\\t\\t\\t\\t\\t\\t\\t...</td>\n",
              "      <td>Hiring</td>\n",
              "      <td>Stretegy</td>\n",
              "      <td>Unknown</td>\n",
              "    </tr>\n",
              "    <tr>\n",
              "      <th>2770</th>\n",
              "      <td>https://www.entrepreneur.com/article/247975</td>\n",
              "      <td>\\n\\t\\t\\t\\t6 Barriers to Referral Success\\n\\t\\t\\t</td>\n",
              "      <td>\\n\\n\\t\\t\\t\\t\\t\\tThis story originally appeared...</td>\n",
              "      <td>Referrals</td>\n",
              "      <td>Stretegy</td>\n",
              "      <td>Unknown</td>\n",
              "    </tr>\n",
              "    <tr>\n",
              "      <th>2773</th>\n",
              "      <td>https://www.entrepreneur.com/article/247730</td>\n",
              "      <td>\\n\\t\\t\\t\\tEmbrace Stress. It's Good for You.\\n...</td>\n",
              "      <td>\\n\\n\\n\\t\\t\\t\\t\\t\\t\\t\\tJuly\\n\\t\\t\\t\\t\\t\\t\\t\\t1,...</td>\n",
              "      <td>Stress</td>\n",
              "      <td>Stretegy</td>\n",
              "      <td>Unknown</td>\n",
              "    </tr>\n",
              "  </tbody>\n",
              "</table>\n",
              "</div>"
            ],
            "text/plain": [
              "                                      Article URL  ...   Author\n",
              "259   https://www.entrepreneur.com/article/348516  ...  Unknown\n",
              "269   https://www.entrepreneur.com/article/347716  ...  Unknown\n",
              "496   https://www.entrepreneur.com/article/327610  ...  Unknown\n",
              "592   https://www.entrepreneur.com/article/320786  ...  Unknown\n",
              "763   https://www.entrepreneur.com/article/310691  ...  Unknown\n",
              "766   https://www.entrepreneur.com/article/310515  ...  Unknown\n",
              "886   https://www.entrepreneur.com/article/301069  ...  Unknown\n",
              "921   https://www.entrepreneur.com/article/299000  ...  Unknown\n",
              "975   https://www.entrepreneur.com/article/295886  ...  Unknown\n",
              "1039  https://www.entrepreneur.com/article/291082  ...  Unknown\n",
              "1102  https://www.entrepreneur.com/article/288370  ...  Unknown\n",
              "1123  https://www.entrepreneur.com/article/287438  ...  Unknown\n",
              "1126  https://www.entrepreneur.com/article/286611  ...  Unknown\n",
              "1195  https://www.entrepreneur.com/article/284768  ...  Unknown\n",
              "1300  https://www.entrepreneur.com/article/279523  ...  Unknown\n",
              "1371  https://www.entrepreneur.com/article/276563  ...  Unknown\n",
              "1440  https://www.entrepreneur.com/article/272711  ...  Unknown\n",
              "1559  https://www.entrepreneur.com/article/254049  ...  Unknown\n",
              "1674  https://www.entrepreneur.com/article/250537  ...  Unknown\n",
              "1687  https://www.entrepreneur.com/article/250037  ...  Unknown\n",
              "1964  https://www.entrepreneur.com/article/241505  ...  Unknown\n",
              "1971  https://www.entrepreneur.com/article/241304  ...  Unknown\n",
              "2027  https://www.entrepreneur.com/article/239852  ...  Unknown\n",
              "2042  https://www.entrepreneur.com/article/239423  ...  Unknown\n",
              "2112  https://www.entrepreneur.com/article/237064  ...  Unknown\n",
              "2118  https://www.entrepreneur.com/article/237077  ...  Unknown\n",
              "2150  https://www.entrepreneur.com/article/236128  ...  Unknown\n",
              "2359  https://www.entrepreneur.com/article/228023  ...  Unknown\n",
              "2488  https://www.entrepreneur.com/article/204564  ...  Unknown\n",
              "2491  https://www.entrepreneur.com/article/204316  ...  Unknown\n",
              "2499  https://www.entrepreneur.com/article/203188  ...  Unknown\n",
              "2514  https://www.entrepreneur.com/article/197608  ...  Unknown\n",
              "2515  https://www.entrepreneur.com/article/197624  ...  Unknown\n",
              "2516  https://www.entrepreneur.com/article/197626  ...  Unknown\n",
              "2545   https://www.entrepreneur.com/article/81412  ...  Unknown\n",
              "2546   https://www.entrepreneur.com/article/81414  ...  Unknown\n",
              "2549   https://www.entrepreneur.com/article/66024  ...  Unknown\n",
              "2550   https://www.entrepreneur.com/article/49362  ...  Unknown\n",
              "2552   https://www.entrepreneur.com/article/41846  ...  Unknown\n",
              "2614  https://www.entrepreneur.com/article/252277  ...  Unknown\n",
              "2770  https://www.entrepreneur.com/article/247975  ...  Unknown\n",
              "2773  https://www.entrepreneur.com/article/247730  ...  Unknown\n",
              "\n",
              "[42 rows x 6 columns]"
            ]
          },
          "metadata": {
            "tags": []
          },
          "execution_count": 16
        }
      ]
    },
    {
      "cell_type": "code",
      "metadata": {
        "id": "j0muXUovAm0M",
        "colab": {
          "base_uri": "https://localhost:8080/"
        },
        "outputId": "b3ca1bb7-b528-490d-c592-4b901209d6a0"
      },
      "source": [
        "Ent['Author'].nunique()"
      ],
      "execution_count": 17,
      "outputs": [
        {
          "output_type": "execute_result",
          "data": {
            "text/plain": [
              "1174"
            ]
          },
          "metadata": {
            "tags": []
          },
          "execution_count": 17
        }
      ]
    },
    {
      "cell_type": "code",
      "metadata": {
        "id": "OmH2WzgIPVBi",
        "colab": {
          "base_uri": "https://localhost:8080/",
          "height": 17
        },
        "outputId": "9c548e2f-879c-4925-d7b3-e1961b318a3c"
      },
      "source": [
        "Ent.to_csv(\"Ent_Articles_Strategy_withAuthor10June.csv\")\n",
        "\n",
        "#Download the file to the laptop\n",
        "files.download('Ent_Articles_Strategy_withAuthor10June.csv')"
      ],
      "execution_count": 18,
      "outputs": [
        {
          "output_type": "display_data",
          "data": {
            "application/javascript": [
              "\n",
              "    async function download(id, filename, size) {\n",
              "      if (!google.colab.kernel.accessAllowed) {\n",
              "        return;\n",
              "      }\n",
              "      const div = document.createElement('div');\n",
              "      const label = document.createElement('label');\n",
              "      label.textContent = `Downloading \"${filename}\": `;\n",
              "      div.appendChild(label);\n",
              "      const progress = document.createElement('progress');\n",
              "      progress.max = size;\n",
              "      div.appendChild(progress);\n",
              "      document.body.appendChild(div);\n",
              "\n",
              "      const buffers = [];\n",
              "      let downloaded = 0;\n",
              "\n",
              "      const channel = await google.colab.kernel.comms.open(id);\n",
              "      // Send a message to notify the kernel that we're ready.\n",
              "      channel.send({})\n",
              "\n",
              "      for await (const message of channel.messages) {\n",
              "        // Send a message to notify the kernel that we're ready.\n",
              "        channel.send({})\n",
              "        if (message.buffers) {\n",
              "          for (const buffer of message.buffers) {\n",
              "            buffers.push(buffer);\n",
              "            downloaded += buffer.byteLength;\n",
              "            progress.value = downloaded;\n",
              "          }\n",
              "        }\n",
              "      }\n",
              "      const blob = new Blob(buffers, {type: 'application/binary'});\n",
              "      const a = document.createElement('a');\n",
              "      a.href = window.URL.createObjectURL(blob);\n",
              "      a.download = filename;\n",
              "      div.appendChild(a);\n",
              "      a.click();\n",
              "      div.remove();\n",
              "    }\n",
              "  "
            ],
            "text/plain": [
              "<IPython.core.display.Javascript object>"
            ]
          },
          "metadata": {
            "tags": []
          }
        },
        {
          "output_type": "display_data",
          "data": {
            "application/javascript": [
              "download(\"download_76d87211-5bd7-4b50-b3b5-6da9e711cad6\", \"Ent_Articles_Strategy_withAuthor10June.csv\", 14402495)"
            ],
            "text/plain": [
              "<IPython.core.display.Javascript object>"
            ]
          },
          "metadata": {
            "tags": []
          }
        }
      ]
    },
    {
      "cell_type": "code",
      "metadata": {
        "id": "Y2EztDX8Ltdg"
      },
      "source": [
        ""
      ],
      "execution_count": null,
      "outputs": []
    }
  ]
}