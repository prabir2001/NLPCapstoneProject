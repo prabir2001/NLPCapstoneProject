{
  "nbformat": 4,
  "nbformat_minor": 0,
  "metadata": {
    "colab": {
      "name": "Corrected AuthorName Entrepreneur Leadership.ipynb",
      "provenance": [],
      "collapsed_sections": []
    },
    "kernelspec": {
      "display_name": "Python 3",
      "name": "python3"
    },
    "language_info": {
      "name": "python"
    }
  },
  "cells": [
    {
      "cell_type": "markdown",
      "metadata": {
        "id": "LaKFUdAdcpp9"
      },
      "source": [
        "https://www.entrepreneur.com/topic/leadership/\n",
        "---\n",
        "\n"
      ]
    },
    {
      "cell_type": "code",
      "metadata": {
        "id": "-Z1V23urwyRr"
      },
      "source": [
        "import requests\n",
        "import pandas as pd\n",
        "from google.colab import files\n",
        "import time"
      ],
      "execution_count": 1,
      "outputs": []
    },
    {
      "cell_type": "code",
      "metadata": {
        "id": "c9k_v62qCP5Y"
      },
      "source": [
        "from bs4 import BeautifulSoup"
      ],
      "execution_count": 2,
      "outputs": []
    },
    {
      "cell_type": "code",
      "metadata": {
        "colab": {
          "base_uri": "https://localhost:8080/"
        },
        "id": "OgdOF604CQpS",
        "outputId": "66331231-8e4a-43c8-e003-47b2b0d40fe1"
      },
      "source": [
        "pip install lxml"
      ],
      "execution_count": 4,
      "outputs": [
        {
          "output_type": "stream",
          "text": [
            "Requirement already satisfied: lxml in /usr/local/lib/python3.7/dist-packages (4.2.6)\n"
          ],
          "name": "stdout"
        }
      ]
    },
    {
      "cell_type": "code",
      "metadata": {
        "colab": {
          "base_uri": "https://localhost:8080/"
        },
        "id": "O9hPhy4nyQLz",
        "outputId": "2a7a04e5-6ab9-4224-c9a5-2518b67bbe1f"
      },
      "source": [
        "from google.colab import drive\n",
        "drive.mount('/content/drive')"
      ],
      "execution_count": 5,
      "outputs": [
        {
          "output_type": "stream",
          "text": [
            "Drive already mounted at /content/drive; to attempt to forcibly remount, call drive.mount(\"/content/drive\", force_remount=True).\n"
          ],
          "name": "stdout"
        }
      ]
    },
    {
      "cell_type": "code",
      "metadata": {
        "id": "DpX3a0JDD1Im"
      },
      "source": [
        "u = []\n",
        "Ent = pd.DataFrame()\n",
        "\n",
        "common_url = 'https://www.entrepreneur.com/topic/leadership/'\n",
        "for i in range(1,571):\n",
        "  url = (common_url + str(i))\n",
        "  #print('From page:',url)\n",
        "  #time.sleep(3)\n",
        "  data = requests.get(url).text\n",
        "  soup = BeautifulSoup(data, \"lxml\")\n",
        "  for x in soup.find_all('div', class_=\"flex-1 px-6 pt-4 pb-2 flex flex-col\"):\n",
        "    for y in x.find_all('a',class_='block ga-click'):\n",
        "      z = y.get('href')\n",
        "      u.append('https://www.entrepreneur.com'+z)\n",
        "      #print('https://www.entrepreneur.com'+z)\n",
        "Ent['Article URL'] = u"
      ],
      "execution_count": 6,
      "outputs": []
    },
    {
      "cell_type": "code",
      "metadata": {
        "id": "bUGyAj1kdCDD",
        "colab": {
          "base_uri": "https://localhost:8080/"
        },
        "outputId": "a867251f-386e-4555-c3df-51706f775fd8"
      },
      "source": [
        "Ent.shape"
      ],
      "execution_count": 7,
      "outputs": [
        {
          "output_type": "execute_result",
          "data": {
            "text/plain": [
              "(1710, 1)"
            ]
          },
          "metadata": {
            "tags": []
          },
          "execution_count": 7
        }
      ]
    },
    {
      "cell_type": "code",
      "metadata": {
        "id": "bFUv8bOJkAXz",
        "colab": {
          "base_uri": "https://localhost:8080/",
          "height": 204
        },
        "outputId": "b728dd5e-a71f-4b1f-d9e9-52c920ce3bfb"
      },
      "source": [
        "Ent.head()"
      ],
      "execution_count": 8,
      "outputs": [
        {
          "output_type": "execute_result",
          "data": {
            "text/html": [
              "<div>\n",
              "<style scoped>\n",
              "    .dataframe tbody tr th:only-of-type {\n",
              "        vertical-align: middle;\n",
              "    }\n",
              "\n",
              "    .dataframe tbody tr th {\n",
              "        vertical-align: top;\n",
              "    }\n",
              "\n",
              "    .dataframe thead th {\n",
              "        text-align: right;\n",
              "    }\n",
              "</style>\n",
              "<table border=\"1\" class=\"dataframe\">\n",
              "  <thead>\n",
              "    <tr style=\"text-align: right;\">\n",
              "      <th></th>\n",
              "      <th>Article URL</th>\n",
              "    </tr>\n",
              "  </thead>\n",
              "  <tbody>\n",
              "    <tr>\n",
              "      <th>0</th>\n",
              "      <td>https://www.entrepreneur.com/article/368024</td>\n",
              "    </tr>\n",
              "    <tr>\n",
              "      <th>1</th>\n",
              "      <td>https://www.entrepreneur.com/article/370752</td>\n",
              "    </tr>\n",
              "    <tr>\n",
              "      <th>2</th>\n",
              "      <td>https://www.entrepreneur.com/article/369456</td>\n",
              "    </tr>\n",
              "    <tr>\n",
              "      <th>3</th>\n",
              "      <td>https://www.entrepreneur.com/article/369620</td>\n",
              "    </tr>\n",
              "    <tr>\n",
              "      <th>4</th>\n",
              "      <td>https://www.entrepreneur.com/article/369310</td>\n",
              "    </tr>\n",
              "  </tbody>\n",
              "</table>\n",
              "</div>"
            ],
            "text/plain": [
              "                                   Article URL\n",
              "0  https://www.entrepreneur.com/article/368024\n",
              "1  https://www.entrepreneur.com/article/370752\n",
              "2  https://www.entrepreneur.com/article/369456\n",
              "3  https://www.entrepreneur.com/article/369620\n",
              "4  https://www.entrepreneur.com/article/369310"
            ]
          },
          "metadata": {
            "tags": []
          },
          "execution_count": 8
        }
      ]
    },
    {
      "cell_type": "code",
      "metadata": {
        "id": "ODD9qvbNbj8_"
      },
      "source": [
        "Ent = Ent[~Ent['Article URL'].str.contains(\"slideshow\")]\n",
        "Ent = Ent[~Ent['Article URL'].str.contains(\"page\")]\n",
        "Ent = Ent[~Ent['Article URL'].str.contains(\"video\")]\n",
        "Ent = Ent[~Ent['Article URL'].str.contains(\"answer\")]"
      ],
      "execution_count": 9,
      "outputs": []
    },
    {
      "cell_type": "code",
      "metadata": {
        "id": "zeGk3l1u7FOu",
        "colab": {
          "base_uri": "https://localhost:8080/"
        },
        "outputId": "fb1d79a6-8dde-44c8-f17e-28b5751c9f5d"
      },
      "source": [
        "Ent.shape"
      ],
      "execution_count": 10,
      "outputs": [
        {
          "output_type": "execute_result",
          "data": {
            "text/plain": [
              "(1583, 1)"
            ]
          },
          "metadata": {
            "tags": []
          },
          "execution_count": 10
        }
      ]
    },
    {
      "cell_type": "code",
      "metadata": {
        "id": "5ULp0VwpCENt"
      },
      "source": [
        "h = [] # To Collect Headlines\n",
        "content = [] #To Collect Articles\n",
        "subdomain = [] #To Collect Sub Domains\n",
        "domain = [] # Domain\n",
        "author = [] #To Collect Author Names\n",
        "\n",
        "for x in Ent['Article URL']:\n",
        "  url_article = x\n",
        "  try:\n",
        "    data_inside = requests.get(x).text\n",
        "  except:\n",
        "    pass\n",
        "\n",
        "  #time.sleep(3)\n",
        "\n",
        "  #Parse the data using Beautiful Soup\n",
        "  soup_inside = BeautifulSoup(data_inside, \"lxml\")\n",
        "\n",
        "#Getting the Headline\n",
        "  for p in soup_inside.find_all('h1', class_='headline'):\n",
        "    try:\n",
        "      headline1 = p.get_text()\n",
        "    except:\n",
        "      pass\n",
        "    h.append(headline1)\n",
        "\n",
        "  #Getting the Content\n",
        "  for q in soup_inside.find_all('div', class_='gate-check'):\n",
        "    try:\n",
        "      a1 = q.get_text()\n",
        "    except:\n",
        "      pass\n",
        "    content.append(a1)\n",
        "\n",
        "  #Getting the Sub Domain\n",
        "  for sd in soup_inside.find(\"a\", attrs={\"class\": \"articlekicker ga-click kickertags\"}):\n",
        "    subdomain.append(sd)\n",
        "\n",
        "  #Appending the Domain\n",
        "  domain.append(\"Leadership\")\n",
        "\n",
        "  #Getting the Author\n",
        "  Author_Flag = bool(soup_inside.find('div', itemprop='name'))\n",
        "  if Author_Flag == True:\n",
        "      for r in soup_inside.find_all('div', itemprop='name'):\n",
        "      #for r in soup_inside.find_all(\"a\", attrs={\"class\": \"authorname ga-click\"}):\n",
        "          try:\n",
        "            au = r.get_text()\n",
        "          except:\n",
        "            pass     \n",
        "  else:\n",
        "    au = 'Unknown'\n",
        "  \n",
        "  author.append(au)\n",
        "\n",
        "#Made a new column in data and added the text to that\n",
        "Ent['Headline'] = h\n",
        "Ent['Article Text'] = content\n",
        "Ent['Sub Domain'] = subdomain\n",
        "Ent['Domain'] = domain\n",
        "Ent['Author'] = author"
      ],
      "execution_count": 11,
      "outputs": []
    },
    {
      "cell_type": "code",
      "metadata": {
        "id": "lBjQ-aRQ0_HJ",
        "colab": {
          "base_uri": "https://localhost:8080/"
        },
        "outputId": "63aa3270-7af6-4363-f378-0ccce6099f43"
      },
      "source": [
        "len(h)"
      ],
      "execution_count": 15,
      "outputs": [
        {
          "output_type": "execute_result",
          "data": {
            "text/plain": [
              "1583"
            ]
          },
          "metadata": {
            "tags": []
          },
          "execution_count": 15
        }
      ]
    },
    {
      "cell_type": "code",
      "metadata": {
        "id": "yxl3AAWihMlS",
        "colab": {
          "base_uri": "https://localhost:8080/"
        },
        "outputId": "d065a1c8-3aa7-46a0-ff55-6fd2a5f918de"
      },
      "source": [
        "len(author)"
      ],
      "execution_count": 16,
      "outputs": [
        {
          "output_type": "execute_result",
          "data": {
            "text/plain": [
              "1583"
            ]
          },
          "metadata": {
            "tags": []
          },
          "execution_count": 16
        }
      ]
    },
    {
      "cell_type": "code",
      "metadata": {
        "id": "-2didoWnAud7",
        "colab": {
          "base_uri": "https://localhost:8080/"
        },
        "outputId": "e05e9385-b73c-4da0-ad71-f585248e11a5"
      },
      "source": [
        "Ent.shape"
      ],
      "execution_count": 17,
      "outputs": [
        {
          "output_type": "execute_result",
          "data": {
            "text/plain": [
              "(1583, 6)"
            ]
          },
          "metadata": {
            "tags": []
          },
          "execution_count": 17
        }
      ]
    },
    {
      "cell_type": "code",
      "metadata": {
        "id": "oKhem_KfPNEO",
        "colab": {
          "base_uri": "https://localhost:8080/",
          "height": 359
        },
        "outputId": "39a744e9-355c-4c38-e7c5-7d1502a9c9e5"
      },
      "source": [
        "Ent.head(10)"
      ],
      "execution_count": 19,
      "outputs": [
        {
          "output_type": "execute_result",
          "data": {
            "text/html": [
              "<div>\n",
              "<style scoped>\n",
              "    .dataframe tbody tr th:only-of-type {\n",
              "        vertical-align: middle;\n",
              "    }\n",
              "\n",
              "    .dataframe tbody tr th {\n",
              "        vertical-align: top;\n",
              "    }\n",
              "\n",
              "    .dataframe thead th {\n",
              "        text-align: right;\n",
              "    }\n",
              "</style>\n",
              "<table border=\"1\" class=\"dataframe\">\n",
              "  <thead>\n",
              "    <tr style=\"text-align: right;\">\n",
              "      <th></th>\n",
              "      <th>Article URL</th>\n",
              "      <th>Headline</th>\n",
              "      <th>Article Text</th>\n",
              "      <th>Sub Domain</th>\n",
              "      <th>Domain</th>\n",
              "      <th>Author</th>\n",
              "    </tr>\n",
              "  </thead>\n",
              "  <tbody>\n",
              "    <tr>\n",
              "      <th>0</th>\n",
              "      <td>https://www.entrepreneur.com/article/368024</td>\n",
              "      <td>\\n\\t\\t\\t\\tToo Many Board Meetings Suffer From ...</td>\n",
              "      <td>\\n\\n\\n\\t\\t\\t\\t\\t\\t\\t\\tMay\\n\\t\\t\\t\\t\\t\\t\\t\\t7, ...</td>\n",
              "      <td>Board Meetings</td>\n",
              "      <td>Leadership</td>\n",
              "      <td>Brendan P. Keegan</td>\n",
              "    </tr>\n",
              "    <tr>\n",
              "      <th>1</th>\n",
              "      <td>https://www.entrepreneur.com/article/370752</td>\n",
              "      <td>\\n\\t\\t\\t\\tTo Build a Powerful Brand, Begin on ...</td>\n",
              "      <td>\\n\\n\\n\\t\\t\\t\\t\\t\\t\\t\\tMay\\n\\t\\t\\t\\t\\t\\t\\t\\t7, ...</td>\n",
              "      <td>Branding</td>\n",
              "      <td>Leadership</td>\n",
              "      <td>Kevin Roddy</td>\n",
              "    </tr>\n",
              "    <tr>\n",
              "      <th>2</th>\n",
              "      <td>https://www.entrepreneur.com/article/369456</td>\n",
              "      <td>\\n\\t\\t\\t\\tIf You're Not Paying Attention to Th...</td>\n",
              "      <td>\\n\\n\\n\\t\\t\\t\\t\\t\\t\\t\\tMay\\n\\t\\t\\t\\t\\t\\t\\t\\t6, ...</td>\n",
              "      <td>Cultivating Emotional Intelligence</td>\n",
              "      <td>Leadership</td>\n",
              "      <td>Sara Caroline Sabin</td>\n",
              "    </tr>\n",
              "    <tr>\n",
              "      <th>3</th>\n",
              "      <td>https://www.entrepreneur.com/article/369620</td>\n",
              "      <td>\\n\\t\\t\\t\\tWhat Phil Jackson's Leadership Teach...</td>\n",
              "      <td>\\n\\n\\n\\t\\t\\t\\t\\t\\t\\t\\tMay\\n\\t\\t\\t\\t\\t\\t\\t\\t3, ...</td>\n",
              "      <td>Managing Remote Teams</td>\n",
              "      <td>Leadership</td>\n",
              "      <td>Christy Wyatt</td>\n",
              "    </tr>\n",
              "    <tr>\n",
              "      <th>4</th>\n",
              "      <td>https://www.entrepreneur.com/article/369310</td>\n",
              "      <td>\\n\\t\\t\\t\\tBuild Sustainability Around Your Peo...</td>\n",
              "      <td>\\n\\n\\n\\t\\t\\t\\t\\t\\t\\t\\tMay\\n\\t\\t\\t\\t\\t\\t\\t\\t3, ...</td>\n",
              "      <td>Developing an Agile Work Culture</td>\n",
              "      <td>Leadership</td>\n",
              "      <td>Bill Wagner</td>\n",
              "    </tr>\n",
              "    <tr>\n",
              "      <th>5</th>\n",
              "      <td>https://www.entrepreneur.com/article/368894</td>\n",
              "      <td>\\n\\t\\t\\t\\t5 Truths About Employee Engagement T...</td>\n",
              "      <td>\\n\\n\\n\\t\\t\\t\\t\\t\\t\\t\\tMay\\n\\t\\t\\t\\t\\t\\t\\t\\t2, ...</td>\n",
              "      <td>Leadership</td>\n",
              "      <td>Leadership</td>\n",
              "      <td>Gordon Tredgold</td>\n",
              "    </tr>\n",
              "    <tr>\n",
              "      <th>6</th>\n",
              "      <td>https://www.entrepreneur.com/article/369186</td>\n",
              "      <td>\\n\\t\\t\\t\\tHow Steve Jobs' #1 Design Principle ...</td>\n",
              "      <td>\\n\\n\\n\\t\\t\\t\\t\\t\\t\\t\\tApril\\n\\t\\t\\t\\t\\t\\t\\t\\t2...</td>\n",
              "      <td>Lifestyle</td>\n",
              "      <td>Leadership</td>\n",
              "      <td>Greg McKeown</td>\n",
              "    </tr>\n",
              "    <tr>\n",
              "      <th>7</th>\n",
              "      <td>https://www.entrepreneur.com/article/370456</td>\n",
              "      <td>\\n\\t\\t\\t\\tThe 4 pillars of having a crisis-pro...</td>\n",
              "      <td>\\n\\n\\n\\t\\t\\t\\t\\t\\t\\t\\tApril\\n\\t\\t\\t\\t\\t\\t\\t\\t2...</td>\n",
              "      <td>Crisis Management</td>\n",
              "      <td>Leadership</td>\n",
              "      <td>Daniel Marcos</td>\n",
              "    </tr>\n",
              "    <tr>\n",
              "      <th>8</th>\n",
              "      <td>https://www.entrepreneur.com/article/370403</td>\n",
              "      <td>\\n\\t\\t\\t\\tFree Webinar | May 19: How to Optimi...</td>\n",
              "      <td>\\n\\n\\n\\t\\t\\t\\t\\t\\t\\t\\tApril\\n\\t\\t\\t\\t\\t\\t\\t\\t2...</td>\n",
              "      <td>Fulfillment</td>\n",
              "      <td>Leadership</td>\n",
              "      <td>FounderMade</td>\n",
              "    </tr>\n",
              "    <tr>\n",
              "      <th>9</th>\n",
              "      <td>https://www.entrepreneur.com/article/366060</td>\n",
              "      <td>\\n\\t\\t\\t\\tYou Are Not a Leader Until You Face ...</td>\n",
              "      <td>\\n\\n\\n\\t\\t\\t\\t\\t\\t\\t\\tApril\\n\\t\\t\\t\\t\\t\\t\\t\\t2...</td>\n",
              "      <td>Cultivating Emotional Intelligence</td>\n",
              "      <td>Leadership</td>\n",
              "      <td>Elizabeth Hartke</td>\n",
              "    </tr>\n",
              "  </tbody>\n",
              "</table>\n",
              "</div>"
            ],
            "text/plain": [
              "                                   Article URL  ...               Author\n",
              "0  https://www.entrepreneur.com/article/368024  ...    Brendan P. Keegan\n",
              "1  https://www.entrepreneur.com/article/370752  ...          Kevin Roddy\n",
              "2  https://www.entrepreneur.com/article/369456  ...  Sara Caroline Sabin\n",
              "3  https://www.entrepreneur.com/article/369620  ...        Christy Wyatt\n",
              "4  https://www.entrepreneur.com/article/369310  ...          Bill Wagner\n",
              "5  https://www.entrepreneur.com/article/368894  ...      Gordon Tredgold\n",
              "6  https://www.entrepreneur.com/article/369186  ...         Greg McKeown\n",
              "7  https://www.entrepreneur.com/article/370456  ...        Daniel Marcos\n",
              "8  https://www.entrepreneur.com/article/370403  ...          FounderMade\n",
              "9  https://www.entrepreneur.com/article/366060  ...     Elizabeth Hartke\n",
              "\n",
              "[10 rows x 6 columns]"
            ]
          },
          "metadata": {
            "tags": []
          },
          "execution_count": 19
        }
      ]
    },
    {
      "cell_type": "code",
      "metadata": {
        "id": "tofxNiuCgJW_",
        "colab": {
          "base_uri": "https://localhost:8080/",
          "height": 1000
        },
        "outputId": "3c14178a-0a41-4263-bc2b-18bb312cf004"
      },
      "source": [
        "unk_auth = pd.DataFrame(Ent[Ent['Author']=='Unknown'])\n",
        "unk_auth"
      ],
      "execution_count": 20,
      "outputs": [
        {
          "output_type": "execute_result",
          "data": {
            "text/html": [
              "<div>\n",
              "<style scoped>\n",
              "    .dataframe tbody tr th:only-of-type {\n",
              "        vertical-align: middle;\n",
              "    }\n",
              "\n",
              "    .dataframe tbody tr th {\n",
              "        vertical-align: top;\n",
              "    }\n",
              "\n",
              "    .dataframe thead th {\n",
              "        text-align: right;\n",
              "    }\n",
              "</style>\n",
              "<table border=\"1\" class=\"dataframe\">\n",
              "  <thead>\n",
              "    <tr style=\"text-align: right;\">\n",
              "      <th></th>\n",
              "      <th>Article URL</th>\n",
              "      <th>Headline</th>\n",
              "      <th>Article Text</th>\n",
              "      <th>Sub Domain</th>\n",
              "      <th>Domain</th>\n",
              "      <th>Author</th>\n",
              "    </tr>\n",
              "  </thead>\n",
              "  <tbody>\n",
              "    <tr>\n",
              "      <th>185</th>\n",
              "      <td>https://www.entrepreneur.com/article/348873</td>\n",
              "      <td>\\n\\t\\t\\t\\t10 Steps to Protecting Your Business...</td>\n",
              "      <td>\\n\\n\\n\\t\\t\\t\\t\\t\\t\\t\\tApril\\n\\t\\t\\t\\t\\t\\t\\t\\t9...</td>\n",
              "      <td>COVID-19</td>\n",
              "      <td>Leadership</td>\n",
              "      <td>Unknown</td>\n",
              "    </tr>\n",
              "    <tr>\n",
              "      <th>271</th>\n",
              "      <td>https://www.entrepreneur.com/article/338206</td>\n",
              "      <td>\\n\\t\\t\\t\\tThe One Thing He Thought He'd Never ...</td>\n",
              "      <td>\\n\\n\\n\\t\\t\\t\\t\\t\\t\\t\\tAugust\\n\\t\\t\\t\\t\\t\\t\\t\\t...</td>\n",
              "      <td>Leadership Qualities</td>\n",
              "      <td>Leadership</td>\n",
              "      <td>Unknown</td>\n",
              "    </tr>\n",
              "    <tr>\n",
              "      <th>334</th>\n",
              "      <td>https://www.entrepreneur.com/article/328430</td>\n",
              "      <td>\\n\\t\\t\\t\\tA Candle and a Fish: The Motivationa...</td>\n",
              "      <td>\\n\\n\\n\\t\\t\\t\\t\\t\\t\\t\\tFebruary\\n\\t\\t\\t\\t\\t\\t\\t...</td>\n",
              "      <td>Cultivating Emotional Intelligence</td>\n",
              "      <td>Leadership</td>\n",
              "      <td>Unknown</td>\n",
              "    </tr>\n",
              "    <tr>\n",
              "      <th>384</th>\n",
              "      <td>https://www.entrepreneur.com/article/322551</td>\n",
              "      <td>\\n\\t\\t\\t\\tThis Daily Habit (with a Twist) Is t...</td>\n",
              "      <td>\\n\\n\\n\\t\\t\\t\\t\\t\\t\\t\\tNovember\\n\\t\\t\\t\\t\\t\\t\\t...</td>\n",
              "      <td>Habits</td>\n",
              "      <td>Leadership</td>\n",
              "      <td>Unknown</td>\n",
              "    </tr>\n",
              "    <tr>\n",
              "      <th>417</th>\n",
              "      <td>https://www.entrepreneur.com/article/316961</td>\n",
              "      <td>\\n\\t\\t\\t\\tInspiring Leadership by Design\\n\\t\\t\\t</td>\n",
              "      <td>\\n\\n\\n\\t\\t\\t\\t\\t\\t\\t\\tSeptember\\n\\t\\t\\t\\t\\t\\t\\...</td>\n",
              "      <td>Cultivating Emotional Intelligence</td>\n",
              "      <td>Leadership</td>\n",
              "      <td>Unknown</td>\n",
              "    </tr>\n",
              "    <tr>\n",
              "      <th>450</th>\n",
              "      <td>https://www.entrepreneur.com/article/316588</td>\n",
              "      <td>\\n\\t\\t\\t\\t8 Strategies to Becoming a Badass CE...</td>\n",
              "      <td>\\n\\n\\n\\t\\t\\t\\t\\t\\t\\t\\tJuly\\n\\t\\t\\t\\t\\t\\t\\t\\t17...</td>\n",
              "      <td>Leadership Skills</td>\n",
              "      <td>Leadership</td>\n",
              "      <td>Unknown</td>\n",
              "    </tr>\n",
              "    <tr>\n",
              "      <th>491</th>\n",
              "      <td>https://www.entrepreneur.com/article/312942</td>\n",
              "      <td>\\n\\t\\t\\t\\tAmazon's Allegedly Harsh Work Cultur...</td>\n",
              "      <td>\\n\\n\\n\\t\\t\\t\\t\\t\\t\\t\\tMay\\n\\t\\t\\t\\t\\t\\t\\t\\t7, ...</td>\n",
              "      <td>Amazon</td>\n",
              "      <td>Leadership</td>\n",
              "      <td>Unknown</td>\n",
              "    </tr>\n",
              "    <tr>\n",
              "      <th>503</th>\n",
              "      <td>https://www.entrepreneur.com/article/311864</td>\n",
              "      <td>\\n\\t\\t\\t\\tHow 'Groupthink' Can Cost Your Busin...</td>\n",
              "      <td>\\n\\n\\n\\t\\t\\t\\t\\t\\t\\t\\tApril\\n\\t\\t\\t\\t\\t\\t\\t\\t1...</td>\n",
              "      <td>Making Decisions</td>\n",
              "      <td>Leadership</td>\n",
              "      <td>Unknown</td>\n",
              "    </tr>\n",
              "    <tr>\n",
              "      <th>600</th>\n",
              "      <td>https://www.entrepreneur.com/article/303763</td>\n",
              "      <td>\\n\\t\\t\\t\\tSteve Jobs, Tony Hsieh and 4 Other P...</td>\n",
              "      <td>\\n\\n\\n\\t\\t\\t\\t\\t\\t\\t\\tNovember\\n\\t\\t\\t\\t\\t\\t\\t...</td>\n",
              "      <td>Corporate Culture</td>\n",
              "      <td>Leadership</td>\n",
              "      <td>Unknown</td>\n",
              "    </tr>\n",
              "    <tr>\n",
              "      <th>621</th>\n",
              "      <td>https://www.entrepreneur.com/article/302391</td>\n",
              "      <td>\\n\\t\\t\\t\\t5 Ways to Profit With a Purpose\\n\\t\\t\\t</td>\n",
              "      <td>\\n\\n\\n\\t\\t\\t\\t\\t\\t\\t\\tOctober\\n\\t\\t\\t\\t\\t\\t\\t\\...</td>\n",
              "      <td>social good</td>\n",
              "      <td>Leadership</td>\n",
              "      <td>Unknown</td>\n",
              "    </tr>\n",
              "    <tr>\n",
              "      <th>775</th>\n",
              "      <td>https://www.entrepreneur.com/article/290752</td>\n",
              "      <td>\\n\\t\\t\\t\\t7 Ways to Help Your Employees Become...</td>\n",
              "      <td>\\n\\n\\n\\t\\t\\t\\t\\t\\t\\t\\tMarch\\n\\t\\t\\t\\t\\t\\t\\t\\t2...</td>\n",
              "      <td>Prepare to Succeed</td>\n",
              "      <td>Leadership</td>\n",
              "      <td>Unknown</td>\n",
              "    </tr>\n",
              "    <tr>\n",
              "      <th>790</th>\n",
              "      <td>https://www.entrepreneur.com/article/289687</td>\n",
              "      <td>\\n\\t\\t\\t\\tShould You Take Business Advice That...</td>\n",
              "      <td>\\n\\n\\n\\t\\t\\t\\t\\t\\t\\t\\tMarch\\n\\t\\t\\t\\t\\t\\t\\t\\t2...</td>\n",
              "      <td>Instincts</td>\n",
              "      <td>Leadership</td>\n",
              "      <td>Unknown</td>\n",
              "    </tr>\n",
              "    <tr>\n",
              "      <th>803</th>\n",
              "      <td>https://www.entrepreneur.com/article/288940</td>\n",
              "      <td>\\n\\t\\t\\t\\tWhat to Consider Before Taking on a ...</td>\n",
              "      <td>\\n\\n\\n\\t\\t\\t\\t\\t\\t\\t\\tFebruary\\n\\t\\t\\t\\t\\t\\t\\t...</td>\n",
              "      <td>Partnerships</td>\n",
              "      <td>Leadership</td>\n",
              "      <td>Unknown</td>\n",
              "    </tr>\n",
              "    <tr>\n",
              "      <th>822</th>\n",
              "      <td>https://www.entrepreneur.com/article/287124</td>\n",
              "      <td>\\n\\t\\t\\t\\t6 Things to Consider Before Partneri...</td>\n",
              "      <td>\\n\\n\\n\\t\\t\\t\\t\\t\\t\\t\\tJanuary\\n\\t\\t\\t\\t\\t\\t\\t\\...</td>\n",
              "      <td>Partnerships</td>\n",
              "      <td>Leadership</td>\n",
              "      <td>Unknown</td>\n",
              "    </tr>\n",
              "    <tr>\n",
              "      <th>830</th>\n",
              "      <td>https://www.entrepreneur.com/article/286589</td>\n",
              "      <td>\\n\\t\\t\\t\\tWant to Have True Impact as an Entre...</td>\n",
              "      <td>\\n\\n\\n\\t\\t\\t\\t\\t\\t\\t\\tDecember\\n\\t\\t\\t\\t\\t\\t\\t...</td>\n",
              "      <td>Legacy</td>\n",
              "      <td>Leadership</td>\n",
              "      <td>Unknown</td>\n",
              "    </tr>\n",
              "    <tr>\n",
              "      <th>884</th>\n",
              "      <td>https://www.entrepreneur.com/article/282462</td>\n",
              "      <td>\\n\\t\\t\\t\\t7 Ways You're Getting Distracted as ...</td>\n",
              "      <td>\\n\\n\\n\\t\\t\\t\\t\\t\\t\\t\\tSeptember\\n\\t\\t\\t\\t\\t\\t\\...</td>\n",
              "      <td>Cultivating Emotional Intelligence</td>\n",
              "      <td>Leadership</td>\n",
              "      <td>Unknown</td>\n",
              "    </tr>\n",
              "    <tr>\n",
              "      <th>1036</th>\n",
              "      <td>https://www.entrepreneur.com/article/270130</td>\n",
              "      <td>\\n\\t\\t\\t\\t10 Bad Habits Preventing Your Busine...</td>\n",
              "      <td>\\n\\n\\n\\t\\t\\t\\t\\t\\t\\t\\tFebruary\\n\\t\\t\\t\\t\\t\\t\\t...</td>\n",
              "      <td>Leadership Qualities</td>\n",
              "      <td>Leadership</td>\n",
              "      <td>Unknown</td>\n",
              "    </tr>\n",
              "    <tr>\n",
              "      <th>1046</th>\n",
              "      <td>https://www.entrepreneur.com/article/254833</td>\n",
              "      <td>\\n\\t\\t\\t\\tHow Much Does Leadership Actually Ma...</td>\n",
              "      <td>\\n\\n\\n\\t\\t\\t\\t\\t\\t\\t\\tJanuary\\n\\t\\t\\t\\t\\t\\t\\t\\...</td>\n",
              "      <td>Leadership Skills</td>\n",
              "      <td>Leadership</td>\n",
              "      <td>Unknown</td>\n",
              "    </tr>\n",
              "    <tr>\n",
              "      <th>1159</th>\n",
              "      <td>https://www.entrepreneur.com/article/247474</td>\n",
              "      <td>\\n\\t\\t\\t\\t6 Ways to Improve Your Management St...</td>\n",
              "      <td>\\n\\n\\n\\t\\t\\t\\t\\t\\t\\t\\tJune\\n\\t\\t\\t\\t\\t\\t\\t\\t24...</td>\n",
              "      <td>Leadership</td>\n",
              "      <td>Leadership</td>\n",
              "      <td>Unknown</td>\n",
              "    </tr>\n",
              "    <tr>\n",
              "      <th>1168</th>\n",
              "      <td>https://www.entrepreneur.com/article/246981</td>\n",
              "      <td>\\n\\t\\t\\t\\t5 Strategies to Build a Fun Work Cul...</td>\n",
              "      <td>\\n\\n\\n\\t\\t\\t\\t\\t\\t\\t\\tJune\\n\\t\\t\\t\\t\\t\\t\\t\\t8,...</td>\n",
              "      <td>Prepare to Succeed</td>\n",
              "      <td>Leadership</td>\n",
              "      <td>Unknown</td>\n",
              "    </tr>\n",
              "    <tr>\n",
              "      <th>1253</th>\n",
              "      <td>https://www.entrepreneur.com/article/242040</td>\n",
              "      <td>\\n\\t\\t\\t\\tThis Essential Leadership Trait Can ...</td>\n",
              "      <td>\\n\\n\\n\\t\\t\\t\\t\\t\\t\\t\\tJanuary\\n\\t\\t\\t\\t\\t\\t\\t\\...</td>\n",
              "      <td>Leadership</td>\n",
              "      <td>Leadership</td>\n",
              "      <td>Unknown</td>\n",
              "    </tr>\n",
              "    <tr>\n",
              "      <th>1261</th>\n",
              "      <td>https://www.entrepreneur.com/article/241768</td>\n",
              "      <td>\\n\\t\\t\\t\\t10 Ways to Measure the Effectiveness...</td>\n",
              "      <td>\\n\\n\\t\\t\\t\\t\\t\\tThis story originally appeared...</td>\n",
              "      <td>Sales</td>\n",
              "      <td>Leadership</td>\n",
              "      <td>Unknown</td>\n",
              "    </tr>\n",
              "    <tr>\n",
              "      <th>1423</th>\n",
              "      <td>https://www.entrepreneur.com/article/232752</td>\n",
              "      <td>\\n\\t\\t\\t\\t4 Common Customer-Service Obstacles ...</td>\n",
              "      <td>\\n\\n\\t\\t\\t\\t\\t\\tThis story originally appeared...</td>\n",
              "      <td>Customer Service</td>\n",
              "      <td>Leadership</td>\n",
              "      <td>Unknown</td>\n",
              "    </tr>\n",
              "    <tr>\n",
              "      <th>1477</th>\n",
              "      <td>https://www.entrepreneur.com/article/227847</td>\n",
              "      <td>\\n\\t\\t\\t\\tNo Games: Zynga's New CEO Shakes Up ...</td>\n",
              "      <td>\\n\\n\\n\\t\\t\\t\\t\\t\\t\\t\\tAugust\\n\\t\\t\\t\\t\\t\\t\\t\\t...</td>\n",
              "      <td>Starting a Business</td>\n",
              "      <td>Leadership</td>\n",
              "      <td>Unknown</td>\n",
              "    </tr>\n",
              "    <tr>\n",
              "      <th>1481</th>\n",
              "      <td>https://www.entrepreneur.com/article/227465</td>\n",
              "      <td>\\n\\t\\t\\t\\tThe 5 Rules for Silicon Valley Succe...</td>\n",
              "      <td>\\n\\n\\n\\t\\t\\t\\t\\t\\t\\t\\tJuly\\n\\t\\t\\t\\t\\t\\t\\t\\t29...</td>\n",
              "      <td>Growth Strategies</td>\n",
              "      <td>Leadership</td>\n",
              "      <td>Unknown</td>\n",
              "    </tr>\n",
              "    <tr>\n",
              "      <th>1548</th>\n",
              "      <td>https://www.entrepreneur.com/article/206406</td>\n",
              "      <td>\\n\\t\\t\\t\\tInspired by Design\\n\\t\\t\\t</td>\n",
              "      <td>\\n\\n\\n\\t\\t\\t\\t\\t\\t\\t\\tMay\\n\\t\\t\\t\\t\\t\\t\\t\\t3, ...</td>\n",
              "      <td>Starting a Business</td>\n",
              "      <td>Leadership</td>\n",
              "      <td>Unknown</td>\n",
              "    </tr>\n",
              "    <tr>\n",
              "      <th>1556</th>\n",
              "      <td>https://www.entrepreneur.com/article/204420</td>\n",
              "      <td>\\n\\t\\t\\t\\tRealign Your Company's Moral Compass...</td>\n",
              "      <td>\\n\\n\\n\\t\\t\\t\\t\\t\\t\\t\\tDecember\\n\\t\\t\\t\\t\\t\\t\\t...</td>\n",
              "      <td>Leadership</td>\n",
              "      <td>Leadership</td>\n",
              "      <td>Unknown</td>\n",
              "    </tr>\n",
              "    <tr>\n",
              "      <th>1557</th>\n",
              "      <td>https://www.entrepreneur.com/article/203074</td>\n",
              "      <td>\\n\\t\\t\\t\\tPut People Before Profits\\n\\t\\t\\t</td>\n",
              "      <td>\\n\\n\\n\\t\\t\\t\\t\\t\\t\\t\\tAugust\\n\\t\\t\\t\\t\\t\\t\\t\\t...</td>\n",
              "      <td>Growth Strategies</td>\n",
              "      <td>Leadership</td>\n",
              "      <td>Unknown</td>\n",
              "    </tr>\n",
              "    <tr>\n",
              "      <th>1566</th>\n",
              "      <td>https://www.entrepreneur.com/article/197154</td>\n",
              "      <td>\\n\\t\\t\\t\\t5 More Reasons This Election Matters...</td>\n",
              "      <td>\\n\\n\\n\\t\\t\\t\\t\\t\\t\\t\\tSeptember\\n\\t\\t\\t\\t\\t\\t\\...</td>\n",
              "      <td>Leadership</td>\n",
              "      <td>Leadership</td>\n",
              "      <td>Unknown</td>\n",
              "    </tr>\n",
              "    <tr>\n",
              "      <th>1574</th>\n",
              "      <td>https://www.entrepreneur.com/article/176466</td>\n",
              "      <td>\\n\\t\\t\\t\\tLeadership Lessons from the Tropics\\...</td>\n",
              "      <td>\\n\\n\\n\\t\\t\\t\\t\\t\\t\\t\\tMarch\\n\\t\\t\\t\\t\\t\\t\\t\\t3...</td>\n",
              "      <td>Leadership</td>\n",
              "      <td>Leadership</td>\n",
              "      <td>Unknown</td>\n",
              "    </tr>\n",
              "    <tr>\n",
              "      <th>1575</th>\n",
              "      <td>https://www.entrepreneur.com/article/163598</td>\n",
              "      <td>\\n\\t\\t\\t\\tFrom Business Owner to Business Lead...</td>\n",
              "      <td>\\n\\n\\n\\t\\t\\t\\t\\t\\t\\t\\tMay\\n\\t\\t\\t\\t\\t\\t\\t\\t15,...</td>\n",
              "      <td>Leadership</td>\n",
              "      <td>Leadership</td>\n",
              "      <td>Unknown</td>\n",
              "    </tr>\n",
              "    <tr>\n",
              "      <th>1577</th>\n",
              "      <td>https://www.entrepreneur.com/article/163590</td>\n",
              "      <td>\\n\\t\\t\\t\\t5 Key Traits of Great Leaders\\n\\t\\t\\t</td>\n",
              "      <td>\\n\\n\\n\\t\\t\\t\\t\\t\\t\\t\\tApril\\n\\t\\t\\t\\t\\t\\t\\t\\t1...</td>\n",
              "      <td>Leadership</td>\n",
              "      <td>Leadership</td>\n",
              "      <td>Unknown</td>\n",
              "    </tr>\n",
              "    <tr>\n",
              "      <th>1582</th>\n",
              "      <td>https://www.entrepreneur.com/article/40274</td>\n",
              "      <td>\\n\\t\\t\\t\\tSmall Companies Benefit From Outside...</td>\n",
              "      <td>\\n\\n\\n\\t\\t\\t\\t\\t\\t\\t\\tMay\\n\\t\\t\\t\\t\\t\\t\\t\\t2, ...</td>\n",
              "      <td>Leadership</td>\n",
              "      <td>Leadership</td>\n",
              "      <td>Unknown</td>\n",
              "    </tr>\n",
              "    <tr>\n",
              "      <th>1592</th>\n",
              "      <td>https://www.entrepreneur.com/article/236674</td>\n",
              "      <td>\\n\\t\\t\\t\\t4 Tips on Managing Your Business Com...</td>\n",
              "      <td>\\n\\n\\t\\t\\t\\t\\t\\tThis story originally appeared...</td>\n",
              "      <td>Communications</td>\n",
              "      <td>Leadership</td>\n",
              "      <td>Unknown</td>\n",
              "    </tr>\n",
              "    <tr>\n",
              "      <th>1646</th>\n",
              "      <td>https://www.entrepreneur.com/article/235041</td>\n",
              "      <td>\\n\\t\\t\\t\\tHow to Deal With Headache-Inducing C...</td>\n",
              "      <td>\\n\\n\\t\\t\\t\\t\\t\\tThis story originally appeared...</td>\n",
              "      <td>Problem Customers</td>\n",
              "      <td>Leadership</td>\n",
              "      <td>Unknown</td>\n",
              "    </tr>\n",
              "  </tbody>\n",
              "</table>\n",
              "</div>"
            ],
            "text/plain": [
              "                                      Article URL  ...   Author\n",
              "185   https://www.entrepreneur.com/article/348873  ...  Unknown\n",
              "271   https://www.entrepreneur.com/article/338206  ...  Unknown\n",
              "334   https://www.entrepreneur.com/article/328430  ...  Unknown\n",
              "384   https://www.entrepreneur.com/article/322551  ...  Unknown\n",
              "417   https://www.entrepreneur.com/article/316961  ...  Unknown\n",
              "450   https://www.entrepreneur.com/article/316588  ...  Unknown\n",
              "491   https://www.entrepreneur.com/article/312942  ...  Unknown\n",
              "503   https://www.entrepreneur.com/article/311864  ...  Unknown\n",
              "600   https://www.entrepreneur.com/article/303763  ...  Unknown\n",
              "621   https://www.entrepreneur.com/article/302391  ...  Unknown\n",
              "775   https://www.entrepreneur.com/article/290752  ...  Unknown\n",
              "790   https://www.entrepreneur.com/article/289687  ...  Unknown\n",
              "803   https://www.entrepreneur.com/article/288940  ...  Unknown\n",
              "822   https://www.entrepreneur.com/article/287124  ...  Unknown\n",
              "830   https://www.entrepreneur.com/article/286589  ...  Unknown\n",
              "884   https://www.entrepreneur.com/article/282462  ...  Unknown\n",
              "1036  https://www.entrepreneur.com/article/270130  ...  Unknown\n",
              "1046  https://www.entrepreneur.com/article/254833  ...  Unknown\n",
              "1159  https://www.entrepreneur.com/article/247474  ...  Unknown\n",
              "1168  https://www.entrepreneur.com/article/246981  ...  Unknown\n",
              "1253  https://www.entrepreneur.com/article/242040  ...  Unknown\n",
              "1261  https://www.entrepreneur.com/article/241768  ...  Unknown\n",
              "1423  https://www.entrepreneur.com/article/232752  ...  Unknown\n",
              "1477  https://www.entrepreneur.com/article/227847  ...  Unknown\n",
              "1481  https://www.entrepreneur.com/article/227465  ...  Unknown\n",
              "1548  https://www.entrepreneur.com/article/206406  ...  Unknown\n",
              "1556  https://www.entrepreneur.com/article/204420  ...  Unknown\n",
              "1557  https://www.entrepreneur.com/article/203074  ...  Unknown\n",
              "1566  https://www.entrepreneur.com/article/197154  ...  Unknown\n",
              "1574  https://www.entrepreneur.com/article/176466  ...  Unknown\n",
              "1575  https://www.entrepreneur.com/article/163598  ...  Unknown\n",
              "1577  https://www.entrepreneur.com/article/163590  ...  Unknown\n",
              "1582   https://www.entrepreneur.com/article/40274  ...  Unknown\n",
              "1592  https://www.entrepreneur.com/article/236674  ...  Unknown\n",
              "1646  https://www.entrepreneur.com/article/235041  ...  Unknown\n",
              "\n",
              "[35 rows x 6 columns]"
            ]
          },
          "metadata": {
            "tags": []
          },
          "execution_count": 20
        }
      ]
    },
    {
      "cell_type": "code",
      "metadata": {
        "id": "j0muXUovAm0M",
        "colab": {
          "base_uri": "https://localhost:8080/"
        },
        "outputId": "edec00aa-e4f4-43b8-cd58-3b8bd76644eb"
      },
      "source": [
        "Ent['Author'].nunique()"
      ],
      "execution_count": 21,
      "outputs": [
        {
          "output_type": "execute_result",
          "data": {
            "text/plain": [
              "766"
            ]
          },
          "metadata": {
            "tags": []
          },
          "execution_count": 21
        }
      ]
    },
    {
      "cell_type": "code",
      "metadata": {
        "id": "OmH2WzgIPVBi",
        "colab": {
          "base_uri": "https://localhost:8080/",
          "height": 17
        },
        "outputId": "c2e3d164-ac2c-4eae-e118-c55beb3f63ba"
      },
      "source": [
        "Ent.to_csv(\"Ent_Articles_Leadership_withAuthor1.csv\")\n",
        "\n",
        "#Download the file to the laptop\n",
        "files.download('Ent_Articles_Leadership_withAuthor1.csv')"
      ],
      "execution_count": 22,
      "outputs": [
        {
          "output_type": "display_data",
          "data": {
            "application/javascript": [
              "\n",
              "    async function download(id, filename, size) {\n",
              "      if (!google.colab.kernel.accessAllowed) {\n",
              "        return;\n",
              "      }\n",
              "      const div = document.createElement('div');\n",
              "      const label = document.createElement('label');\n",
              "      label.textContent = `Downloading \"${filename}\": `;\n",
              "      div.appendChild(label);\n",
              "      const progress = document.createElement('progress');\n",
              "      progress.max = size;\n",
              "      div.appendChild(progress);\n",
              "      document.body.appendChild(div);\n",
              "\n",
              "      const buffers = [];\n",
              "      let downloaded = 0;\n",
              "\n",
              "      const channel = await google.colab.kernel.comms.open(id);\n",
              "      // Send a message to notify the kernel that we're ready.\n",
              "      channel.send({})\n",
              "\n",
              "      for await (const message of channel.messages) {\n",
              "        // Send a message to notify the kernel that we're ready.\n",
              "        channel.send({})\n",
              "        if (message.buffers) {\n",
              "          for (const buffer of message.buffers) {\n",
              "            buffers.push(buffer);\n",
              "            downloaded += buffer.byteLength;\n",
              "            progress.value = downloaded;\n",
              "          }\n",
              "        }\n",
              "      }\n",
              "      const blob = new Blob(buffers, {type: 'application/binary'});\n",
              "      const a = document.createElement('a');\n",
              "      a.href = window.URL.createObjectURL(blob);\n",
              "      a.download = filename;\n",
              "      div.appendChild(a);\n",
              "      a.click();\n",
              "      div.remove();\n",
              "    }\n",
              "  "
            ],
            "text/plain": [
              "<IPython.core.display.Javascript object>"
            ]
          },
          "metadata": {
            "tags": []
          }
        },
        {
          "output_type": "display_data",
          "data": {
            "application/javascript": [
              "download(\"download_6300dba6-7c11-4b07-9987-bb05e8437d25\", \"Ent_Articles_Leadership_withAuthor1.csv\", 8675834)"
            ],
            "text/plain": [
              "<IPython.core.display.Javascript object>"
            ]
          },
          "metadata": {
            "tags": []
          }
        }
      ]
    },
    {
      "cell_type": "code",
      "metadata": {
        "id": "Y2EztDX8Ltdg"
      },
      "source": [
        ""
      ],
      "execution_count": null,
      "outputs": []
    }
  ]
}