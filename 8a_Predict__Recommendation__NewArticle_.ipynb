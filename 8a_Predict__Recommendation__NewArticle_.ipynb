{
  "nbformat": 4,
  "nbformat_minor": 0,
  "metadata": {
    "colab": {
      "name": "8a. Predict_ Recommendation _NewArticle .ipynb",
      "provenance": [],
      "collapsed_sections": [
        "6tw7n_z85wol"
      ],
      "machine_shape": "hm"
    },
    "kernelspec": {
      "name": "python3",
      "display_name": "Python 3"
    },
    "language_info": {
      "name": "python"
    },
    "accelerator": "GPU"
  },
  "cells": [
    {
      "cell_type": "code",
      "metadata": {
        "colab": {
          "base_uri": "https://localhost:8080/"
        },
        "id": "osfLV1ZK7sw6",
        "outputId": "16b9f8fe-66d4-4d36-edbc-47da55fbae6a"
      },
      "source": [
        "from google.colab import drive\n",
        "drive.mount('/content/drive')"
      ],
      "execution_count": 1,
      "outputs": [
        {
          "output_type": "stream",
          "text": [
            "Mounted at /content/drive\n"
          ],
          "name": "stdout"
        }
      ]
    },
    {
      "cell_type": "code",
      "metadata": {
        "colab": {
          "base_uri": "https://localhost:8080/"
        },
        "id": "Lm8S2VPC8bmG",
        "outputId": "5eae0238-28b1-4852-a8a0-e7721a7220f6"
      },
      "source": [
        "# Install docx to read incoming new docx file\n",
        "!pip install python-docx"
      ],
      "execution_count": 2,
      "outputs": [
        {
          "output_type": "stream",
          "text": [
            "Collecting python-docx\n",
            "  Downloading python-docx-0.8.11.tar.gz (5.6 MB)\n",
            "\u001b[K     |████████████████████████████████| 5.6 MB 4.7 MB/s \n",
            "\u001b[?25hRequirement already satisfied: lxml>=2.3.2 in /usr/local/lib/python3.7/dist-packages (from python-docx) (4.2.6)\n",
            "Building wheels for collected packages: python-docx\n",
            "  Building wheel for python-docx (setup.py) ... \u001b[?25l\u001b[?25hdone\n",
            "  Created wheel for python-docx: filename=python_docx-0.8.11-py3-none-any.whl size=184508 sha256=a2c4b86f794e7b48902c8d30a93e2680e3c0a8a0a159f90237e1f83be4b08a9e\n",
            "  Stored in directory: /root/.cache/pip/wheels/f6/6f/b9/d798122a8b55b74ad30b5f52b01482169b445fbb84a11797a6\n",
            "Successfully built python-docx\n",
            "Installing collected packages: python-docx\n",
            "Successfully installed python-docx-0.8.11\n"
          ],
          "name": "stdout"
        }
      ]
    },
    {
      "cell_type": "code",
      "metadata": {
        "id": "yb4mgbK-Slu9"
      },
      "source": [
        "import os"
      ],
      "execution_count": 3,
      "outputs": []
    },
    {
      "cell_type": "code",
      "metadata": {
        "id": "zWtLES4kSqi4"
      },
      "source": [
        "os.chdir('/content/drive/MyDrive/capstone/') #Ujjval"
      ],
      "execution_count": 4,
      "outputs": []
    },
    {
      "cell_type": "code",
      "metadata": {
        "colab": {
          "base_uri": "https://localhost:8080/"
        },
        "id": "4mNLVWqB7439",
        "outputId": "dec96200-d556-44ff-cf9b-a607bac5c377"
      },
      "source": [
        "# import\n",
        "import warnings\n",
        "import os\n",
        "import pandas as pd \n",
        "import numpy as np\n",
        "\n",
        "from google.colab import files\n",
        "import time\n",
        "\n",
        "import matplotlib.pyplot as plt\n",
        "%matplotlib inline\n",
        "from matplotlib import pyplot\n",
        "import seaborn as sns\n",
        "import tensorflow \n",
        "print(tensorflow.__version__)\n",
        "# suppress display of warnings\n",
        "warnings.filterwarnings('ignore')\n",
        "# display all dataframe columns\n",
        "pd.options.display.max_columns = None\n",
        "\n",
        "# to set the limit to 3 decimals\n",
        "pd.options.display.float_format = '{:.7f}'.format\n",
        "\n",
        "# display all dataframe rows\n",
        "pd.options.display.max_rows = None"
      ],
      "execution_count": 5,
      "outputs": [
        {
          "output_type": "stream",
          "text": [
            "2.5.0\n"
          ],
          "name": "stdout"
        }
      ]
    },
    {
      "cell_type": "code",
      "metadata": {
        "id": "4n58SACo8fcc"
      },
      "source": [
        "#path = \"/content/drive/MyDrive/AI-ML/Data/TestAtricle1MarketingMedium.docx\"\n",
        "#path = \"/content/drive/MyDrive/AI-ML/Data/TestArticle3_Finance_Large.docx\"\n",
        "#path = \"/content/drive/MyDrive/capstone/Data_Test_Articles/TestArticle3_Finance_Large.docx\" #Ujjval\n",
        "path = \"/content/drive/MyDrive/capstone/Data_Test_Articles/TestArticle 4.docx\" #Ujjval\n",
        "#https://managemagazine.com/blogtalk/management/henry-mintzberg-half-truths-management/\n",
        "'''\n",
        "### read in the .docx file extention\n",
        "'''\n",
        "import docx\n",
        "\n",
        "doc = docx.Document(path)\n",
        "doc_data = [p.text for p in doc.paragraphs if p.text]\n",
        "\n",
        "doc_data_str = ''\n",
        "for p in doc.paragraphs:\n",
        "  doc_data_str  += str(p.text)   \n",
        "\n",
        "df = pd.DataFrame({'Article_Text': [doc_data_str]})"
      ],
      "execution_count": 62,
      "outputs": []
    },
    {
      "cell_type": "code",
      "metadata": {
        "id": "Vn7Dh6aiBaMY"
      },
      "source": [
        "###########################################################\n",
        "#### The below function is on Text Preprocessing File\n",
        "\n",
        "#Clean up the new article using same function as done for train-test datasets\n",
        "from bs4 import BeautifulSoup\n",
        "import re\n",
        "\n",
        "def str_strip(text):\n",
        "    soup = BeautifulSoup(text, \"html.parser\") \n",
        "    text = re.sub('\\[[^]]*\\]', '', soup.get_text())\n",
        "    text = re.sub('\\nAuthor Abstract\\n', '', text)\n",
        "    text = re.sub('(?=Paper Information)(?s)(.*$)', '', text)\n",
        "    text = text.strip()\n",
        "    text = re.sub('\\n', ' ', text)\n",
        "    text = re.sub('\\t', ' ', text)\n",
        "    text = re.sub(u'\\xa0', u' ', text)\n",
        "    text = re.sub('—', ' ', text)  \n",
        "    pattern=r\"[^a-zA-z0-9\\s,.;!()&$\\-']\"\n",
        "    text=re.sub(pattern,'',text)\n",
        "    text = re.sub('/\\s\\s+/g', ' ', text) #remove multiple spaces\n",
        "    text = re.sub('/  +/g', ' ',text)\n",
        "    read_pattern1 =r'\\d min read'\n",
        "    read_pattern2 =r'min read'\n",
        "    translation_pattern = r'This article was translated from our Spanish edition using AI technologies. Errors may exist due to this process.'\n",
        "    opinion_pattern = 'Opinions expressed by Entrepreneur contributors are their own.'\n",
        "    date_pattern = r'^(?:January|February|March|April|May|June|July|August|September|October|November|December)\\s+(\\d+)\\,\\s+(\\d+)\\s+' \n",
        "    text=re.sub(read_pattern1,'',text)\n",
        "    text=re.sub(read_pattern2,'',text)\n",
        "    text=re.sub(translation_pattern,'',text)\n",
        "    text=re.sub(opinion_pattern,'',text)\n",
        "    text=re.sub(date_pattern,'',text)\n",
        "    return text"
      ],
      "execution_count": 63,
      "outputs": []
    },
    {
      "cell_type": "code",
      "metadata": {
        "id": "CRzLZOAzBVmm"
      },
      "source": [
        "df['Cleaned_Article']=df['Article_Text'].apply(str_strip)"
      ],
      "execution_count": 64,
      "outputs": []
    },
    {
      "cell_type": "code",
      "metadata": {
        "id": "sNsyfXAlCrnE"
      },
      "source": [
        "df['Cleaned_Article']=df['Article_Text'].apply(str_strip)\n",
        "article_to_predict = df['Cleaned_Article'][0]"
      ],
      "execution_count": 65,
      "outputs": []
    },
    {
      "cell_type": "code",
      "metadata": {
        "colab": {
          "base_uri": "https://localhost:8080/",
          "height": 107
        },
        "id": "RL20YebZ1vQJ",
        "outputId": "17fea7e4-61e4-4f66-c536-ffdd367b060f"
      },
      "source": [
        "article_to_predict"
      ],
      "execution_count": 66,
      "outputs": [
        {
          "output_type": "execute_result",
          "data": {
            "application/vnd.google.colaboratory.intrinsic+json": {
              "type": "string"
            },
            "text/plain": [
              "'Henry Mintzberg about some Half-Truths of ManagementBy  - March 31, 2017SHARE   There are no whole truths; all truths are half-truths (Alfred North Whitehead). So here are a few in management.WE LIVE IN TIMES OF GREAT CHANGEHave you heard this before say in the last hour Did you know that when a laptop detects a CEO about to type a speech, it automatically enters We live in times of great change.  Why bother the CEO to type it again, since just about every management speech in the past few decades has begun with this line. That never changes.Do we really live in times of great change Look around and tell me whats changed fundamentally. Your food, your furniture, your friends, your fixations Are you wearing a tie, or high heels How come because you always have How about your car Under the hood is probably a four-cycle, internal combustion engine. That was in the Model T Ford.When you got dressed this morning, did you say to yourself If we live in times of great change, how come we are still buttoning buttons (from Wikipedia Functional buttons with buttonholes for fastening or closing clothes appeared first in Germany in the 13th century).Whats my point That we only notice what is changing, and most things are not. Of course, some things are changing information technology, most notably. Zap, I hit a few keys and Wikipedia tells me about buttons. I hope you have taken notice of this new technology, because it is rendering great changes.  But I hope that you are also taking notice of all the things that are not changing, because they are no less important. Managing change without managing continuity is anarchy.THE WORLD IS BECOMING MORE GLOBALOften, when I work with groups of managers in various parts of the world, I ask them whose businesses have more than half their sales outside the home country. You would be surprised how few do. (If a quintessentially global company like General Electric has about half its sales in the United States, then it is better described as a quintessentially American company.)  Think of how much retailing, banking, food, and so on, is local. On the other hand, more than a century ago, Singer sewing machines were sold as globally as are Apple phones today._________The fact of the matter is that some businesses have long been global, and a great many remain local.MANAGEMENT SITS ON TOPOf what The pay scale, to be sure, and probably the headquarters building too. But mostly on top of that ubiquitous chart. So what If, as CEO, you see yourself on top of your organization, does that help you keep on top of what is going on in your organization No. This top is the worst place to manage an organization looking down on everybody else. Try the ground instead.  Dont we have enough disconnected managing alreadyFROM THIS TOP COMES DECISIONS AND STRATEGIES FOR EVERYONE ELSE TO IMPLEMENTIKEA has a terrific strategy selling unassembled furniture so that we can take it home in our cars, which saves us and the company lots of money. According to IKEAs own website, this idea came from the ground. A worker tried to put a table in his car, and it didnt fit, so he took off the legs. Then came the key insight that eventually changed the strategy, and the industry If we have to take the legs off, dont our customers do too Who asked that a CEO on topOf course, the key to this becoming strategic was a company culture that enabled this idea to get to the CEO, to sprinkle holy water upon it. But Ill bet this particular CEO, like most successful entrepreneurs, spent lots of time at the bottom finding out what was going on.Thus from everywhere, implementation included, come little insights that can emerge into big strategies.ORGANIZATIONS NEED HEROIC LEADERSReally How often have heroic leaders ridden into established organizations on great white horses, only to fall into black holes New organizations may need aggressive leadership, but most others need engaged management quiet, humble, thoughtful. Enough narcissism in the executive suites.PEOPLE ARE HUMAN RESOURCESNot me! Feel free to let yourself be called a human resource. I am a human being, thank you. Not even a human asset, let alone human capital. Enough of the demeaning vocabulary of economics turning us all into things. Resources are things we throw away when we no longer need them. Is that how to build a great enterprise by throwing away the human beings (Its politely called downsizing.) Airlines used to refer to passengers as self-loading cargo. Are the HR words really any betterIF YOU CANT MEASURE IT, YOU CANT MANAGE ITThis is just plain silly.  If you cant measure it, you had better manage it. And if you can measure it, you had better manage it even more carefully. Think of all that matters in management and in life that is tough to measure culture, engagement, leadership, the market for a truly novel product (whoever got that right), even management itself. And tell me, did anyone who uttered this nonsense ever even try to measure the performance of measurement, instead of assuming it is wonderful I guess, then, that we shall have to get rid of management and measurement too, not to mention truly new products.I could go on, since too much management goes on and on with its half-truths. Instead, Ill just quote Winston Churchill, that human being who lived in times of greater change than most of us can possibly imagine occasionally stumble over the truth, but most of them pick themselves up and hurry off as if nothing happened.'"
            ]
          },
          "metadata": {
            "tags": []
          },
          "execution_count": 66
        }
      ]
    },
    {
      "cell_type": "markdown",
      "metadata": {
        "id": "NFxyobhGI5DG"
      },
      "source": [
        "#Dimentions of articles - including Readability,Polarity,Subjectivity"
      ]
    },
    {
      "cell_type": "code",
      "metadata": {
        "colab": {
          "base_uri": "https://localhost:8080/"
        },
        "id": "IRD_-tEwJFqg",
        "outputId": "cb33596a-ab5c-4de5-877a-b9fd589d3518"
      },
      "source": [
        "import nltk\n",
        "from nltk.corpus import stopwords\n",
        "nltk.download('stopwords')"
      ],
      "execution_count": 67,
      "outputs": [
        {
          "output_type": "stream",
          "text": [
            "[nltk_data] Downloading package stopwords to /root/nltk_data...\n",
            "[nltk_data]   Package stopwords is already up-to-date!\n"
          ],
          "name": "stdout"
        },
        {
          "output_type": "execute_result",
          "data": {
            "text/plain": [
              "True"
            ]
          },
          "metadata": {
            "tags": []
          },
          "execution_count": 67
        }
      ]
    },
    {
      "cell_type": "code",
      "metadata": {
        "colab": {
          "base_uri": "https://localhost:8080/"
        },
        "id": "6bWUN-O5LfAY",
        "outputId": "6b5f5bfc-d29c-4f85-e087-826b411d34e0"
      },
      "source": [
        "!pip install textstat"
      ],
      "execution_count": 68,
      "outputs": [
        {
          "output_type": "stream",
          "text": [
            "Requirement already satisfied: textstat in /usr/local/lib/python3.7/dist-packages (0.7.2)\n",
            "Requirement already satisfied: pyphen in /usr/local/lib/python3.7/dist-packages (from textstat) (0.11.0)\n"
          ],
          "name": "stdout"
        }
      ]
    },
    {
      "cell_type": "code",
      "metadata": {
        "colab": {
          "base_uri": "https://localhost:8080/"
        },
        "id": "ayd8p6QtLfCA",
        "outputId": "f0bed77a-4280-45de-c5f4-98406e038c01"
      },
      "source": [
        "! pip install textblob"
      ],
      "execution_count": 69,
      "outputs": [
        {
          "output_type": "stream",
          "text": [
            "Requirement already satisfied: textblob in /usr/local/lib/python3.7/dist-packages (0.15.3)\n",
            "Requirement already satisfied: nltk>=3.1 in /usr/local/lib/python3.7/dist-packages (from textblob) (3.2.5)\n",
            "Requirement already satisfied: six in /usr/local/lib/python3.7/dist-packages (from nltk>=3.1->textblob) (1.15.0)\n"
          ],
          "name": "stdout"
        }
      ]
    },
    {
      "cell_type": "code",
      "metadata": {
        "colab": {
          "base_uri": "https://localhost:8080/"
        },
        "id": "rr0f0Kk0LfGH",
        "outputId": "537ed940-912f-4f54-f469-ec6dac9de59f"
      },
      "source": [
        "import textstat \n",
        "import textblob\n",
        "nltk.download('wordnet')"
      ],
      "execution_count": 70,
      "outputs": [
        {
          "output_type": "stream",
          "text": [
            "[nltk_data] Downloading package wordnet to /root/nltk_data...\n",
            "[nltk_data]   Package wordnet is already up-to-date!\n"
          ],
          "name": "stdout"
        },
        {
          "output_type": "execute_result",
          "data": {
            "text/plain": [
              "True"
            ]
          },
          "metadata": {
            "tags": []
          },
          "execution_count": 70
        }
      ]
    },
    {
      "cell_type": "code",
      "metadata": {
        "id": "rG2EfoF4LfHg"
      },
      "source": [
        "from textblob import TextBlob"
      ],
      "execution_count": 71,
      "outputs": []
    },
    {
      "cell_type": "code",
      "metadata": {
        "id": "NOhXGM9-LfLm"
      },
      "source": [
        "stop = stopwords.words('english')"
      ],
      "execution_count": 72,
      "outputs": []
    },
    {
      "cell_type": "code",
      "metadata": {
        "id": "OqgxAHiyLfNM"
      },
      "source": [
        "def avg_word(sentence):\n",
        "  words = sentence.split()\n",
        "  return (sum(len(word) for word in words)/len(words))"
      ],
      "execution_count": 73,
      "outputs": []
    },
    {
      "cell_type": "code",
      "metadata": {
        "id": "AP5X3FjdMBlg"
      },
      "source": [
        "df['Word_Count']=df['Cleaned_Article'].apply(lambda x:len(x.split(' ')))\n",
        "df['Char_Count'] = df['Cleaned_Article'].str.len()\n",
        "df['Avg_Word_length'] = df['Cleaned_Article'].apply(lambda x: avg_word(x))\n",
        "df['Stopwords_Count'] = df['Cleaned_Article'].apply(lambda x: len([x for x in x.split() if x in stop]))\n",
        "df['numerics_Count'] = df['Cleaned_Article'].apply(lambda x: len([x for x in x.split() if x.isdigit()]))\n",
        "df['Upper_Count'] = df['Cleaned_Article'].apply(lambda x: len([x for x in x.split() if x.isupper()]))\n",
        "df['Syllable_Count'] = df['Cleaned_Article'].apply(lambda x: textstat.syllable_count(x))\n",
        "df['Sentence_Count'] = df['Cleaned_Article'].apply(lambda x: textstat.sentence_count(x))\n",
        "df['Difficult_Words_Count'] = df['Cleaned_Article'].apply(lambda x: textstat.difficult_words(x))\n",
        "df['length'] = df['Cleaned_Article'].astype(str).apply(len)"
      ],
      "execution_count": 74,
      "outputs": []
    },
    {
      "cell_type": "code",
      "metadata": {
        "id": "m6mZ4teTOWc8"
      },
      "source": [
        "\n",
        "df['Article_Size'] = df['Word_Count'].apply(lambda x: 'Small' if x <= 500 else ('Medium' if x <1000 else 'Large'))"
      ],
      "execution_count": 75,
      "outputs": []
    },
    {
      "cell_type": "code",
      "metadata": {
        "id": "VXbfZmzZNOmk"
      },
      "source": [
        "df['Difficult_Words_%'] = (df['Difficult_Words_Count'] / df['Word_Count'])*100"
      ],
      "execution_count": 76,
      "outputs": []
    },
    {
      "cell_type": "code",
      "metadata": {
        "id": "H07javeG3bK2"
      },
      "source": [
        "#Difficult words (two-syllables) <10 - Basic 11-25 - Elementary 25-40 - Intermediate 40< - Advanced"
      ],
      "execution_count": 77,
      "outputs": []
    },
    {
      "cell_type": "code",
      "metadata": {
        "id": "8A_jZlbj3XAU"
      },
      "source": [
        "#convertng into category\n",
        "def Difficult(x):\n",
        "    global ret    \n",
        "    if (x < 10.0):\n",
        "        ret = \"Basic\"  \n",
        "    elif ((x > 10.0)and (x<= 25.0)):\n",
        "        ret = \"Elementary\"\n",
        "    elif ((x > 25.0)and (x<= 40.0)):\n",
        "        ret = \"Intermediate\"\n",
        "    elif (x > 40.0):\n",
        "        ret = \"Advanced\"\n",
        "    return ret"
      ],
      "execution_count": 78,
      "outputs": []
    },
    {
      "cell_type": "code",
      "metadata": {
        "id": "Bvz1t_gq3ifr"
      },
      "source": [
        "df['Difficulty_Level'] = df['Difficult_Words_%'].apply(Difficult)"
      ],
      "execution_count": 79,
      "outputs": []
    },
    {
      "cell_type": "code",
      "metadata": {
        "id": "W5CHuPGlMFrS"
      },
      "source": [
        "def readability(text):\n",
        "    readability = textstat.flesch_reading_ease(text) #The Flesch Reading Ease formula\n",
        "    return readability"
      ],
      "execution_count": 80,
      "outputs": []
    },
    {
      "cell_type": "code",
      "metadata": {
        "id": "A9RGC1-wMGRv"
      },
      "source": [
        "df['Readability'] = df['Cleaned_Article'].apply(readability)"
      ],
      "execution_count": 81,
      "outputs": []
    },
    {
      "cell_type": "code",
      "metadata": {
        "id": "_PcIeWlpMJC6"
      },
      "source": [
        "#convertng into category\n",
        "def cat(x):\n",
        "    global ret    \n",
        "    if (x < 10.0):\n",
        "        ret = \"Professional\"  \n",
        "    elif ((x > 10.0)and (x<= 30.0)):\n",
        "        ret = \"Graduate\"\n",
        "    elif ((x > 30.0)and (x<= 50.0)):\n",
        "        ret = \"College\"\n",
        "    elif ((x > 50.0)and (x<= 60.0)):\n",
        "        ret = \"Grade_10\"\n",
        "    elif ((x > 60.0)and (x<= 70.0)):\n",
        "        ret = \"Grade_8\"\n",
        "    elif ((x > 70.0)and (x<= 80.0)):\n",
        "        ret = \"Grade_7\"\n",
        "    elif ((x > 80.0)and (x<= 90.0)):\n",
        "        ret = \"Grade_6\"\n",
        "    elif (x > 90.0):\n",
        "        ret = \"Grade_5\"\n",
        "    return ret"
      ],
      "execution_count": 82,
      "outputs": []
    },
    {
      "cell_type": "code",
      "metadata": {
        "id": "ITKx7l2NMPJI"
      },
      "source": [
        "df['F_Readability'] = df.Readability.apply(cat)"
      ],
      "execution_count": 83,
      "outputs": []
    },
    {
      "cell_type": "code",
      "metadata": {
        "id": "T3a1B7W0MSVB"
      },
      "source": [
        "df['Polarity'] = df['Cleaned_Article'].map(lambda text: TextBlob(text).sentiment.polarity)  # range from -1 to 1"
      ],
      "execution_count": 84,
      "outputs": []
    },
    {
      "cell_type": "code",
      "metadata": {
        "id": "IyCSwQoeMTE2"
      },
      "source": [
        "df['Sentiment'] = df['Polarity'].apply(lambda x: 'Negative' if x <= 0 else ('Neutral' if x <0.1 else 'Positive'))"
      ],
      "execution_count": 85,
      "outputs": []
    },
    {
      "cell_type": "code",
      "metadata": {
        "id": "s7GBxWStMcgb"
      },
      "source": [
        "df['Subjectivity'] = df['Cleaned_Article'].map(lambda text: TextBlob(text).sentiment.subjectivity) \n",
        "# Subjective sentences generally refer to personal opinion, emotion or judgment whereas objective refers to factual information. Subjectivity is also a float which lies in the range of [0,1].\n",
        "# i.e. 0.75 subjectivity refers that mostly it is a public opinion and not a factual information."
      ],
      "execution_count": 86,
      "outputs": []
    },
    {
      "cell_type": "code",
      "metadata": {
        "colab": {
          "base_uri": "https://localhost:8080/",
          "height": 168
        },
        "id": "SgPot299SOGn",
        "outputId": "6f74f624-c7d0-4466-f2b3-5c3b25e689d0"
      },
      "source": [
        "df.head()"
      ],
      "execution_count": 87,
      "outputs": [
        {
          "output_type": "execute_result",
          "data": {
            "text/html": [
              "<div>\n",
              "<style scoped>\n",
              "    .dataframe tbody tr th:only-of-type {\n",
              "        vertical-align: middle;\n",
              "    }\n",
              "\n",
              "    .dataframe tbody tr th {\n",
              "        vertical-align: top;\n",
              "    }\n",
              "\n",
              "    .dataframe thead th {\n",
              "        text-align: right;\n",
              "    }\n",
              "</style>\n",
              "<table border=\"1\" class=\"dataframe\">\n",
              "  <thead>\n",
              "    <tr style=\"text-align: right;\">\n",
              "      <th></th>\n",
              "      <th>Article_Text</th>\n",
              "      <th>Cleaned_Article</th>\n",
              "      <th>Word_Count</th>\n",
              "      <th>Char_Count</th>\n",
              "      <th>Avg_Word_length</th>\n",
              "      <th>Stopwords_Count</th>\n",
              "      <th>numerics_Count</th>\n",
              "      <th>Upper_Count</th>\n",
              "      <th>Syllable_Count</th>\n",
              "      <th>Sentence_Count</th>\n",
              "      <th>Difficult_Words_Count</th>\n",
              "      <th>length</th>\n",
              "      <th>Article_Size</th>\n",
              "      <th>Difficult_Words_%</th>\n",
              "      <th>Difficulty_Level</th>\n",
              "      <th>Readability</th>\n",
              "      <th>F_Readability</th>\n",
              "      <th>Polarity</th>\n",
              "      <th>Sentiment</th>\n",
              "      <th>Subjectivity</th>\n",
              "    </tr>\n",
              "  </thead>\n",
              "  <tbody>\n",
              "    <tr>\n",
              "      <th>0</th>\n",
              "      <td>Henry Mintzberg about some Half-Truths of Mana...</td>\n",
              "      <td>Henry Mintzberg about some Half-Truths of Mana...</td>\n",
              "      <td>950</td>\n",
              "      <td>5489</td>\n",
              "      <td>4.8195329</td>\n",
              "      <td>373</td>\n",
              "      <td>0</td>\n",
              "      <td>50</td>\n",
              "      <td>1361</td>\n",
              "      <td>32</td>\n",
              "      <td>134</td>\n",
              "      <td>5489</td>\n",
              "      <td>Medium</td>\n",
              "      <td>14.1052632</td>\n",
              "      <td>Elementary</td>\n",
              "      <td>58.5500000</td>\n",
              "      <td>Grade_10</td>\n",
              "      <td>0.1870821</td>\n",
              "      <td>Positive</td>\n",
              "      <td>0.4818873</td>\n",
              "    </tr>\n",
              "  </tbody>\n",
              "</table>\n",
              "</div>"
            ],
            "text/plain": [
              "                                        Article_Text  \\\n",
              "0  Henry Mintzberg about some Half-Truths of Mana...   \n",
              "\n",
              "                                     Cleaned_Article  Word_Count  Char_Count  \\\n",
              "0  Henry Mintzberg about some Half-Truths of Mana...         950        5489   \n",
              "\n",
              "   Avg_Word_length  Stopwords_Count  numerics_Count  Upper_Count  \\\n",
              "0        4.8195329              373               0           50   \n",
              "\n",
              "   Syllable_Count  Sentence_Count  Difficult_Words_Count  length Article_Size  \\\n",
              "0            1361              32                    134    5489       Medium   \n",
              "\n",
              "   Difficult_Words_% Difficulty_Level  Readability F_Readability  Polarity  \\\n",
              "0         14.1052632       Elementary   58.5500000      Grade_10 0.1870821   \n",
              "\n",
              "  Sentiment  Subjectivity  \n",
              "0  Positive     0.4818873  "
            ]
          },
          "metadata": {
            "tags": []
          },
          "execution_count": 87
        }
      ]
    },
    {
      "cell_type": "markdown",
      "metadata": {
        "id": "wJKrycxUJEg_"
      },
      "source": [
        "#MBTI"
      ]
    },
    {
      "cell_type": "code",
      "metadata": {
        "id": "DtYicBK_JaAJ"
      },
      "source": [
        "import re\n",
        "import tensorflow as tf\n",
        "from tensorflow import keras\n",
        "from tensorflow.keras.preprocessing.text import one_hot\n",
        "from nltk.stem.porter import PorterStemmer\n",
        "from sklearn import preprocessing\n",
        "from tensorflow.keras.preprocessing.sequence import pad_sequences"
      ],
      "execution_count": 88,
      "outputs": []
    },
    {
      "cell_type": "code",
      "metadata": {
        "colab": {
          "base_uri": "https://localhost:8080/"
        },
        "id": "XsJwbD3KJaNi",
        "outputId": "49d56c05-2ac3-4753-ff5e-6f275da44cb4"
      },
      "source": [
        "MBTI_model = tf.keras.models.load_model('Prediction.h5')\n",
        "\n",
        "# Check its architecture\n",
        "MBTI_model.summary()"
      ],
      "execution_count": 89,
      "outputs": [
        {
          "output_type": "stream",
          "text": [
            "Model: \"sequential\"\n",
            "_________________________________________________________________\n",
            "Layer (type)                 Output Shape              Param #   \n",
            "=================================================================\n",
            "embedding (Embedding)        (None, 250, 100)          5000000   \n",
            "_________________________________________________________________\n",
            "dropout (Dropout)            (None, 250, 100)          0         \n",
            "_________________________________________________________________\n",
            "lstm (LSTM)                  (None, 100)               80400     \n",
            "_________________________________________________________________\n",
            "dropout_1 (Dropout)          (None, 100)               0         \n",
            "_________________________________________________________________\n",
            "dense (Dense)                (None, 16)                1616      \n",
            "=================================================================\n",
            "Total params: 5,082,016\n",
            "Trainable params: 5,082,016\n",
            "Non-trainable params: 0\n",
            "_________________________________________________________________\n"
          ],
          "name": "stdout"
        }
      ]
    },
    {
      "cell_type": "code",
      "metadata": {
        "id": "iom66MRsJ10i"
      },
      "source": [
        "def preprocess(input):\n",
        "    \n",
        "    ps=PorterStemmer()\n",
        "    \n",
        "    L=[]\n",
        "\n",
        "    review = re.sub('[^a-zA-Z]','',input[0])\n",
        "    review=review.lower()\n",
        "    review=review.split()\n",
        "    review = [ps.stem(word) for word in review if not word in stopwords.words('english') ]\n",
        "    review=''.join(review)\n",
        "    L.append(review)\n",
        "    \n",
        "    oe=[one_hot(words,voc_size) for words in L]\n",
        "    \n",
        "    sent_length=2500\n",
        "    doc = pad_sequences(oe,padding='pre',maxlen = sent_length)\n",
        "    \n",
        "    return doc"
      ],
      "execution_count": 90,
      "outputs": []
    },
    {
      "cell_type": "code",
      "metadata": {
        "id": "FwXqsFv0J2tZ"
      },
      "source": [
        "voc_size = 50000"
      ],
      "execution_count": 91,
      "outputs": []
    },
    {
      "cell_type": "code",
      "metadata": {
        "id": "exqGeY99Qpum"
      },
      "source": [
        "#convertng into category\n",
        "def MBTI_mapping(x):\n",
        "    \n",
        "    if (x == 0):\n",
        "        ret = \"ENFJ\"  \n",
        "    elif (x == 1 ):\n",
        "        ret = \"ENFP\"\n",
        "    elif (x == 2 ):\n",
        "        ret = \"ENTJ\"\n",
        "    elif (x == 3 ):\n",
        "        ret = \"ENTP\"\n",
        "    elif (x == 4 ):\n",
        "        ret = \"ESFJ\"\n",
        "    elif (x == 5 ):\n",
        "        ret = \"ESFP\"\n",
        "    elif (x == 6 ):\n",
        "        ret = \"ESTJ\"\n",
        "    elif (x == 7 ):\n",
        "        ret = \"ESTP\"\n",
        "    elif (x == 8 ):\n",
        "        ret = \"INFJ\"\n",
        "    elif (x == 9 ):\n",
        "        ret = \"INFP\"\n",
        "    elif (x == 10 ):\n",
        "        ret = \"INTJ\"\n",
        "    elif (x == 11 ):\n",
        "        ret = \"INTP\"\n",
        "    elif (x == 12 ):\n",
        "        ret = \"ISFJ\"\n",
        "    elif (x == 13 ):\n",
        "        ret = \"ISFP\"\n",
        "    elif (x == 14 ):\n",
        "        ret = \"ISTJ\"\n",
        "    elif (x == 15 ):\n",
        "        ret = \"ISTP\"\n",
        "    \n",
        "    return ret"
      ],
      "execution_count": 92,
      "outputs": []
    },
    {
      "cell_type": "code",
      "metadata": {
        "id": "8DK6_mp6JaPF"
      },
      "source": [
        "def MBTI(input):\n",
        "    pred=preprocess(input)\n",
        "    y_pred=MBTI_model.predict(pred)\n",
        "    y_pred=np.argmax(y_pred)\n",
        "    y_pred = MBTI_mapping(y_pred)\n",
        "    return (y_pred)"
      ],
      "execution_count": 93,
      "outputs": []
    },
    {
      "cell_type": "code",
      "metadata": {
        "id": "9znq-ytLJaUD",
        "colab": {
          "base_uri": "https://localhost:8080/"
        },
        "outputId": "2b14c9cd-9d14-4dc2-c972-5ddc64eec826"
      },
      "source": [
        "df['MBTI'] = df['Cleaned_Article'].apply(MBTI)"
      ],
      "execution_count": 94,
      "outputs": [
        {
          "output_type": "stream",
          "text": [
            "WARNING:tensorflow:Model was constructed with shape (None, 250) for input KerasTensor(type_spec=TensorSpec(shape=(None, 250), dtype=tf.float32, name='embedding_input'), name='embedding_input', description=\"created by layer 'embedding_input'\"), but it was called on an input with incompatible shape (None, 2500).\n"
          ],
          "name": "stdout"
        }
      ]
    },
    {
      "cell_type": "code",
      "metadata": {
        "colab": {
          "base_uri": "https://localhost:8080/",
          "height": 168
        },
        "id": "RMgFhmjpJaaU",
        "outputId": "24f65437-bc6d-4c84-fad5-65cf1c906890"
      },
      "source": [
        "df.head()"
      ],
      "execution_count": 95,
      "outputs": [
        {
          "output_type": "execute_result",
          "data": {
            "text/html": [
              "<div>\n",
              "<style scoped>\n",
              "    .dataframe tbody tr th:only-of-type {\n",
              "        vertical-align: middle;\n",
              "    }\n",
              "\n",
              "    .dataframe tbody tr th {\n",
              "        vertical-align: top;\n",
              "    }\n",
              "\n",
              "    .dataframe thead th {\n",
              "        text-align: right;\n",
              "    }\n",
              "</style>\n",
              "<table border=\"1\" class=\"dataframe\">\n",
              "  <thead>\n",
              "    <tr style=\"text-align: right;\">\n",
              "      <th></th>\n",
              "      <th>Article_Text</th>\n",
              "      <th>Cleaned_Article</th>\n",
              "      <th>Word_Count</th>\n",
              "      <th>Char_Count</th>\n",
              "      <th>Avg_Word_length</th>\n",
              "      <th>Stopwords_Count</th>\n",
              "      <th>numerics_Count</th>\n",
              "      <th>Upper_Count</th>\n",
              "      <th>Syllable_Count</th>\n",
              "      <th>Sentence_Count</th>\n",
              "      <th>Difficult_Words_Count</th>\n",
              "      <th>length</th>\n",
              "      <th>Article_Size</th>\n",
              "      <th>Difficult_Words_%</th>\n",
              "      <th>Difficulty_Level</th>\n",
              "      <th>Readability</th>\n",
              "      <th>F_Readability</th>\n",
              "      <th>Polarity</th>\n",
              "      <th>Sentiment</th>\n",
              "      <th>Subjectivity</th>\n",
              "      <th>MBTI</th>\n",
              "    </tr>\n",
              "  </thead>\n",
              "  <tbody>\n",
              "    <tr>\n",
              "      <th>0</th>\n",
              "      <td>Henry Mintzberg about some Half-Truths of Mana...</td>\n",
              "      <td>Henry Mintzberg about some Half-Truths of Mana...</td>\n",
              "      <td>950</td>\n",
              "      <td>5489</td>\n",
              "      <td>4.8195329</td>\n",
              "      <td>373</td>\n",
              "      <td>0</td>\n",
              "      <td>50</td>\n",
              "      <td>1361</td>\n",
              "      <td>32</td>\n",
              "      <td>134</td>\n",
              "      <td>5489</td>\n",
              "      <td>Medium</td>\n",
              "      <td>14.1052632</td>\n",
              "      <td>Elementary</td>\n",
              "      <td>58.5500000</td>\n",
              "      <td>Grade_10</td>\n",
              "      <td>0.1870821</td>\n",
              "      <td>Positive</td>\n",
              "      <td>0.4818873</td>\n",
              "      <td>INTJ</td>\n",
              "    </tr>\n",
              "  </tbody>\n",
              "</table>\n",
              "</div>"
            ],
            "text/plain": [
              "                                        Article_Text  \\\n",
              "0  Henry Mintzberg about some Half-Truths of Mana...   \n",
              "\n",
              "                                     Cleaned_Article  Word_Count  Char_Count  \\\n",
              "0  Henry Mintzberg about some Half-Truths of Mana...         950        5489   \n",
              "\n",
              "   Avg_Word_length  Stopwords_Count  numerics_Count  Upper_Count  \\\n",
              "0        4.8195329              373               0           50   \n",
              "\n",
              "   Syllable_Count  Sentence_Count  Difficult_Words_Count  length Article_Size  \\\n",
              "0            1361              32                    134    5489       Medium   \n",
              "\n",
              "   Difficult_Words_% Difficulty_Level  Readability F_Readability  Polarity  \\\n",
              "0         14.1052632       Elementary   58.5500000      Grade_10 0.1870821   \n",
              "\n",
              "  Sentiment  Subjectivity  MBTI  \n",
              "0  Positive     0.4818873  INTJ  "
            ]
          },
          "metadata": {
            "tags": []
          },
          "execution_count": 95
        }
      ]
    },
    {
      "cell_type": "markdown",
      "metadata": {
        "id": "9E_VLBELKsmI"
      },
      "source": [
        "#Domain classification"
      ]
    },
    {
      "cell_type": "code",
      "metadata": {
        "id": "lAAdpxHj59TT"
      },
      "source": [
        "#convertng into category\n",
        "def domain_mapping(x):\n",
        "    if (x == 0):\n",
        "        ret = \"Finance\"  \n",
        "    elif (x == 1 ):\n",
        "        ret = \"Leadership\"\n",
        "    elif (x == 2 ):\n",
        "        ret = \"Marketing\"\n",
        "    elif (x == 3 ):\n",
        "        ret = \"ENStrategyTP\"\n",
        "    elif (x == 4 ):\n",
        "        ret = \"Technology\"\n",
        "    return ret     "
      ],
      "execution_count": 96,
      "outputs": []
    },
    {
      "cell_type": "markdown",
      "metadata": {
        "id": "mevBAjJY7P9S"
      },
      "source": [
        "Not to run both model 2 and 4. Run only one model"
      ]
    },
    {
      "cell_type": "markdown",
      "metadata": {
        "id": "6tw7n_z85wol"
      },
      "source": [
        "#Model4"
      ]
    },
    {
      "cell_type": "code",
      "metadata": {
        "colab": {
          "base_uri": "https://localhost:8080/"
        },
        "id": "1JfKRAXZ8KNh",
        "outputId": "8af8370e-1255-411d-9d24-4aaafe972639"
      },
      "source": [
        "#model_4_path = \"/content/drive/MyDrive/AI-ML/models/model_4_path/\"\n",
        "model_4_path = \"/content/drive/MyDrive/capstone/model_4_path\" #Ujjval\n",
        "\n",
        "loaded_model_4 = tf.keras.models.load_model(model_4_path)\n",
        "loaded_model_4.summary()"
      ],
      "execution_count": null,
      "outputs": [
        {
          "output_type": "stream",
          "text": [
            "Model: \"model_4_token_and_char_embeddings\"\n",
            "__________________________________________________________________________________________________\n",
            "Layer (type)                    Output Shape         Param #     Connected to                     \n",
            "==================================================================================================\n",
            "char_input (InputLayer)         [(None, 1)]          0                                            \n",
            "__________________________________________________________________________________________________\n",
            "token_input (InputLayer)        [(None,)]            0                                            \n",
            "__________________________________________________________________________________________________\n",
            "char_vectorizer (TextVectorizat (None, 8908)         0           char_input[0][0]                 \n",
            "__________________________________________________________________________________________________\n",
            "universal_sentence_encoder (Ker (None, 512)          256797824   token_input[0][0]                \n",
            "__________________________________________________________________________________________________\n",
            "char_embed (Embedding)          (None, 8908, 25)     1750        char_vectorizer[0][0]            \n",
            "__________________________________________________________________________________________________\n",
            "dense_5 (Dense)                 (None, 128)          65664       universal_sentence_encoder[0][0] \n",
            "__________________________________________________________________________________________________\n",
            "bidirectional (Bidirectional)   (None, 50)           10200       char_embed[0][0]                 \n",
            "__________________________________________________________________________________________________\n",
            "token_char_hybrid (Concatenate) (None, 178)          0           dense_5[0][0]                    \n",
            "                                                                 bidirectional[0][0]              \n",
            "__________________________________________________________________________________________________\n",
            "dropout (Dropout)               (None, 178)          0           token_char_hybrid[0][0]          \n",
            "__________________________________________________________________________________________________\n",
            "dense_6 (Dense)                 (None, 200)          35800       dropout[0][0]                    \n",
            "__________________________________________________________________________________________________\n",
            "dropout_1 (Dropout)             (None, 200)          0           dense_6[0][0]                    \n",
            "__________________________________________________________________________________________________\n",
            "dense_7 (Dense)                 (None, 5)            1005        dropout_1[0][0]                  \n",
            "==================================================================================================\n",
            "Total params: 256,912,243\n",
            "Trainable params: 114,419\n",
            "Non-trainable params: 256,797,824\n",
            "__________________________________________________________________________________________________\n"
          ],
          "name": "stdout"
        }
      ]
    },
    {
      "cell_type": "code",
      "metadata": {
        "id": "Z5kI4bmvNZeK"
      },
      "source": [
        "# Make function to split sentences into characters\n",
        "def split_chars(text):\n",
        "  return \" \".join(list(text))\n",
        "\n",
        "# Split sequence-level data splits into character-level data splits\n",
        "predict_chars = [split_chars(sentence) for sentence in article_to_predict]"
      ],
      "execution_count": null,
      "outputs": []
    },
    {
      "cell_type": "code",
      "metadata": {
        "id": "B_na9pPx2W7-"
      },
      "source": [
        "predict_token_data = tf.data.Dataset.from_tensor_slices(([article_to_predict], ))\n",
        "predict_char_data = tf.data.Dataset.from_tensor_slices((predict_chars, ))\n",
        "predict_dataset = tf.data.Dataset.zip((predict_token_data, predict_char_data))\n",
        "\n",
        "predict_char_token_dataset = tf.data.Dataset.zip((predict_dataset,))\n",
        "predict_char_token_dataset = predict_char_token_dataset.batch(32).prefetch(tf.data.AUTOTUNE)"
      ],
      "execution_count": null,
      "outputs": []
    },
    {
      "cell_type": "code",
      "metadata": {
        "colab": {
          "base_uri": "https://localhost:8080/"
        },
        "id": "p-bF0uDt2nVF",
        "outputId": "69dc4d9e-c0b1-4f4f-ecb1-1de18f6007a9"
      },
      "source": [
        "loaded_model_4_pred_probs = loaded_model_4.predict(predict_char_token_dataset)\n",
        "loaded_model_4_pred = tf.argmax(loaded_model_4_pred_probs, axis=1)\n",
        "loaded_model_4_pred"
      ],
      "execution_count": null,
      "outputs": [
        {
          "output_type": "execute_result",
          "data": {
            "text/plain": [
              "<tf.Tensor: shape=(1,), dtype=int64, numpy=array([0])>"
            ]
          },
          "metadata": {
            "tags": []
          },
          "execution_count": 44
        }
      ]
    },
    {
      "cell_type": "code",
      "metadata": {
        "colab": {
          "base_uri": "https://localhost:8080/",
          "height": 35
        },
        "id": "q2b6SCUS4FS5",
        "outputId": "dd6f04fa-3f22-4c42-c02b-9e927708f35a"
      },
      "source": [
        "predicted_domain_model_4 = domain_mapping(loaded_model_4_pred)\n",
        "predicted_domain_model_4"
      ],
      "execution_count": null,
      "outputs": [
        {
          "output_type": "execute_result",
          "data": {
            "application/vnd.google.colaboratory.intrinsic+json": {
              "type": "string"
            },
            "text/plain": [
              "'Finance'"
            ]
          },
          "metadata": {
            "tags": []
          },
          "execution_count": 46
        }
      ]
    },
    {
      "cell_type": "code",
      "metadata": {
        "colab": {
          "base_uri": "https://localhost:8080/",
          "height": 134
        },
        "id": "SYBw3fQB2oHg",
        "outputId": "a6bc85e8-6d59-4dff-e04a-3be55e27f70d"
      },
      "source": [
        "#Append the Domain in a new column\n",
        "df['Predicted_Domain'] = predicted_domain_model_4\n",
        "df"
      ],
      "execution_count": null,
      "outputs": [
        {
          "output_type": "execute_result",
          "data": {
            "text/html": [
              "<div>\n",
              "<style scoped>\n",
              "    .dataframe tbody tr th:only-of-type {\n",
              "        vertical-align: middle;\n",
              "    }\n",
              "\n",
              "    .dataframe tbody tr th {\n",
              "        vertical-align: top;\n",
              "    }\n",
              "\n",
              "    .dataframe thead th {\n",
              "        text-align: right;\n",
              "    }\n",
              "</style>\n",
              "<table border=\"1\" class=\"dataframe\">\n",
              "  <thead>\n",
              "    <tr style=\"text-align: right;\">\n",
              "      <th></th>\n",
              "      <th>Article_Text</th>\n",
              "      <th>Cleaned_Article</th>\n",
              "      <th>Word_Count</th>\n",
              "      <th>Char_Count</th>\n",
              "      <th>Avg_Word_length</th>\n",
              "      <th>Stopwords_Count</th>\n",
              "      <th>numerics_Count</th>\n",
              "      <th>Upper_Count</th>\n",
              "      <th>Syllable_Count</th>\n",
              "      <th>Sentence_Count</th>\n",
              "      <th>Difficult_Words_Count</th>\n",
              "      <th>length</th>\n",
              "      <th>Article_Size</th>\n",
              "      <th>Difficult_Words_%</th>\n",
              "      <th>Readability</th>\n",
              "      <th>F_Readability</th>\n",
              "      <th>Polarity</th>\n",
              "      <th>Sentiment</th>\n",
              "      <th>Subjectivity</th>\n",
              "      <th>MBTI</th>\n",
              "      <th>Predicted_Domain</th>\n",
              "    </tr>\n",
              "  </thead>\n",
              "  <tbody>\n",
              "    <tr>\n",
              "      <th>0</th>\n",
              "      <td>July\\t\\t\\t\\t\\t\\t\\t\\t25, 2017\\t\\t\\t\\t\\t\\t\\t\\t\\t...</td>\n",
              "      <td>The past few weeks, our social feeds have been...</td>\n",
              "      <td>1349</td>\n",
              "      <td>8832</td>\n",
              "      <td>5.5478132</td>\n",
              "      <td>436</td>\n",
              "      <td>6</td>\n",
              "      <td>27</td>\n",
              "      <td>2233</td>\n",
              "      <td>58</td>\n",
              "      <td>264</td>\n",
              "      <td>8832</td>\n",
              "      <td>Large</td>\n",
              "      <td>19.5700519</td>\n",
              "      <td>39.3700000</td>\n",
              "      <td>College</td>\n",
              "      <td>0.1058949</td>\n",
              "      <td>Positive</td>\n",
              "      <td>0.4515363</td>\n",
              "      <td>INTJ</td>\n",
              "      <td>Finance</td>\n",
              "    </tr>\n",
              "  </tbody>\n",
              "</table>\n",
              "</div>"
            ],
            "text/plain": [
              "                                        Article_Text  \\\n",
              "0  July\\t\\t\\t\\t\\t\\t\\t\\t25, 2017\\t\\t\\t\\t\\t\\t\\t\\t\\t...   \n",
              "\n",
              "                                     Cleaned_Article  Word_Count  Char_Count  \\\n",
              "0  The past few weeks, our social feeds have been...        1349        8832   \n",
              "\n",
              "   Avg_Word_length  Stopwords_Count  numerics_Count  Upper_Count  \\\n",
              "0        5.5478132              436               6           27   \n",
              "\n",
              "   Syllable_Count  Sentence_Count  Difficult_Words_Count  length Article_Size  \\\n",
              "0            2233              58                    264    8832        Large   \n",
              "\n",
              "   Difficult_Words_%  Readability F_Readability  Polarity Sentiment  \\\n",
              "0         19.5700519   39.3700000       College 0.1058949  Positive   \n",
              "\n",
              "   Subjectivity  MBTI Predicted_Domain  \n",
              "0     0.4515363  INTJ          Finance  "
            ]
          },
          "metadata": {
            "tags": []
          },
          "execution_count": 47
        }
      ]
    },
    {
      "cell_type": "markdown",
      "metadata": {
        "id": "YqDpF_376DB6"
      },
      "source": [
        "#Model2"
      ]
    },
    {
      "cell_type": "code",
      "metadata": {
        "id": "CsdAWgNR6MMw",
        "colab": {
          "base_uri": "https://localhost:8080/"
        },
        "outputId": "5c14908e-6f21-4573-a274-75892576a899"
      },
      "source": [
        "#model_2_path = \"/content/drive/MyDrive/AI-ML/models/model_2_path/\"\n",
        "model_2_path = \"/content/drive/MyDrive/capstone/model_2_path\" #Ujjval\n",
        "\n",
        "loaded_model_2 = tf.keras.models.load_model(model_2_path)\n",
        "loaded_model_2.summary()"
      ],
      "execution_count": 97,
      "outputs": [
        {
          "output_type": "stream",
          "text": [
            "Model: \"model_4\"\n",
            "_________________________________________________________________\n",
            "Layer (type)                 Output Shape              Param #   \n",
            "=================================================================\n",
            "input_6 (InputLayer)         [(None,)]                 0         \n",
            "_________________________________________________________________\n",
            "universal_sentence_encoder ( (None, 512)               256797824 \n",
            "_________________________________________________________________\n",
            "dense_10 (Dense)             (None, 128)               65664     \n",
            "_________________________________________________________________\n",
            "dense_11 (Dense)             (None, 5)                 645       \n",
            "=================================================================\n",
            "Total params: 256,864,133\n",
            "Trainable params: 66,309\n",
            "Non-trainable params: 256,797,824\n",
            "_________________________________________________________________\n"
          ],
          "name": "stdout"
        }
      ]
    },
    {
      "cell_type": "code",
      "metadata": {
        "id": "kePyi1oM6zev",
        "colab": {
          "base_uri": "https://localhost:8080/"
        },
        "outputId": "ea1bcf74-4351-4dfc-c64d-023308c869a2"
      },
      "source": [
        "loaded_model_2_pred_probs = loaded_model_2.predict(df['Cleaned_Article'])\n",
        "loaded_model_2_pred = tf.argmax(loaded_model_2_pred_probs, axis=1)\n",
        "loaded_model_2_pred"
      ],
      "execution_count": 98,
      "outputs": [
        {
          "output_type": "execute_result",
          "data": {
            "text/plain": [
              "<tf.Tensor: shape=(1,), dtype=int64, numpy=array([1])>"
            ]
          },
          "metadata": {
            "tags": []
          },
          "execution_count": 98
        }
      ]
    },
    {
      "cell_type": "code",
      "metadata": {
        "id": "EpDiDLA76MSa",
        "colab": {
          "base_uri": "https://localhost:8080/",
          "height": 36
        },
        "outputId": "10925d68-0a1b-4f13-bba1-59caf81e8556"
      },
      "source": [
        "predicted_domain_model_2 = domain_mapping(loaded_model_2_pred)\n",
        "predicted_domain_model_2"
      ],
      "execution_count": 99,
      "outputs": [
        {
          "output_type": "execute_result",
          "data": {
            "application/vnd.google.colaboratory.intrinsic+json": {
              "type": "string"
            },
            "text/plain": [
              "'Leadership'"
            ]
          },
          "metadata": {
            "tags": []
          },
          "execution_count": 99
        }
      ]
    },
    {
      "cell_type": "code",
      "metadata": {
        "id": "RFt_LAM06MTr",
        "colab": {
          "base_uri": "https://localhost:8080/",
          "height": 168
        },
        "outputId": "afea743d-7240-4500-8d95-51ea9bf3b5ad"
      },
      "source": [
        "#Append the Domain in a new column\n",
        "df['Predicted_Domain'] = predicted_domain_model_2\n",
        "df"
      ],
      "execution_count": 100,
      "outputs": [
        {
          "output_type": "execute_result",
          "data": {
            "text/html": [
              "<div>\n",
              "<style scoped>\n",
              "    .dataframe tbody tr th:only-of-type {\n",
              "        vertical-align: middle;\n",
              "    }\n",
              "\n",
              "    .dataframe tbody tr th {\n",
              "        vertical-align: top;\n",
              "    }\n",
              "\n",
              "    .dataframe thead th {\n",
              "        text-align: right;\n",
              "    }\n",
              "</style>\n",
              "<table border=\"1\" class=\"dataframe\">\n",
              "  <thead>\n",
              "    <tr style=\"text-align: right;\">\n",
              "      <th></th>\n",
              "      <th>Article_Text</th>\n",
              "      <th>Cleaned_Article</th>\n",
              "      <th>Word_Count</th>\n",
              "      <th>Char_Count</th>\n",
              "      <th>Avg_Word_length</th>\n",
              "      <th>Stopwords_Count</th>\n",
              "      <th>numerics_Count</th>\n",
              "      <th>Upper_Count</th>\n",
              "      <th>Syllable_Count</th>\n",
              "      <th>Sentence_Count</th>\n",
              "      <th>Difficult_Words_Count</th>\n",
              "      <th>length</th>\n",
              "      <th>Article_Size</th>\n",
              "      <th>Difficult_Words_%</th>\n",
              "      <th>Difficulty_Level</th>\n",
              "      <th>Readability</th>\n",
              "      <th>F_Readability</th>\n",
              "      <th>Polarity</th>\n",
              "      <th>Sentiment</th>\n",
              "      <th>Subjectivity</th>\n",
              "      <th>MBTI</th>\n",
              "      <th>Predicted_Domain</th>\n",
              "    </tr>\n",
              "  </thead>\n",
              "  <tbody>\n",
              "    <tr>\n",
              "      <th>0</th>\n",
              "      <td>Henry Mintzberg about some Half-Truths of Mana...</td>\n",
              "      <td>Henry Mintzberg about some Half-Truths of Mana...</td>\n",
              "      <td>950</td>\n",
              "      <td>5489</td>\n",
              "      <td>4.8195329</td>\n",
              "      <td>373</td>\n",
              "      <td>0</td>\n",
              "      <td>50</td>\n",
              "      <td>1361</td>\n",
              "      <td>32</td>\n",
              "      <td>134</td>\n",
              "      <td>5489</td>\n",
              "      <td>Medium</td>\n",
              "      <td>14.1052632</td>\n",
              "      <td>Elementary</td>\n",
              "      <td>58.5500000</td>\n",
              "      <td>Grade_10</td>\n",
              "      <td>0.1870821</td>\n",
              "      <td>Positive</td>\n",
              "      <td>0.4818873</td>\n",
              "      <td>INTJ</td>\n",
              "      <td>Leadership</td>\n",
              "    </tr>\n",
              "  </tbody>\n",
              "</table>\n",
              "</div>"
            ],
            "text/plain": [
              "                                        Article_Text  \\\n",
              "0  Henry Mintzberg about some Half-Truths of Mana...   \n",
              "\n",
              "                                     Cleaned_Article  Word_Count  Char_Count  \\\n",
              "0  Henry Mintzberg about some Half-Truths of Mana...         950        5489   \n",
              "\n",
              "   Avg_Word_length  Stopwords_Count  numerics_Count  Upper_Count  \\\n",
              "0        4.8195329              373               0           50   \n",
              "\n",
              "   Syllable_Count  Sentence_Count  Difficult_Words_Count  length Article_Size  \\\n",
              "0            1361              32                    134    5489       Medium   \n",
              "\n",
              "   Difficult_Words_% Difficulty_Level  Readability F_Readability  Polarity  \\\n",
              "0         14.1052632       Elementary   58.5500000      Grade_10 0.1870821   \n",
              "\n",
              "  Sentiment  Subjectivity  MBTI Predicted_Domain  \n",
              "0  Positive     0.4818873  INTJ       Leadership  "
            ]
          },
          "metadata": {
            "tags": []
          },
          "execution_count": 100
        }
      ]
    },
    {
      "cell_type": "code",
      "metadata": {
        "id": "OnOyd5mk5bTb"
      },
      "source": [
        "df.to_csv(\"July3_Predict_ForNewArticle.csv\",index=False)"
      ],
      "execution_count": 101,
      "outputs": []
    },
    {
      "cell_type": "markdown",
      "metadata": {
        "id": "Kn6DT_tNgIbL"
      },
      "source": [
        "#Writer Recommendation"
      ]
    },
    {
      "cell_type": "code",
      "metadata": {
        "id": "EC0GeGFPUKpC"
      },
      "source": [
        "# used to supress display of warnings\n",
        "import warnings\n",
        "\n",
        "# Pandas is used for data manipulation and analysis\n",
        "import pandas as pd \n",
        "\n",
        "# Numpy is used for large, multi-dimensional arrays and matrices, along with mathematical operators on these arrays\n",
        "import numpy as np"
      ],
      "execution_count": 46,
      "outputs": []
    },
    {
      "cell_type": "code",
      "metadata": {
        "colab": {
          "base_uri": "https://localhost:8080/"
        },
        "id": "Bvue8pt3yNTN",
        "outputId": "f766d3bd-78cb-4532-fe1f-a6205309ea1a"
      },
      "source": [
        "#from google.colab import drive\n",
        "#drive.mount('/content/drive')"
      ],
      "execution_count": null,
      "outputs": [
        {
          "output_type": "stream",
          "text": [
            "Mounted at /content/drive\n"
          ],
          "name": "stdout"
        }
      ]
    },
    {
      "cell_type": "code",
      "metadata": {
        "id": "-pwpxDIpyUyZ"
      },
      "source": [
        "# os is used to provide a way of using operating system dependent functionality\n",
        "# We use it for setting working folder\n",
        "#import os\n"
      ],
      "execution_count": null,
      "outputs": []
    },
    {
      "cell_type": "code",
      "metadata": {
        "id": "1vJya5qWygee"
      },
      "source": [
        "#os.chdir('/content/drive/MyDrive/Colab Notebooks')"
      ],
      "execution_count": null,
      "outputs": []
    },
    {
      "cell_type": "code",
      "metadata": {
        "colab": {
          "base_uri": "https://localhost:8080/",
          "height": 151
        },
        "id": "7w3J27h3ytKE",
        "outputId": "4dc55e9d-ad00-4223-9c70-a2125378f323"
      },
      "source": [
        "import pandas as pd\n",
        "#df = pd.read_csv('Final_articles_Train_Readability.csv', engine=\"python\")\n",
        "df = pd.read_csv('28June_Predict_For_All_Articles.csv', engine=\"python\")\n",
        "df.tail(1)"
      ],
      "execution_count": 102,
      "outputs": [
        {
          "output_type": "execute_result",
          "data": {
            "text/html": [
              "<div>\n",
              "<style scoped>\n",
              "    .dataframe tbody tr th:only-of-type {\n",
              "        vertical-align: middle;\n",
              "    }\n",
              "\n",
              "    .dataframe tbody tr th {\n",
              "        vertical-align: top;\n",
              "    }\n",
              "\n",
              "    .dataframe thead th {\n",
              "        text-align: right;\n",
              "    }\n",
              "</style>\n",
              "<table border=\"1\" class=\"dataframe\">\n",
              "  <thead>\n",
              "    <tr style=\"text-align: right;\">\n",
              "      <th></th>\n",
              "      <th>Domain</th>\n",
              "      <th>Cleaned_Article</th>\n",
              "      <th>Cleaned_Headline</th>\n",
              "      <th>Cleaned_Author</th>\n",
              "      <th>Word_Count</th>\n",
              "      <th>Article_Size</th>\n",
              "      <th>Char_Count</th>\n",
              "      <th>Avg_Word_length</th>\n",
              "      <th>Stopwords_Count</th>\n",
              "      <th>numerics_Count</th>\n",
              "      <th>Upper_Count</th>\n",
              "      <th>Syllable_Count</th>\n",
              "      <th>Sentence_Count</th>\n",
              "      <th>Difficult_Words_Count</th>\n",
              "      <th>length</th>\n",
              "      <th>Difficult_Words_%</th>\n",
              "      <th>Difficulty_Level</th>\n",
              "      <th>Readability</th>\n",
              "      <th>F_Readability</th>\n",
              "      <th>Polarity</th>\n",
              "      <th>Sentiment</th>\n",
              "      <th>Subjectivity</th>\n",
              "      <th>MBTI</th>\n",
              "    </tr>\n",
              "  </thead>\n",
              "  <tbody>\n",
              "    <tr>\n",
              "      <th>29630</th>\n",
              "      <td>Technology</td>\n",
              "      <td>Mark my word A combination of airplane and mot...</td>\n",
              "      <td>It's a Bird. It's a Plane. No, It's a Flying C...</td>\n",
              "      <td>Kim Lachance Shandrow</td>\n",
              "      <td>442</td>\n",
              "      <td>Small</td>\n",
              "      <td>2767</td>\n",
              "      <td>5.3348624</td>\n",
              "      <td>128</td>\n",
              "      <td>5</td>\n",
              "      <td>5</td>\n",
              "      <td>690</td>\n",
              "      <td>12</td>\n",
              "      <td>99</td>\n",
              "      <td>2767</td>\n",
              "      <td>22.3981900</td>\n",
              "      <td>Elementary</td>\n",
              "      <td>34.7300000</td>\n",
              "      <td>College</td>\n",
              "      <td>0.0477891</td>\n",
              "      <td>Neutral</td>\n",
              "      <td>0.5062358</td>\n",
              "      <td>INTJ</td>\n",
              "    </tr>\n",
              "  </tbody>\n",
              "</table>\n",
              "</div>"
            ],
            "text/plain": [
              "           Domain                                    Cleaned_Article  \\\n",
              "29630  Technology  Mark my word A combination of airplane and mot...   \n",
              "\n",
              "                                        Cleaned_Headline  \\\n",
              "29630  It's a Bird. It's a Plane. No, It's a Flying C...   \n",
              "\n",
              "              Cleaned_Author  Word_Count Article_Size  Char_Count  \\\n",
              "29630  Kim Lachance Shandrow         442        Small        2767   \n",
              "\n",
              "       Avg_Word_length  Stopwords_Count  numerics_Count  Upper_Count  \\\n",
              "29630        5.3348624              128               5            5   \n",
              "\n",
              "       Syllable_Count  Sentence_Count  Difficult_Words_Count  length  \\\n",
              "29630             690              12                     99    2767   \n",
              "\n",
              "       Difficult_Words_% Difficulty_Level  Readability F_Readability  \\\n",
              "29630         22.3981900       Elementary   34.7300000       College   \n",
              "\n",
              "       Polarity Sentiment  Subjectivity  MBTI  \n",
              "29630 0.0477891   Neutral     0.5062358  INTJ  "
            ]
          },
          "metadata": {
            "tags": []
          },
          "execution_count": 102
        }
      ]
    },
    {
      "cell_type": "code",
      "metadata": {
        "colab": {
          "base_uri": "https://localhost:8080/",
          "height": 168
        },
        "id": "OZ-e9dnwywYp",
        "outputId": "b93c11e2-c740-4806-bf93-a31308a6c954"
      },
      "source": [
        "input = pd.read_csv('July3_Predict_ForNewArticle.csv', engine=\"python\")\n",
        "input.head(1)"
      ],
      "execution_count": 103,
      "outputs": [
        {
          "output_type": "execute_result",
          "data": {
            "text/html": [
              "<div>\n",
              "<style scoped>\n",
              "    .dataframe tbody tr th:only-of-type {\n",
              "        vertical-align: middle;\n",
              "    }\n",
              "\n",
              "    .dataframe tbody tr th {\n",
              "        vertical-align: top;\n",
              "    }\n",
              "\n",
              "    .dataframe thead th {\n",
              "        text-align: right;\n",
              "    }\n",
              "</style>\n",
              "<table border=\"1\" class=\"dataframe\">\n",
              "  <thead>\n",
              "    <tr style=\"text-align: right;\">\n",
              "      <th></th>\n",
              "      <th>Article_Text</th>\n",
              "      <th>Cleaned_Article</th>\n",
              "      <th>Word_Count</th>\n",
              "      <th>Char_Count</th>\n",
              "      <th>Avg_Word_length</th>\n",
              "      <th>Stopwords_Count</th>\n",
              "      <th>numerics_Count</th>\n",
              "      <th>Upper_Count</th>\n",
              "      <th>Syllable_Count</th>\n",
              "      <th>Sentence_Count</th>\n",
              "      <th>Difficult_Words_Count</th>\n",
              "      <th>length</th>\n",
              "      <th>Article_Size</th>\n",
              "      <th>Difficult_Words_%</th>\n",
              "      <th>Difficulty_Level</th>\n",
              "      <th>Readability</th>\n",
              "      <th>F_Readability</th>\n",
              "      <th>Polarity</th>\n",
              "      <th>Sentiment</th>\n",
              "      <th>Subjectivity</th>\n",
              "      <th>MBTI</th>\n",
              "      <th>Predicted_Domain</th>\n",
              "    </tr>\n",
              "  </thead>\n",
              "  <tbody>\n",
              "    <tr>\n",
              "      <th>0</th>\n",
              "      <td>Henry Mintzberg about some Half-Truths of Mana...</td>\n",
              "      <td>Henry Mintzberg about some Half-Truths of Mana...</td>\n",
              "      <td>950</td>\n",
              "      <td>5489</td>\n",
              "      <td>4.8195329</td>\n",
              "      <td>373</td>\n",
              "      <td>0</td>\n",
              "      <td>50</td>\n",
              "      <td>1361</td>\n",
              "      <td>32</td>\n",
              "      <td>134</td>\n",
              "      <td>5489</td>\n",
              "      <td>Medium</td>\n",
              "      <td>14.1052632</td>\n",
              "      <td>Elementary</td>\n",
              "      <td>58.5500000</td>\n",
              "      <td>Grade_10</td>\n",
              "      <td>0.1870821</td>\n",
              "      <td>Positive</td>\n",
              "      <td>0.4818873</td>\n",
              "      <td>INTJ</td>\n",
              "      <td>Leadership</td>\n",
              "    </tr>\n",
              "  </tbody>\n",
              "</table>\n",
              "</div>"
            ],
            "text/plain": [
              "                                        Article_Text  \\\n",
              "0  Henry Mintzberg about some Half-Truths of Mana...   \n",
              "\n",
              "                                     Cleaned_Article  Word_Count  Char_Count  \\\n",
              "0  Henry Mintzberg about some Half-Truths of Mana...         950        5489   \n",
              "\n",
              "   Avg_Word_length  Stopwords_Count  numerics_Count  Upper_Count  \\\n",
              "0        4.8195329              373               0           50   \n",
              "\n",
              "   Syllable_Count  Sentence_Count  Difficult_Words_Count  length Article_Size  \\\n",
              "0            1361              32                    134    5489       Medium   \n",
              "\n",
              "   Difficult_Words_% Difficulty_Level  Readability F_Readability  Polarity  \\\n",
              "0         14.1052632       Elementary   58.5500000      Grade_10 0.1870821   \n",
              "\n",
              "  Sentiment  Subjectivity  MBTI Predicted_Domain  \n",
              "0  Positive     0.4818873  INTJ       Leadership  "
            ]
          },
          "metadata": {
            "tags": []
          },
          "execution_count": 103
        }
      ]
    },
    {
      "cell_type": "code",
      "metadata": {
        "colab": {
          "base_uri": "https://localhost:8080/",
          "height": 168
        },
        "id": "czeBhRzKy1ZW",
        "outputId": "d4b9fd1b-8a29-407b-d0fd-0bc17b6a307d"
      },
      "source": [
        "input['Domain']=input['Predicted_Domain']\n",
        "input['Cleaned_Author'] = 'Predicted Author'\n",
        "input.head()"
      ],
      "execution_count": 104,
      "outputs": [
        {
          "output_type": "execute_result",
          "data": {
            "text/html": [
              "<div>\n",
              "<style scoped>\n",
              "    .dataframe tbody tr th:only-of-type {\n",
              "        vertical-align: middle;\n",
              "    }\n",
              "\n",
              "    .dataframe tbody tr th {\n",
              "        vertical-align: top;\n",
              "    }\n",
              "\n",
              "    .dataframe thead th {\n",
              "        text-align: right;\n",
              "    }\n",
              "</style>\n",
              "<table border=\"1\" class=\"dataframe\">\n",
              "  <thead>\n",
              "    <tr style=\"text-align: right;\">\n",
              "      <th></th>\n",
              "      <th>Article_Text</th>\n",
              "      <th>Cleaned_Article</th>\n",
              "      <th>Word_Count</th>\n",
              "      <th>Char_Count</th>\n",
              "      <th>Avg_Word_length</th>\n",
              "      <th>Stopwords_Count</th>\n",
              "      <th>numerics_Count</th>\n",
              "      <th>Upper_Count</th>\n",
              "      <th>Syllable_Count</th>\n",
              "      <th>Sentence_Count</th>\n",
              "      <th>Difficult_Words_Count</th>\n",
              "      <th>length</th>\n",
              "      <th>Article_Size</th>\n",
              "      <th>Difficult_Words_%</th>\n",
              "      <th>Difficulty_Level</th>\n",
              "      <th>Readability</th>\n",
              "      <th>F_Readability</th>\n",
              "      <th>Polarity</th>\n",
              "      <th>Sentiment</th>\n",
              "      <th>Subjectivity</th>\n",
              "      <th>MBTI</th>\n",
              "      <th>Predicted_Domain</th>\n",
              "      <th>Domain</th>\n",
              "      <th>Cleaned_Author</th>\n",
              "    </tr>\n",
              "  </thead>\n",
              "  <tbody>\n",
              "    <tr>\n",
              "      <th>0</th>\n",
              "      <td>Henry Mintzberg about some Half-Truths of Mana...</td>\n",
              "      <td>Henry Mintzberg about some Half-Truths of Mana...</td>\n",
              "      <td>950</td>\n",
              "      <td>5489</td>\n",
              "      <td>4.8195329</td>\n",
              "      <td>373</td>\n",
              "      <td>0</td>\n",
              "      <td>50</td>\n",
              "      <td>1361</td>\n",
              "      <td>32</td>\n",
              "      <td>134</td>\n",
              "      <td>5489</td>\n",
              "      <td>Medium</td>\n",
              "      <td>14.1052632</td>\n",
              "      <td>Elementary</td>\n",
              "      <td>58.5500000</td>\n",
              "      <td>Grade_10</td>\n",
              "      <td>0.1870821</td>\n",
              "      <td>Positive</td>\n",
              "      <td>0.4818873</td>\n",
              "      <td>INTJ</td>\n",
              "      <td>Leadership</td>\n",
              "      <td>Leadership</td>\n",
              "      <td>Predicted Author</td>\n",
              "    </tr>\n",
              "  </tbody>\n",
              "</table>\n",
              "</div>"
            ],
            "text/plain": [
              "                                        Article_Text  \\\n",
              "0  Henry Mintzberg about some Half-Truths of Mana...   \n",
              "\n",
              "                                     Cleaned_Article  Word_Count  Char_Count  \\\n",
              "0  Henry Mintzberg about some Half-Truths of Mana...         950        5489   \n",
              "\n",
              "   Avg_Word_length  Stopwords_Count  numerics_Count  Upper_Count  \\\n",
              "0        4.8195329              373               0           50   \n",
              "\n",
              "   Syllable_Count  Sentence_Count  Difficult_Words_Count  length Article_Size  \\\n",
              "0            1361              32                    134    5489       Medium   \n",
              "\n",
              "   Difficult_Words_% Difficulty_Level  Readability F_Readability  Polarity  \\\n",
              "0         14.1052632       Elementary   58.5500000      Grade_10 0.1870821   \n",
              "\n",
              "  Sentiment  Subjectivity  MBTI Predicted_Domain      Domain    Cleaned_Author  \n",
              "0  Positive     0.4818873  INTJ       Leadership  Leadership  Predicted Author  "
            ]
          },
          "metadata": {
            "tags": []
          },
          "execution_count": 104
        }
      ]
    },
    {
      "cell_type": "code",
      "metadata": {
        "colab": {
          "base_uri": "https://localhost:8080/",
          "height": 443
        },
        "id": "XpFVkKeBy62f",
        "outputId": "016f726f-b93b-4200-9308-f48e21badb31"
      },
      "source": [
        "df1 = pd.concat([df, input], axis=0)\n",
        "df1.reset_index(inplace=True)\n",
        "df1.reset_index(inplace=True)\n",
        "df1.tail(5)"
      ],
      "execution_count": 105,
      "outputs": [
        {
          "output_type": "execute_result",
          "data": {
            "text/html": [
              "<div>\n",
              "<style scoped>\n",
              "    .dataframe tbody tr th:only-of-type {\n",
              "        vertical-align: middle;\n",
              "    }\n",
              "\n",
              "    .dataframe tbody tr th {\n",
              "        vertical-align: top;\n",
              "    }\n",
              "\n",
              "    .dataframe thead th {\n",
              "        text-align: right;\n",
              "    }\n",
              "</style>\n",
              "<table border=\"1\" class=\"dataframe\">\n",
              "  <thead>\n",
              "    <tr style=\"text-align: right;\">\n",
              "      <th></th>\n",
              "      <th>level_0</th>\n",
              "      <th>index</th>\n",
              "      <th>Domain</th>\n",
              "      <th>Cleaned_Article</th>\n",
              "      <th>Cleaned_Headline</th>\n",
              "      <th>Cleaned_Author</th>\n",
              "      <th>Word_Count</th>\n",
              "      <th>Article_Size</th>\n",
              "      <th>Char_Count</th>\n",
              "      <th>Avg_Word_length</th>\n",
              "      <th>Stopwords_Count</th>\n",
              "      <th>numerics_Count</th>\n",
              "      <th>Upper_Count</th>\n",
              "      <th>Syllable_Count</th>\n",
              "      <th>Sentence_Count</th>\n",
              "      <th>Difficult_Words_Count</th>\n",
              "      <th>length</th>\n",
              "      <th>Difficult_Words_%</th>\n",
              "      <th>Difficulty_Level</th>\n",
              "      <th>Readability</th>\n",
              "      <th>F_Readability</th>\n",
              "      <th>Polarity</th>\n",
              "      <th>Sentiment</th>\n",
              "      <th>Subjectivity</th>\n",
              "      <th>MBTI</th>\n",
              "      <th>Article_Text</th>\n",
              "      <th>Predicted_Domain</th>\n",
              "    </tr>\n",
              "  </thead>\n",
              "  <tbody>\n",
              "    <tr>\n",
              "      <th>29627</th>\n",
              "      <td>29627</td>\n",
              "      <td>29627</td>\n",
              "      <td>Technology</td>\n",
              "      <td>Reports swirled this morning that due to frenz...</td>\n",
              "      <td>Apple Reportedly Delays Launch of Jumbo iPad</td>\n",
              "      <td>Geoff Weiss</td>\n",
              "      <td>310</td>\n",
              "      <td>Small</td>\n",
              "      <td>1910</td>\n",
              "      <td>5.1645161</td>\n",
              "      <td>106</td>\n",
              "      <td>6</td>\n",
              "      <td>1</td>\n",
              "      <td>488</td>\n",
              "      <td>5</td>\n",
              "      <td>74</td>\n",
              "      <td>1910</td>\n",
              "      <td>23.8709677</td>\n",
              "      <td>Elementary</td>\n",
              "      <td>9.9700000</td>\n",
              "      <td>Professional</td>\n",
              "      <td>0.0257885</td>\n",
              "      <td>Neutral</td>\n",
              "      <td>0.4423817</td>\n",
              "      <td>INFP</td>\n",
              "      <td>NaN</td>\n",
              "      <td>NaN</td>\n",
              "    </tr>\n",
              "    <tr>\n",
              "      <th>29628</th>\n",
              "      <td>29628</td>\n",
              "      <td>29628</td>\n",
              "      <td>Technology</td>\n",
              "      <td>When it comes to online dating, we're often ou...</td>\n",
              "      <td>Why on Earth Does eHarmony Offer Real-Life Mat...</td>\n",
              "      <td>Laura Entis</td>\n",
              "      <td>527</td>\n",
              "      <td>Medium</td>\n",
              "      <td>3287</td>\n",
              "      <td>5.2690840</td>\n",
              "      <td>207</td>\n",
              "      <td>2</td>\n",
              "      <td>2</td>\n",
              "      <td>830</td>\n",
              "      <td>9</td>\n",
              "      <td>97</td>\n",
              "      <td>3287</td>\n",
              "      <td>18.4060721</td>\n",
              "      <td>Elementary</td>\n",
              "      <td>13.0100000</td>\n",
              "      <td>Graduate</td>\n",
              "      <td>0.1514704</td>\n",
              "      <td>Positive</td>\n",
              "      <td>0.5020838</td>\n",
              "      <td>ESFP</td>\n",
              "      <td>NaN</td>\n",
              "      <td>NaN</td>\n",
              "    </tr>\n",
              "    <tr>\n",
              "      <th>29629</th>\n",
              "      <td>29629</td>\n",
              "      <td>29629</td>\n",
              "      <td>Technology</td>\n",
              "      <td>New York is the first American city to receive...</td>\n",
              "      <td>New Yorkers Can Now Park Their Websites at .nyc</td>\n",
              "      <td>Benjamin Kabin</td>\n",
              "      <td>365</td>\n",
              "      <td>Small</td>\n",
              "      <td>2231</td>\n",
              "      <td>5.1150685</td>\n",
              "      <td>129</td>\n",
              "      <td>2</td>\n",
              "      <td>6</td>\n",
              "      <td>571</td>\n",
              "      <td>5</td>\n",
              "      <td>75</td>\n",
              "      <td>2231</td>\n",
              "      <td>20.5479452</td>\n",
              "      <td>Elementary</td>\n",
              "      <td>-2.4300000</td>\n",
              "      <td>Professional</td>\n",
              "      <td>0.2268376</td>\n",
              "      <td>Positive</td>\n",
              "      <td>0.3822650</td>\n",
              "      <td>INTJ</td>\n",
              "      <td>NaN</td>\n",
              "      <td>NaN</td>\n",
              "    </tr>\n",
              "    <tr>\n",
              "      <th>29630</th>\n",
              "      <td>29630</td>\n",
              "      <td>29630</td>\n",
              "      <td>Technology</td>\n",
              "      <td>Mark my word A combination of airplane and mot...</td>\n",
              "      <td>It's a Bird. It's a Plane. No, It's a Flying C...</td>\n",
              "      <td>Kim Lachance Shandrow</td>\n",
              "      <td>442</td>\n",
              "      <td>Small</td>\n",
              "      <td>2767</td>\n",
              "      <td>5.3348624</td>\n",
              "      <td>128</td>\n",
              "      <td>5</td>\n",
              "      <td>5</td>\n",
              "      <td>690</td>\n",
              "      <td>12</td>\n",
              "      <td>99</td>\n",
              "      <td>2767</td>\n",
              "      <td>22.3981900</td>\n",
              "      <td>Elementary</td>\n",
              "      <td>34.7300000</td>\n",
              "      <td>College</td>\n",
              "      <td>0.0477891</td>\n",
              "      <td>Neutral</td>\n",
              "      <td>0.5062358</td>\n",
              "      <td>INTJ</td>\n",
              "      <td>NaN</td>\n",
              "      <td>NaN</td>\n",
              "    </tr>\n",
              "    <tr>\n",
              "      <th>29631</th>\n",
              "      <td>29631</td>\n",
              "      <td>0</td>\n",
              "      <td>Leadership</td>\n",
              "      <td>Henry Mintzberg about some Half-Truths of Mana...</td>\n",
              "      <td>NaN</td>\n",
              "      <td>Predicted Author</td>\n",
              "      <td>950</td>\n",
              "      <td>Medium</td>\n",
              "      <td>5489</td>\n",
              "      <td>4.8195329</td>\n",
              "      <td>373</td>\n",
              "      <td>0</td>\n",
              "      <td>50</td>\n",
              "      <td>1361</td>\n",
              "      <td>32</td>\n",
              "      <td>134</td>\n",
              "      <td>5489</td>\n",
              "      <td>14.1052632</td>\n",
              "      <td>Elementary</td>\n",
              "      <td>58.5500000</td>\n",
              "      <td>Grade_10</td>\n",
              "      <td>0.1870821</td>\n",
              "      <td>Positive</td>\n",
              "      <td>0.4818873</td>\n",
              "      <td>INTJ</td>\n",
              "      <td>Henry Mintzberg about some Half-Truths of Mana...</td>\n",
              "      <td>Leadership</td>\n",
              "    </tr>\n",
              "  </tbody>\n",
              "</table>\n",
              "</div>"
            ],
            "text/plain": [
              "       level_0  index      Domain  \\\n",
              "29627    29627  29627  Technology   \n",
              "29628    29628  29628  Technology   \n",
              "29629    29629  29629  Technology   \n",
              "29630    29630  29630  Technology   \n",
              "29631    29631      0  Leadership   \n",
              "\n",
              "                                         Cleaned_Article  \\\n",
              "29627  Reports swirled this morning that due to frenz...   \n",
              "29628  When it comes to online dating, we're often ou...   \n",
              "29629  New York is the first American city to receive...   \n",
              "29630  Mark my word A combination of airplane and mot...   \n",
              "29631  Henry Mintzberg about some Half-Truths of Mana...   \n",
              "\n",
              "                                        Cleaned_Headline  \\\n",
              "29627       Apple Reportedly Delays Launch of Jumbo iPad   \n",
              "29628  Why on Earth Does eHarmony Offer Real-Life Mat...   \n",
              "29629    New Yorkers Can Now Park Their Websites at .nyc   \n",
              "29630  It's a Bird. It's a Plane. No, It's a Flying C...   \n",
              "29631                                                NaN   \n",
              "\n",
              "              Cleaned_Author  Word_Count Article_Size  Char_Count  \\\n",
              "29627            Geoff Weiss         310        Small        1910   \n",
              "29628            Laura Entis         527       Medium        3287   \n",
              "29629         Benjamin Kabin         365        Small        2231   \n",
              "29630  Kim Lachance Shandrow         442        Small        2767   \n",
              "29631       Predicted Author         950       Medium        5489   \n",
              "\n",
              "       Avg_Word_length  Stopwords_Count  numerics_Count  Upper_Count  \\\n",
              "29627        5.1645161              106               6            1   \n",
              "29628        5.2690840              207               2            2   \n",
              "29629        5.1150685              129               2            6   \n",
              "29630        5.3348624              128               5            5   \n",
              "29631        4.8195329              373               0           50   \n",
              "\n",
              "       Syllable_Count  Sentence_Count  Difficult_Words_Count  length  \\\n",
              "29627             488               5                     74    1910   \n",
              "29628             830               9                     97    3287   \n",
              "29629             571               5                     75    2231   \n",
              "29630             690              12                     99    2767   \n",
              "29631            1361              32                    134    5489   \n",
              "\n",
              "       Difficult_Words_% Difficulty_Level  Readability F_Readability  \\\n",
              "29627         23.8709677       Elementary    9.9700000  Professional   \n",
              "29628         18.4060721       Elementary   13.0100000      Graduate   \n",
              "29629         20.5479452       Elementary   -2.4300000  Professional   \n",
              "29630         22.3981900       Elementary   34.7300000       College   \n",
              "29631         14.1052632       Elementary   58.5500000      Grade_10   \n",
              "\n",
              "       Polarity Sentiment  Subjectivity  MBTI  \\\n",
              "29627 0.0257885   Neutral     0.4423817  INFP   \n",
              "29628 0.1514704  Positive     0.5020838  ESFP   \n",
              "29629 0.2268376  Positive     0.3822650  INTJ   \n",
              "29630 0.0477891   Neutral     0.5062358  INTJ   \n",
              "29631 0.1870821  Positive     0.4818873  INTJ   \n",
              "\n",
              "                                            Article_Text Predicted_Domain  \n",
              "29627                                                NaN              NaN  \n",
              "29628                                                NaN              NaN  \n",
              "29629                                                NaN              NaN  \n",
              "29630                                                NaN              NaN  \n",
              "29631  Henry Mintzberg about some Half-Truths of Mana...       Leadership  "
            ]
          },
          "metadata": {
            "tags": []
          },
          "execution_count": 105
        }
      ]
    },
    {
      "cell_type": "code",
      "metadata": {
        "id": "dTRxFtbhy-Re"
      },
      "source": [
        "OHE_MBTI = pd.get_dummies(df1.MBTI)\n",
        "New_df = pd.concat([df1, OHE_MBTI], axis=1)\n",
        "OHE_F_Readbility = pd.get_dummies(New_df.F_Readability)\n",
        "New_df = pd.concat([New_df, OHE_F_Readbility], axis=1)\n",
        "OHE_Domain = pd.get_dummies(New_df.Domain)\n",
        "New_df = pd.concat([New_df, OHE_Domain], axis=1)\n",
        "OHE_Difficulty_Level = pd.get_dummies(New_df.Difficulty_Level)\n",
        "New_df = pd.concat([New_df, OHE_Difficulty_Level], axis=1)\n",
        "#New_df.reset_index(inplace=True)\n",
        "#New_df = New_df.fillna(int(0))"
      ],
      "execution_count": 106,
      "outputs": []
    },
    {
      "cell_type": "code",
      "metadata": {
        "colab": {
          "base_uri": "https://localhost:8080/",
          "height": 151
        },
        "id": "Fn2gqAXxzCHc",
        "outputId": "4031a3ea-a834-4337-a10a-9c3f1df3b219"
      },
      "source": [
        "New_df.head(1)"
      ],
      "execution_count": 107,
      "outputs": [
        {
          "output_type": "execute_result",
          "data": {
            "text/html": [
              "<div>\n",
              "<style scoped>\n",
              "    .dataframe tbody tr th:only-of-type {\n",
              "        vertical-align: middle;\n",
              "    }\n",
              "\n",
              "    .dataframe tbody tr th {\n",
              "        vertical-align: top;\n",
              "    }\n",
              "\n",
              "    .dataframe thead th {\n",
              "        text-align: right;\n",
              "    }\n",
              "</style>\n",
              "<table border=\"1\" class=\"dataframe\">\n",
              "  <thead>\n",
              "    <tr style=\"text-align: right;\">\n",
              "      <th></th>\n",
              "      <th>level_0</th>\n",
              "      <th>index</th>\n",
              "      <th>Domain</th>\n",
              "      <th>Cleaned_Article</th>\n",
              "      <th>Cleaned_Headline</th>\n",
              "      <th>Cleaned_Author</th>\n",
              "      <th>Word_Count</th>\n",
              "      <th>Article_Size</th>\n",
              "      <th>Char_Count</th>\n",
              "      <th>Avg_Word_length</th>\n",
              "      <th>Stopwords_Count</th>\n",
              "      <th>numerics_Count</th>\n",
              "      <th>Upper_Count</th>\n",
              "      <th>Syllable_Count</th>\n",
              "      <th>Sentence_Count</th>\n",
              "      <th>Difficult_Words_Count</th>\n",
              "      <th>length</th>\n",
              "      <th>Difficult_Words_%</th>\n",
              "      <th>Difficulty_Level</th>\n",
              "      <th>Readability</th>\n",
              "      <th>F_Readability</th>\n",
              "      <th>Polarity</th>\n",
              "      <th>Sentiment</th>\n",
              "      <th>Subjectivity</th>\n",
              "      <th>MBTI</th>\n",
              "      <th>Article_Text</th>\n",
              "      <th>Predicted_Domain</th>\n",
              "      <th>ESFP</th>\n",
              "      <th>INFJ</th>\n",
              "      <th>INFP</th>\n",
              "      <th>INTJ</th>\n",
              "      <th>INTP</th>\n",
              "      <th>College</th>\n",
              "      <th>Grade_10</th>\n",
              "      <th>Grade_5</th>\n",
              "      <th>Grade_6</th>\n",
              "      <th>Grade_7</th>\n",
              "      <th>Grade_8</th>\n",
              "      <th>Graduate</th>\n",
              "      <th>Professional</th>\n",
              "      <th>Finance</th>\n",
              "      <th>Leadership</th>\n",
              "      <th>Marketing</th>\n",
              "      <th>Strategy</th>\n",
              "      <th>Technology</th>\n",
              "      <th>Advanced</th>\n",
              "      <th>Basic</th>\n",
              "      <th>Elementary</th>\n",
              "      <th>Intermediate</th>\n",
              "    </tr>\n",
              "  </thead>\n",
              "  <tbody>\n",
              "    <tr>\n",
              "      <th>0</th>\n",
              "      <td>0</td>\n",
              "      <td>0</td>\n",
              "      <td>Marketing</td>\n",
              "      <td>One of the most common challenges I see client...</td>\n",
              "      <td>Is Launching a New Brand the Right Move for Yo...</td>\n",
              "      <td>Melissa Packham</td>\n",
              "      <td>1013</td>\n",
              "      <td>Large</td>\n",
              "      <td>6384</td>\n",
              "      <td>5.3559322</td>\n",
              "      <td>382</td>\n",
              "      <td>3</td>\n",
              "      <td>2</td>\n",
              "      <td>1676</td>\n",
              "      <td>32</td>\n",
              "      <td>196</td>\n",
              "      <td>6384</td>\n",
              "      <td>19.3484699</td>\n",
              "      <td>Elementary</td>\n",
              "      <td>31.3500000</td>\n",
              "      <td>College</td>\n",
              "      <td>0.1467929</td>\n",
              "      <td>Positive</td>\n",
              "      <td>0.4563647</td>\n",
              "      <td>INTJ</td>\n",
              "      <td>NaN</td>\n",
              "      <td>NaN</td>\n",
              "      <td>0</td>\n",
              "      <td>0</td>\n",
              "      <td>0</td>\n",
              "      <td>1</td>\n",
              "      <td>0</td>\n",
              "      <td>1</td>\n",
              "      <td>0</td>\n",
              "      <td>0</td>\n",
              "      <td>0</td>\n",
              "      <td>0</td>\n",
              "      <td>0</td>\n",
              "      <td>0</td>\n",
              "      <td>0</td>\n",
              "      <td>0</td>\n",
              "      <td>0</td>\n",
              "      <td>1</td>\n",
              "      <td>0</td>\n",
              "      <td>0</td>\n",
              "      <td>0</td>\n",
              "      <td>0</td>\n",
              "      <td>1</td>\n",
              "      <td>0</td>\n",
              "    </tr>\n",
              "  </tbody>\n",
              "</table>\n",
              "</div>"
            ],
            "text/plain": [
              "   level_0  index     Domain  \\\n",
              "0        0      0  Marketing   \n",
              "\n",
              "                                     Cleaned_Article  \\\n",
              "0  One of the most common challenges I see client...   \n",
              "\n",
              "                                    Cleaned_Headline   Cleaned_Author  \\\n",
              "0  Is Launching a New Brand the Right Move for Yo...  Melissa Packham   \n",
              "\n",
              "   Word_Count Article_Size  Char_Count  Avg_Word_length  Stopwords_Count  \\\n",
              "0        1013        Large        6384        5.3559322              382   \n",
              "\n",
              "   numerics_Count  Upper_Count  Syllable_Count  Sentence_Count  \\\n",
              "0               3            2            1676              32   \n",
              "\n",
              "   Difficult_Words_Count  length  Difficult_Words_% Difficulty_Level  \\\n",
              "0                    196    6384         19.3484699       Elementary   \n",
              "\n",
              "   Readability F_Readability  Polarity Sentiment  Subjectivity  MBTI  \\\n",
              "0   31.3500000       College 0.1467929  Positive     0.4563647  INTJ   \n",
              "\n",
              "  Article_Text Predicted_Domain  ESFP  INFJ  INFP  INTJ  INTP  College  \\\n",
              "0          NaN              NaN     0     0     0     1     0        1   \n",
              "\n",
              "   Grade_10  Grade_5  Grade_6  Grade_7  Grade_8  Graduate  Professional  \\\n",
              "0         0        0        0        0        0         0             0   \n",
              "\n",
              "   Finance  Leadership  Marketing  Strategy  Technology  Advanced  Basic  \\\n",
              "0        0           0          1         0           0         0      0   \n",
              "\n",
              "   Elementary  Intermediate  \n",
              "0           1             0  "
            ]
          },
          "metadata": {
            "tags": []
          },
          "execution_count": 107
        }
      ]
    },
    {
      "cell_type": "code",
      "metadata": {
        "id": "mx3iU6l0zE0Z"
      },
      "source": [
        "from sklearn.metrics.pairwise import cosine_similarity\n",
        "X = New_df.drop([\"level_0\",\"index\",\"Article_Text\",\"Predicted_Domain\",\"Domain\", \"Cleaned_Article\",\t\"Cleaned_Headline\",\t\"Word_Count\",\t\"Article_Size\",\t\"Char_Count\",\t\"Avg_Word_length\",\t\"Stopwords_Count\",\t\"numerics_Count\",\t\"Upper_Count\",\t\"Syllable_Count\",\t\"Sentence_Count\",\t\"Difficult_Words_Count\",\t\"length\",\t\"Difficult_Words_%\", \"Difficulty_Level\",\t\"Readability\",\t\"F_Readability\",\t\"Polarity\",\t\"Sentiment\",\t\"Subjectivity\",\t\"MBTI\"],axis=1)"
      ],
      "execution_count": 108,
      "outputs": []
    },
    {
      "cell_type": "code",
      "metadata": {
        "colab": {
          "base_uri": "https://localhost:8080/"
        },
        "id": "uX3rAd8RzLvg",
        "outputId": "38298f3b-98d8-4e43-fb91-8687c49a76ec"
      },
      "source": [
        "X1 = X.drop_duplicates()\n",
        "X1.shape  #Removing the record with same features for same authors"
      ],
      "execution_count": 109,
      "outputs": [
        {
          "output_type": "execute_result",
          "data": {
            "text/plain": [
              "(16065, 23)"
            ]
          },
          "metadata": {
            "tags": []
          },
          "execution_count": 109
        }
      ]
    },
    {
      "cell_type": "code",
      "metadata": {
        "id": "5odrteMQzQz8"
      },
      "source": [
        "X1.set_index('Cleaned_Author', inplace = True)"
      ],
      "execution_count": 110,
      "outputs": []
    },
    {
      "cell_type": "code",
      "metadata": {
        "colab": {
          "base_uri": "https://localhost:8080/"
        },
        "id": "39iOTa9azT0J",
        "outputId": "7cf60c24-1a26-4afe-98f7-213d02570a62"
      },
      "source": [
        "indices = pd.Series(X1.index)\n",
        "# generating the cosine similarity matrix\n",
        "cosine_sim = cosine_similarity(X1, X1)\n",
        "cosine_sim"
      ],
      "execution_count": 111,
      "outputs": [
        {
          "output_type": "execute_result",
          "data": {
            "text/plain": [
              "array([[1.  , 1.  , 0.75, ..., 0.25, 0.5 , 0.5 ],\n",
              "       [1.  , 1.  , 0.75, ..., 0.25, 0.5 , 0.5 ],\n",
              "       [0.75, 0.75, 1.  , ..., 0.25, 0.5 , 0.5 ],\n",
              "       ...,\n",
              "       [0.25, 0.25, 0.25, ..., 1.  , 0.5 , 0.5 ],\n",
              "       [0.5 , 0.5 , 0.5 , ..., 0.5 , 1.  , 0.5 ],\n",
              "       [0.5 , 0.5 , 0.5 , ..., 0.5 , 0.5 , 1.  ]])"
            ]
          },
          "metadata": {
            "tags": []
          },
          "execution_count": 111
        }
      ]
    },
    {
      "cell_type": "code",
      "metadata": {
        "id": "9CKDxyqKzcEN"
      },
      "source": [
        "# function that takes in writer as input and returns the top 5 writers\n",
        "def recommendations(Cleaned_Author, cosine_sim = cosine_sim):\n",
        "    \n",
        "    recommended_authors = []\n",
        "    \n",
        "    # gettin the index of the authors that matches the given author\n",
        "    idx = indices[indices == Cleaned_Author].index[0]\n",
        "\n",
        "    # creating a Series with the similarity scores in descending order\n",
        "    score_series = pd.Series(cosine_sim[idx]).sort_values(ascending = False)\n",
        "\n",
        "    # getting the indexes of the 5 most similar authors\n",
        "    top_5_indexes = list(score_series.iloc[2:7].index)\n",
        "    #cosine_score = list (score_series)\n",
        "    print(top_5_indexes)\n",
        "    print ()\n",
        "    \n",
        "    # populating the list with the titles of the best 5 authors\n",
        "    for i in top_5_indexes:\n",
        "        recommended_authors.append(list(X1.index)[i])\n",
        "        \n",
        "    return recommended_authors"
      ],
      "execution_count": 112,
      "outputs": []
    },
    {
      "cell_type": "code",
      "metadata": {
        "colab": {
          "base_uri": "https://localhost:8080/"
        },
        "id": "BQZSAW_Yzo49",
        "outputId": "183f9f93-0ff7-4120-ac69-0df6b7b86906"
      },
      "source": [
        "recommendations('Predicted Author')"
      ],
      "execution_count": 113,
      "outputs": [
        {
          "output_type": "stream",
          "text": [
            "[8873, 6076, 7181, 8869, 8867]\n",
            "\n"
          ],
          "name": "stdout"
        },
        {
          "output_type": "execute_result",
          "data": {
            "text/plain": [
              "['Paul White',\n",
              " 'Jeffrey Hayzlett',\n",
              " 'John Ruhlin',\n",
              " 'Kelsey Ramsden',\n",
              " 'Kathleen Murphy']"
            ]
          },
          "metadata": {
            "tags": []
          },
          "execution_count": 113
        }
      ]
    },
    {
      "cell_type": "markdown",
      "metadata": {
        "id": "JFBkaHeTSoBX"
      },
      "source": [
        "#Test"
      ]
    },
    {
      "cell_type": "code",
      "metadata": {
        "colab": {
          "base_uri": "https://localhost:8080/",
          "height": 148
        },
        "id": "oiIPuXY9zvKH",
        "outputId": "1498a0f1-1313-4823-cfa8-2e590158f2d1"
      },
      "source": [
        "X1[(X1.shape[0]-1):X1.shape[0]]"
      ],
      "execution_count": 114,
      "outputs": [
        {
          "output_type": "execute_result",
          "data": {
            "text/html": [
              "<div>\n",
              "<style scoped>\n",
              "    .dataframe tbody tr th:only-of-type {\n",
              "        vertical-align: middle;\n",
              "    }\n",
              "\n",
              "    .dataframe tbody tr th {\n",
              "        vertical-align: top;\n",
              "    }\n",
              "\n",
              "    .dataframe thead th {\n",
              "        text-align: right;\n",
              "    }\n",
              "</style>\n",
              "<table border=\"1\" class=\"dataframe\">\n",
              "  <thead>\n",
              "    <tr style=\"text-align: right;\">\n",
              "      <th></th>\n",
              "      <th>ESFP</th>\n",
              "      <th>INFJ</th>\n",
              "      <th>INFP</th>\n",
              "      <th>INTJ</th>\n",
              "      <th>INTP</th>\n",
              "      <th>College</th>\n",
              "      <th>Grade_10</th>\n",
              "      <th>Grade_5</th>\n",
              "      <th>Grade_6</th>\n",
              "      <th>Grade_7</th>\n",
              "      <th>Grade_8</th>\n",
              "      <th>Graduate</th>\n",
              "      <th>Professional</th>\n",
              "      <th>Finance</th>\n",
              "      <th>Leadership</th>\n",
              "      <th>Marketing</th>\n",
              "      <th>Strategy</th>\n",
              "      <th>Technology</th>\n",
              "      <th>Advanced</th>\n",
              "      <th>Basic</th>\n",
              "      <th>Elementary</th>\n",
              "      <th>Intermediate</th>\n",
              "    </tr>\n",
              "    <tr>\n",
              "      <th>Cleaned_Author</th>\n",
              "      <th></th>\n",
              "      <th></th>\n",
              "      <th></th>\n",
              "      <th></th>\n",
              "      <th></th>\n",
              "      <th></th>\n",
              "      <th></th>\n",
              "      <th></th>\n",
              "      <th></th>\n",
              "      <th></th>\n",
              "      <th></th>\n",
              "      <th></th>\n",
              "      <th></th>\n",
              "      <th></th>\n",
              "      <th></th>\n",
              "      <th></th>\n",
              "      <th></th>\n",
              "      <th></th>\n",
              "      <th></th>\n",
              "      <th></th>\n",
              "      <th></th>\n",
              "      <th></th>\n",
              "    </tr>\n",
              "  </thead>\n",
              "  <tbody>\n",
              "    <tr>\n",
              "      <th>Predicted Author</th>\n",
              "      <td>0</td>\n",
              "      <td>0</td>\n",
              "      <td>0</td>\n",
              "      <td>1</td>\n",
              "      <td>0</td>\n",
              "      <td>0</td>\n",
              "      <td>1</td>\n",
              "      <td>0</td>\n",
              "      <td>0</td>\n",
              "      <td>0</td>\n",
              "      <td>0</td>\n",
              "      <td>0</td>\n",
              "      <td>0</td>\n",
              "      <td>0</td>\n",
              "      <td>1</td>\n",
              "      <td>0</td>\n",
              "      <td>0</td>\n",
              "      <td>0</td>\n",
              "      <td>0</td>\n",
              "      <td>0</td>\n",
              "      <td>1</td>\n",
              "      <td>0</td>\n",
              "    </tr>\n",
              "  </tbody>\n",
              "</table>\n",
              "</div>"
            ],
            "text/plain": [
              "                  ESFP  INFJ  INFP  INTJ  INTP  College  Grade_10  Grade_5  \\\n",
              "Cleaned_Author                                                               \n",
              "Predicted Author     0     0     0     1     0        0         1        0   \n",
              "\n",
              "                  Grade_6  Grade_7  Grade_8  Graduate  Professional  Finance  \\\n",
              "Cleaned_Author                                                                 \n",
              "Predicted Author        0        0        0         0             0        0   \n",
              "\n",
              "                  Leadership  Marketing  Strategy  Technology  Advanced  \\\n",
              "Cleaned_Author                                                            \n",
              "Predicted Author           1          0         0           0         0   \n",
              "\n",
              "                  Basic  Elementary  Intermediate  \n",
              "Cleaned_Author                                     \n",
              "Predicted Author      0           1             0  "
            ]
          },
          "metadata": {
            "tags": []
          },
          "execution_count": 114
        }
      ]
    },
    {
      "cell_type": "code",
      "metadata": {
        "id": "A8FL0L2Dz4np",
        "colab": {
          "base_uri": "https://localhost:8080/",
          "height": 285
        },
        "outputId": "a6b0925a-1546-4bb7-d937-f551a7c70bdc"
      },
      "source": [
        "X1.loc['Paul White']"
      ],
      "execution_count": 121,
      "outputs": [
        {
          "output_type": "execute_result",
          "data": {
            "text/html": [
              "<div>\n",
              "<style scoped>\n",
              "    .dataframe tbody tr th:only-of-type {\n",
              "        vertical-align: middle;\n",
              "    }\n",
              "\n",
              "    .dataframe tbody tr th {\n",
              "        vertical-align: top;\n",
              "    }\n",
              "\n",
              "    .dataframe thead th {\n",
              "        text-align: right;\n",
              "    }\n",
              "</style>\n",
              "<table border=\"1\" class=\"dataframe\">\n",
              "  <thead>\n",
              "    <tr style=\"text-align: right;\">\n",
              "      <th></th>\n",
              "      <th>ESFP</th>\n",
              "      <th>INFJ</th>\n",
              "      <th>INFP</th>\n",
              "      <th>INTJ</th>\n",
              "      <th>INTP</th>\n",
              "      <th>College</th>\n",
              "      <th>Grade_10</th>\n",
              "      <th>Grade_5</th>\n",
              "      <th>Grade_6</th>\n",
              "      <th>Grade_7</th>\n",
              "      <th>Grade_8</th>\n",
              "      <th>Graduate</th>\n",
              "      <th>Professional</th>\n",
              "      <th>Finance</th>\n",
              "      <th>Leadership</th>\n",
              "      <th>Marketing</th>\n",
              "      <th>Strategy</th>\n",
              "      <th>Technology</th>\n",
              "      <th>Advanced</th>\n",
              "      <th>Basic</th>\n",
              "      <th>Elementary</th>\n",
              "      <th>Intermediate</th>\n",
              "    </tr>\n",
              "    <tr>\n",
              "      <th>Cleaned_Author</th>\n",
              "      <th></th>\n",
              "      <th></th>\n",
              "      <th></th>\n",
              "      <th></th>\n",
              "      <th></th>\n",
              "      <th></th>\n",
              "      <th></th>\n",
              "      <th></th>\n",
              "      <th></th>\n",
              "      <th></th>\n",
              "      <th></th>\n",
              "      <th></th>\n",
              "      <th></th>\n",
              "      <th></th>\n",
              "      <th></th>\n",
              "      <th></th>\n",
              "      <th></th>\n",
              "      <th></th>\n",
              "      <th></th>\n",
              "      <th></th>\n",
              "      <th></th>\n",
              "      <th></th>\n",
              "    </tr>\n",
              "  </thead>\n",
              "  <tbody>\n",
              "    <tr>\n",
              "      <th>Paul White</th>\n",
              "      <td>1</td>\n",
              "      <td>0</td>\n",
              "      <td>0</td>\n",
              "      <td>0</td>\n",
              "      <td>0</td>\n",
              "      <td>0</td>\n",
              "      <td>1</td>\n",
              "      <td>0</td>\n",
              "      <td>0</td>\n",
              "      <td>0</td>\n",
              "      <td>0</td>\n",
              "      <td>0</td>\n",
              "      <td>0</td>\n",
              "      <td>0</td>\n",
              "      <td>1</td>\n",
              "      <td>0</td>\n",
              "      <td>0</td>\n",
              "      <td>0</td>\n",
              "      <td>0</td>\n",
              "      <td>0</td>\n",
              "      <td>1</td>\n",
              "      <td>0</td>\n",
              "    </tr>\n",
              "    <tr>\n",
              "      <th>Paul White</th>\n",
              "      <td>0</td>\n",
              "      <td>0</td>\n",
              "      <td>0</td>\n",
              "      <td>1</td>\n",
              "      <td>0</td>\n",
              "      <td>0</td>\n",
              "      <td>0</td>\n",
              "      <td>0</td>\n",
              "      <td>0</td>\n",
              "      <td>0</td>\n",
              "      <td>0</td>\n",
              "      <td>1</td>\n",
              "      <td>0</td>\n",
              "      <td>0</td>\n",
              "      <td>1</td>\n",
              "      <td>0</td>\n",
              "      <td>0</td>\n",
              "      <td>0</td>\n",
              "      <td>0</td>\n",
              "      <td>0</td>\n",
              "      <td>1</td>\n",
              "      <td>0</td>\n",
              "    </tr>\n",
              "    <tr>\n",
              "      <th>Paul White</th>\n",
              "      <td>1</td>\n",
              "      <td>0</td>\n",
              "      <td>0</td>\n",
              "      <td>0</td>\n",
              "      <td>0</td>\n",
              "      <td>1</td>\n",
              "      <td>0</td>\n",
              "      <td>0</td>\n",
              "      <td>0</td>\n",
              "      <td>0</td>\n",
              "      <td>0</td>\n",
              "      <td>0</td>\n",
              "      <td>0</td>\n",
              "      <td>0</td>\n",
              "      <td>1</td>\n",
              "      <td>0</td>\n",
              "      <td>0</td>\n",
              "      <td>0</td>\n",
              "      <td>0</td>\n",
              "      <td>0</td>\n",
              "      <td>1</td>\n",
              "      <td>0</td>\n",
              "    </tr>\n",
              "    <tr>\n",
              "      <th>Paul White</th>\n",
              "      <td>0</td>\n",
              "      <td>0</td>\n",
              "      <td>0</td>\n",
              "      <td>1</td>\n",
              "      <td>0</td>\n",
              "      <td>1</td>\n",
              "      <td>0</td>\n",
              "      <td>0</td>\n",
              "      <td>0</td>\n",
              "      <td>0</td>\n",
              "      <td>0</td>\n",
              "      <td>0</td>\n",
              "      <td>0</td>\n",
              "      <td>0</td>\n",
              "      <td>1</td>\n",
              "      <td>0</td>\n",
              "      <td>0</td>\n",
              "      <td>0</td>\n",
              "      <td>0</td>\n",
              "      <td>0</td>\n",
              "      <td>1</td>\n",
              "      <td>0</td>\n",
              "    </tr>\n",
              "    <tr>\n",
              "      <th>Paul White</th>\n",
              "      <td>0</td>\n",
              "      <td>0</td>\n",
              "      <td>0</td>\n",
              "      <td>1</td>\n",
              "      <td>0</td>\n",
              "      <td>0</td>\n",
              "      <td>0</td>\n",
              "      <td>0</td>\n",
              "      <td>0</td>\n",
              "      <td>0</td>\n",
              "      <td>1</td>\n",
              "      <td>0</td>\n",
              "      <td>0</td>\n",
              "      <td>0</td>\n",
              "      <td>1</td>\n",
              "      <td>0</td>\n",
              "      <td>0</td>\n",
              "      <td>0</td>\n",
              "      <td>0</td>\n",
              "      <td>0</td>\n",
              "      <td>1</td>\n",
              "      <td>0</td>\n",
              "    </tr>\n",
              "    <tr>\n",
              "      <th>Paul White</th>\n",
              "      <td>0</td>\n",
              "      <td>0</td>\n",
              "      <td>0</td>\n",
              "      <td>1</td>\n",
              "      <td>0</td>\n",
              "      <td>0</td>\n",
              "      <td>1</td>\n",
              "      <td>0</td>\n",
              "      <td>0</td>\n",
              "      <td>0</td>\n",
              "      <td>0</td>\n",
              "      <td>0</td>\n",
              "      <td>0</td>\n",
              "      <td>0</td>\n",
              "      <td>1</td>\n",
              "      <td>0</td>\n",
              "      <td>0</td>\n",
              "      <td>0</td>\n",
              "      <td>0</td>\n",
              "      <td>0</td>\n",
              "      <td>1</td>\n",
              "      <td>0</td>\n",
              "    </tr>\n",
              "  </tbody>\n",
              "</table>\n",
              "</div>"
            ],
            "text/plain": [
              "                ESFP  INFJ  INFP  INTJ  INTP  College  Grade_10  Grade_5  \\\n",
              "Cleaned_Author                                                             \n",
              "Paul White         1     0     0     0     0        0         1        0   \n",
              "Paul White         0     0     0     1     0        0         0        0   \n",
              "Paul White         1     0     0     0     0        1         0        0   \n",
              "Paul White         0     0     0     1     0        1         0        0   \n",
              "Paul White         0     0     0     1     0        0         0        0   \n",
              "Paul White         0     0     0     1     0        0         1        0   \n",
              "\n",
              "                Grade_6  Grade_7  Grade_8  Graduate  Professional  Finance  \\\n",
              "Cleaned_Author                                                               \n",
              "Paul White            0        0        0         0             0        0   \n",
              "Paul White            0        0        0         1             0        0   \n",
              "Paul White            0        0        0         0             0        0   \n",
              "Paul White            0        0        0         0             0        0   \n",
              "Paul White            0        0        1         0             0        0   \n",
              "Paul White            0        0        0         0             0        0   \n",
              "\n",
              "                Leadership  Marketing  Strategy  Technology  Advanced  Basic  \\\n",
              "Cleaned_Author                                                                 \n",
              "Paul White               1          0         0           0         0      0   \n",
              "Paul White               1          0         0           0         0      0   \n",
              "Paul White               1          0         0           0         0      0   \n",
              "Paul White               1          0         0           0         0      0   \n",
              "Paul White               1          0         0           0         0      0   \n",
              "Paul White               1          0         0           0         0      0   \n",
              "\n",
              "                Elementary  Intermediate  \n",
              "Cleaned_Author                            \n",
              "Paul White               1             0  \n",
              "Paul White               1             0  \n",
              "Paul White               1             0  \n",
              "Paul White               1             0  \n",
              "Paul White               1             0  \n",
              "Paul White               1             0  "
            ]
          },
          "metadata": {
            "tags": []
          },
          "execution_count": 121
        }
      ]
    },
    {
      "cell_type": "code",
      "metadata": {
        "id": "VJ4o6dhNLvG8"
      },
      "source": [
        ""
      ],
      "execution_count": null,
      "outputs": []
    }
  ]
}