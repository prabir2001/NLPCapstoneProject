{
  "nbformat": 4,
  "nbformat_minor": 0,
  "metadata": {
    "colab": {
      "name": "HBR - Strategy.ipynb",
      "provenance": [],
      "collapsed_sections": []
    },
    "kernelspec": {
      "name": "python3",
      "display_name": "Python 3"
    },
    "language_info": {
      "name": "python"
    }
  },
  "cells": [
    {
      "cell_type": "markdown",
      "metadata": {
        "id": "LaKFUdAdcpp9"
      },
      "source": [
        "* 539\n",
        "https://hbswk.hbs.edu/Pages/browse.aspx?HBSTopic=Finance\n",
        "* 378\n",
        "https://hbswk.hbs.edu/Pages/browse.aspx?HBSTopic=Leadership\n",
        "* 284\n",
        "https://hbswk.hbs.edu/Pages/browse.aspx?HBSTopic=Management\n",
        "* 399\n",
        "https://hbswk.hbs.edu/Pages/browse.aspx?HBSTopic=Strategy"
      ]
    },
    {
      "cell_type": "code",
      "metadata": {
        "colab": {
          "base_uri": "https://localhost:8080/"
        },
        "id": "_sAOeqYub7tp",
        "outputId": "d6760f4d-415e-43a8-8439-873779a342ae"
      },
      "source": [
        "from google.colab import drive\n",
        "drive.mount('/content/drive')"
      ],
      "execution_count": null,
      "outputs": [
        {
          "output_type": "stream",
          "text": [
            "Mounted at /content/drive\n"
          ],
          "name": "stdout"
        }
      ]
    },
    {
      "cell_type": "code",
      "metadata": {
        "id": "-Z1V23urwyRr"
      },
      "source": [
        "import requests\n",
        "import pandas as pd\n",
        "from google.colab import files\n",
        "import time"
      ],
      "execution_count": null,
      "outputs": []
    },
    {
      "cell_type": "code",
      "metadata": {
        "id": "c9k_v62qCP5Y"
      },
      "source": [
        "from bs4 import BeautifulSoup"
      ],
      "execution_count": null,
      "outputs": []
    },
    {
      "cell_type": "code",
      "metadata": {
        "colab": {
          "base_uri": "https://localhost:8080/"
        },
        "id": "OgdOF604CQpS",
        "outputId": "384da80b-783e-48ba-91b5-c9abe724d463"
      },
      "source": [
        "pip install lxml"
      ],
      "execution_count": null,
      "outputs": [
        {
          "output_type": "stream",
          "text": [
            "Requirement already satisfied: lxml in /usr/local/lib/python3.7/dist-packages (4.2.6)\n"
          ],
          "name": "stdout"
        }
      ]
    },
    {
      "cell_type": "code",
      "metadata": {
        "id": "nKXsGTQwCcGP"
      },
      "source": [
        "h = []\n",
        "#s = []\n",
        "u = []"
      ],
      "execution_count": null,
      "outputs": []
    },
    {
      "cell_type": "code",
      "metadata": {
        "id": "woUa5lXzCkfs"
      },
      "source": [
        "HBR = pd.DataFrame()"
      ],
      "execution_count": null,
      "outputs": []
    },
    {
      "cell_type": "code",
      "metadata": {
        "id": "Chgw6qBTwyRv"
      },
      "source": [
        "common_url = 'https://hbswk.hbs.edu/Pages/browse.aspx?HBSTopic=Strategy&page='\n",
        "for i in range(1,21):\n",
        "  url = (common_url + str(i))\n",
        "  time.sleep(3)\n",
        "  data = requests.get(url).text\n",
        "  soup = BeautifulSoup(data, \"lxml\")\n",
        "  for eta in soup.find_all('div',class_='highlight-container'):\n",
        "    try:\n",
        "      headline = eta.h4.a.text\n",
        "    except:\n",
        "      pass\n",
        "    h.append(headline)\n",
        "\n",
        "    #try:\n",
        "    #  summary = eta.p.text\n",
        "    #except:\n",
        "    #  pass\n",
        "    #s.append(summary)\n",
        "    \n",
        "    try:\n",
        "      url = eta.a.attrs['href']\n",
        "    except:\n",
        "      pass\n",
        "    u.append('https://hbswk.hbs.edu'+url)\n",
        "  \n",
        "HBR['Headline'] = h\n",
        "#HBR['Summary'] = s\n",
        "HBR['Article URL'] = u\n"
      ],
      "execution_count": null,
      "outputs": []
    },
    {
      "cell_type": "code",
      "metadata": {
        "colab": {
          "base_uri": "https://localhost:8080/"
        },
        "id": "LsZ2kgrLBGaj",
        "outputId": "7e40af18-ee7e-4e40-95a5-65fadf876c4c"
      },
      "source": [
        "HBR.shape"
      ],
      "execution_count": null,
      "outputs": [
        {
          "output_type": "execute_result",
          "data": {
            "text/plain": [
              "(399, 2)"
            ]
          },
          "metadata": {
            "tags": []
          },
          "execution_count": 9
        }
      ]
    },
    {
      "cell_type": "code",
      "metadata": {
        "colab": {
          "base_uri": "https://localhost:8080/",
          "height": 204
        },
        "id": "Zn2j84OONkzD",
        "outputId": "d782e6b0-a4b1-4ba7-f7f6-cbf32697c560"
      },
      "source": [
        "HBR.head(5)"
      ],
      "execution_count": null,
      "outputs": [
        {
          "output_type": "execute_result",
          "data": {
            "text/html": [
              "<div>\n",
              "<style scoped>\n",
              "    .dataframe tbody tr th:only-of-type {\n",
              "        vertical-align: middle;\n",
              "    }\n",
              "\n",
              "    .dataframe tbody tr th {\n",
              "        vertical-align: top;\n",
              "    }\n",
              "\n",
              "    .dataframe thead th {\n",
              "        text-align: right;\n",
              "    }\n",
              "</style>\n",
              "<table border=\"1\" class=\"dataframe\">\n",
              "  <thead>\n",
              "    <tr style=\"text-align: right;\">\n",
              "      <th></th>\n",
              "      <th>Headline</th>\n",
              "      <th>Article URL</th>\n",
              "    </tr>\n",
              "  </thead>\n",
              "  <tbody>\n",
              "    <tr>\n",
              "      <th>0</th>\n",
              "      <td>A Simple Question That Can Guide Companies to ...</td>\n",
              "      <td>https://hbswk.hbs.edu/item/a-simple-question-t...</td>\n",
              "    </tr>\n",
              "    <tr>\n",
              "      <th>1</th>\n",
              "      <td>Deregulation, Market Power, and Prices: Eviden...</td>\n",
              "      <td>https://hbswk.hbs.edu/item/deregulation-market...</td>\n",
              "    </tr>\n",
              "    <tr>\n",
              "      <th>2</th>\n",
              "      <td>Updating the Balanced Scorecard for Triple Bot...</td>\n",
              "      <td>https://hbswk.hbs.edu/item/updating-the-balanc...</td>\n",
              "    </tr>\n",
              "    <tr>\n",
              "      <th>3</th>\n",
              "      <td>How to Help Small Businesses Survive COVID's N...</td>\n",
              "      <td>https://hbswk.hbs.edu/item/how-to-help-small-b...</td>\n",
              "    </tr>\n",
              "    <tr>\n",
              "      <th>4</th>\n",
              "      <td>Why American Health Care Needs Its Own SEC</td>\n",
              "      <td>https://hbswk.hbs.edu/item/why-american-health...</td>\n",
              "    </tr>\n",
              "  </tbody>\n",
              "</table>\n",
              "</div>"
            ],
            "text/plain": [
              "                                            Headline                                        Article URL\n",
              "0  A Simple Question That Can Guide Companies to ...  https://hbswk.hbs.edu/item/a-simple-question-t...\n",
              "1  Deregulation, Market Power, and Prices: Eviden...  https://hbswk.hbs.edu/item/deregulation-market...\n",
              "2  Updating the Balanced Scorecard for Triple Bot...  https://hbswk.hbs.edu/item/updating-the-balanc...\n",
              "3  How to Help Small Businesses Survive COVID's N...  https://hbswk.hbs.edu/item/how-to-help-small-b...\n",
              "4         Why American Health Care Needs Its Own SEC  https://hbswk.hbs.edu/item/why-american-health..."
            ]
          },
          "metadata": {
            "tags": []
          },
          "execution_count": 10
        }
      ]
    },
    {
      "cell_type": "code",
      "metadata": {
        "colab": {
          "base_uri": "https://localhost:8080/"
        },
        "id": "ZgB4U2jFOPeS",
        "outputId": "011ac4be-d0a5-41df-dd4c-84a162b39649"
      },
      "source": [
        "HBR.shape"
      ],
      "execution_count": null,
      "outputs": [
        {
          "output_type": "execute_result",
          "data": {
            "text/plain": [
              "(399, 2)"
            ]
          },
          "metadata": {
            "tags": []
          },
          "execution_count": 11
        }
      ]
    },
    {
      "cell_type": "code",
      "metadata": {
        "id": "TM6jgkBv0x0G"
      },
      "source": [
        "#table = soup_inside.findAll('div',attrs={\"class\":\"citrus-inherit story-body\"})\n",
        "\n",
        "#for y in table:\n",
        "#  a = y.find('p').text"
      ],
      "execution_count": null,
      "outputs": []
    },
    {
      "cell_type": "code",
      "metadata": {
        "id": "tXQLJpIK_oK9"
      },
      "source": [
        "#p.get_text()"
      ],
      "execution_count": null,
      "outputs": []
    },
    {
      "cell_type": "code",
      "metadata": {
        "id": "CQE1WLMdzQe8"
      },
      "source": [
        "#Adding an extra column to the dataframe for collecting the text\n",
        "\n",
        "collect = []\n",
        "\n",
        "for x in HBR['Article URL']:\n",
        "  #Getting Inside Page\n",
        "\n",
        "  #Loading URL\n",
        "  url_article = x\n",
        "\n",
        "  #Download the data from the inside page\n",
        "\n",
        "  try:\n",
        "    data_inside = requests.get(x).text\n",
        "  except:\n",
        "    pass\n",
        "\n",
        "  time.sleep(3)\n",
        "\n",
        "  #Parse the data using Beautiful Soup\n",
        "  soup_inside = BeautifulSoup(data_inside, \"lxml\")\n",
        "\n",
        "  #Getting just the article content from the page\n",
        "  for p in soup_inside.find_all('div', class_='citrus-inherit story-body'):\n",
        "    try:\n",
        "      text = p.get_text()\n",
        "    except:\n",
        "      pass\n",
        "    text.encode(\"ascii\", \"ignore\")\n",
        "    text.encode(\"utf-8\", \"ignore\")\n",
        "    collect.append(text)\n",
        "\n",
        "#Made a new column in data and added the text to that\n",
        "HBR['Article'] = collect "
      ],
      "execution_count": null,
      "outputs": []
    },
    {
      "cell_type": "code",
      "metadata": {
        "colab": {
          "base_uri": "https://localhost:8080/"
        },
        "id": "-2didoWnAud7",
        "outputId": "419a12b4-ec45-48df-ec71-6b1d0ea5d766"
      },
      "source": [
        "HBR.shape"
      ],
      "execution_count": null,
      "outputs": [
        {
          "output_type": "execute_result",
          "data": {
            "text/plain": [
              "(399, 3)"
            ]
          },
          "metadata": {
            "tags": []
          },
          "execution_count": 15
        }
      ]
    },
    {
      "cell_type": "code",
      "metadata": {
        "id": "oKhem_KfPNEO",
        "colab": {
          "base_uri": "https://localhost:8080/",
          "height": 289
        },
        "outputId": "3cfd7449-7870-48d8-893c-543b01a14689"
      },
      "source": [
        "HBR.head(5)"
      ],
      "execution_count": null,
      "outputs": [
        {
          "output_type": "execute_result",
          "data": {
            "text/html": [
              "<div>\n",
              "<style scoped>\n",
              "    .dataframe tbody tr th:only-of-type {\n",
              "        vertical-align: middle;\n",
              "    }\n",
              "\n",
              "    .dataframe tbody tr th {\n",
              "        vertical-align: top;\n",
              "    }\n",
              "\n",
              "    .dataframe thead th {\n",
              "        text-align: right;\n",
              "    }\n",
              "</style>\n",
              "<table border=\"1\" class=\"dataframe\">\n",
              "  <thead>\n",
              "    <tr style=\"text-align: right;\">\n",
              "      <th></th>\n",
              "      <th>Headline</th>\n",
              "      <th>Article URL</th>\n",
              "      <th>Article</th>\n",
              "    </tr>\n",
              "  </thead>\n",
              "  <tbody>\n",
              "    <tr>\n",
              "      <th>0</th>\n",
              "      <td>A Simple Question That Can Guide Companies to ...</td>\n",
              "      <td>https://hbswk.hbs.edu/item/a-simple-question-t...</td>\n",
              "      <td>\\nSome companies gain advantage by commanding ...</td>\n",
              "    </tr>\n",
              "    <tr>\n",
              "      <th>1</th>\n",
              "      <td>Deregulation, Market Power, and Prices: Eviden...</td>\n",
              "      <td>https://hbswk.hbs.edu/item/deregulation-market...</td>\n",
              "      <td>\\nAuthor Abstract\\n\\nWhen deciding whether to ...</td>\n",
              "    </tr>\n",
              "    <tr>\n",
              "      <th>2</th>\n",
              "      <td>Updating the Balanced Scorecard for Triple Bot...</td>\n",
              "      <td>https://hbswk.hbs.edu/item/updating-the-balanc...</td>\n",
              "      <td>\\nAuthor Abstract\\n\\nMany companies are now at...</td>\n",
              "    </tr>\n",
              "    <tr>\n",
              "      <th>3</th>\n",
              "      <td>How to Help Small Businesses Survive COVID's N...</td>\n",
              "      <td>https://hbswk.hbs.edu/item/how-to-help-small-b...</td>\n",
              "      <td>\\n\\nAmerica small-business owners moved quickl...</td>\n",
              "    </tr>\n",
              "    <tr>\n",
              "      <th>4</th>\n",
              "      <td>Why American Health Care Needs Its Own SEC</td>\n",
              "      <td>https://hbswk.hbs.edu/item/why-american-health...</td>\n",
              "      <td>\\nEmployers, insurers, taxpayers, and individu...</td>\n",
              "    </tr>\n",
              "  </tbody>\n",
              "</table>\n",
              "</div>"
            ],
            "text/plain": [
              "                                            Headline  ...                                            Article\n",
              "0  A Simple Question That Can Guide Companies to ...  ...  \\nSome companies gain advantage by commanding ...\n",
              "1  Deregulation, Market Power, and Prices: Eviden...  ...  \\nAuthor Abstract\\n\\nWhen deciding whether to ...\n",
              "2  Updating the Balanced Scorecard for Triple Bot...  ...  \\nAuthor Abstract\\n\\nMany companies are now at...\n",
              "3  How to Help Small Businesses Survive COVID's N...  ...  \\n\\nAmerica small-business owners moved quickl...\n",
              "4         Why American Health Care Needs Its Own SEC  ...  \\nEmployers, insurers, taxpayers, and individu...\n",
              "\n",
              "[5 rows x 3 columns]"
            ]
          },
          "metadata": {
            "tags": []
          },
          "execution_count": 16
        }
      ]
    },
    {
      "cell_type": "code",
      "metadata": {
        "colab": {
          "base_uri": "https://localhost:8080/",
          "height": 17
        },
        "id": "OmH2WzgIPVBi",
        "outputId": "b7648956-c517-4411-ca26-a9426a0a3eb2"
      },
      "source": [
        "HBR.to_csv(\"HBR Strategy Articles.csv\")\n",
        "\n",
        "#Download the file to the laptop\n",
        "files.download('HBR Strategy Articles.csv')"
      ],
      "execution_count": null,
      "outputs": [
        {
          "output_type": "display_data",
          "data": {
            "application/javascript": [
              "\n",
              "    async function download(id, filename, size) {\n",
              "      if (!google.colab.kernel.accessAllowed) {\n",
              "        return;\n",
              "      }\n",
              "      const div = document.createElement('div');\n",
              "      const label = document.createElement('label');\n",
              "      label.textContent = `Downloading \"${filename}\": `;\n",
              "      div.appendChild(label);\n",
              "      const progress = document.createElement('progress');\n",
              "      progress.max = size;\n",
              "      div.appendChild(progress);\n",
              "      document.body.appendChild(div);\n",
              "\n",
              "      const buffers = [];\n",
              "      let downloaded = 0;\n",
              "\n",
              "      const channel = await google.colab.kernel.comms.open(id);\n",
              "      // Send a message to notify the kernel that we're ready.\n",
              "      channel.send({})\n",
              "\n",
              "      for await (const message of channel.messages) {\n",
              "        // Send a message to notify the kernel that we're ready.\n",
              "        channel.send({})\n",
              "        if (message.buffers) {\n",
              "          for (const buffer of message.buffers) {\n",
              "            buffers.push(buffer);\n",
              "            downloaded += buffer.byteLength;\n",
              "            progress.value = downloaded;\n",
              "          }\n",
              "        }\n",
              "      }\n",
              "      const blob = new Blob(buffers, {type: 'application/binary'});\n",
              "      const a = document.createElement('a');\n",
              "      a.href = window.URL.createObjectURL(blob);\n",
              "      a.download = filename;\n",
              "      div.appendChild(a);\n",
              "      a.click();\n",
              "      div.remove();\n",
              "    }\n",
              "  "
            ],
            "text/plain": [
              "<IPython.core.display.Javascript object>"
            ]
          },
          "metadata": {
            "tags": []
          }
        },
        {
          "output_type": "display_data",
          "data": {
            "application/javascript": [
              "download(\"download_7fc55835-852c-4f62-899b-baf6eb8eaf00\", \"HBR Strategy Articles.csv\", 3016038)"
            ],
            "text/plain": [
              "<IPython.core.display.Javascript object>"
            ]
          },
          "metadata": {
            "tags": []
          }
        }
      ]
    }
  ]
}