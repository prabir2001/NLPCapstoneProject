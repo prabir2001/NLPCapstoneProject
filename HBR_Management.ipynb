{
  "nbformat": 4,
  "nbformat_minor": 0,
  "metadata": {
    "colab": {
      "name": "HBR - Management.ipynb",
      "provenance": [],
      "collapsed_sections": []
    },
    "kernelspec": {
      "name": "python3",
      "display_name": "Python 3"
    },
    "language_info": {
      "name": "python"
    }
  },
  "cells": [
    {
      "cell_type": "markdown",
      "metadata": {
        "id": "LaKFUdAdcpp9"
      },
      "source": [
        "* 539\n",
        "https://hbswk.hbs.edu/Pages/browse.aspx?HBSTopic=Finance\n",
        "* 378\n",
        "https://hbswk.hbs.edu/Pages/browse.aspx?HBSTopic=Leadership\n",
        "* 284\n",
        "https://hbswk.hbs.edu/Pages/browse.aspx?HBSTopic=Management\n",
        "* 399\n",
        "https://hbswk.hbs.edu/Pages/browse.aspx?HBSTopic=Strategy"
      ]
    },
    {
      "cell_type": "code",
      "metadata": {
        "id": "-Z1V23urwyRr"
      },
      "source": [
        "import requests\n",
        "import pandas as pd\n",
        "from google.colab import files\n",
        "import time"
      ],
      "execution_count": null,
      "outputs": []
    },
    {
      "cell_type": "code",
      "metadata": {
        "id": "c9k_v62qCP5Y"
      },
      "source": [
        "from bs4 import BeautifulSoup"
      ],
      "execution_count": null,
      "outputs": []
    },
    {
      "cell_type": "code",
      "metadata": {
        "colab": {
          "base_uri": "https://localhost:8080/"
        },
        "id": "OgdOF604CQpS",
        "outputId": "26be9a7a-5fcf-422a-d9af-f68a7d0de01c"
      },
      "source": [
        "pip install lxml"
      ],
      "execution_count": null,
      "outputs": [
        {
          "output_type": "stream",
          "text": [
            "Requirement already satisfied: lxml in /usr/local/lib/python3.7/dist-packages (4.2.6)\n"
          ],
          "name": "stdout"
        }
      ]
    },
    {
      "cell_type": "code",
      "metadata": {
        "id": "nKXsGTQwCcGP"
      },
      "source": [
        "h = []\n",
        "#s = []\n",
        "u = []"
      ],
      "execution_count": null,
      "outputs": []
    },
    {
      "cell_type": "code",
      "metadata": {
        "id": "woUa5lXzCkfs"
      },
      "source": [
        "HBR = pd.DataFrame()"
      ],
      "execution_count": null,
      "outputs": []
    },
    {
      "cell_type": "code",
      "metadata": {
        "id": "Chgw6qBTwyRv"
      },
      "source": [
        "common_url = 'https://hbswk.hbs.edu/Pages/browse.aspx?HBSTopic=Finance&page='\n",
        "for i in range(1,16):\n",
        "  url = (common_url + str(i))\n",
        "  time.sleep(3)\n",
        "  data = requests.get(url).text\n",
        "  soup = BeautifulSoup(data, \"lxml\")\n",
        "  for eta in soup.find_all('div',class_='highlight-container'):\n",
        "    try:\n",
        "      headline = eta.h4.a.text\n",
        "    except:\n",
        "      pass\n",
        "    h.append(headline)\n",
        "\n",
        "    #try:\n",
        "    #  summary = eta.p.text\n",
        "    #except:\n",
        "    #  pass\n",
        "    #s.append(summary)\n",
        "    \n",
        "    try:\n",
        "      url = eta.a.attrs['href']\n",
        "    except:\n",
        "      pass\n",
        "    u.append('https://hbswk.hbs.edu'+url)\n",
        "  \n",
        "HBR['Headline'] = h\n",
        "#HBR['Summary'] = s\n",
        "HBR['Article URL'] = u\n"
      ],
      "execution_count": null,
      "outputs": []
    },
    {
      "cell_type": "code",
      "metadata": {
        "colab": {
          "base_uri": "https://localhost:8080/"
        },
        "id": "LsZ2kgrLBGaj",
        "outputId": "4a7a92fc-a36a-4ae2-bdf7-82c568bdd39f"
      },
      "source": [
        "HBR.shape"
      ],
      "execution_count": null,
      "outputs": [
        {
          "output_type": "execute_result",
          "data": {
            "text/plain": [
              "(539, 2)"
            ]
          },
          "metadata": {
            "tags": []
          },
          "execution_count": 7
        }
      ]
    },
    {
      "cell_type": "code",
      "metadata": {
        "colab": {
          "base_uri": "https://localhost:8080/",
          "height": 204
        },
        "id": "Zn2j84OONkzD",
        "outputId": "e971d104-aab5-4d20-8bdc-ed677e980a8e"
      },
      "source": [
        "HBR.head(5)"
      ],
      "execution_count": null,
      "outputs": [
        {
          "output_type": "execute_result",
          "data": {
            "text/html": [
              "<div>\n",
              "<style scoped>\n",
              "    .dataframe tbody tr th:only-of-type {\n",
              "        vertical-align: middle;\n",
              "    }\n",
              "\n",
              "    .dataframe tbody tr th {\n",
              "        vertical-align: top;\n",
              "    }\n",
              "\n",
              "    .dataframe thead th {\n",
              "        text-align: right;\n",
              "    }\n",
              "</style>\n",
              "<table border=\"1\" class=\"dataframe\">\n",
              "  <thead>\n",
              "    <tr style=\"text-align: right;\">\n",
              "      <th></th>\n",
              "      <th>Headline</th>\n",
              "      <th>Article URL</th>\n",
              "    </tr>\n",
              "  </thead>\n",
              "  <tbody>\n",
              "    <tr>\n",
              "      <th>0</th>\n",
              "      <td>IPO or M&amp;A? How Venture Capital Shapes a Start...</td>\n",
              "      <td>https://hbswk.hbs.edu/item/ipo-or-ma-how-ventu...</td>\n",
              "    </tr>\n",
              "    <tr>\n",
              "      <th>1</th>\n",
              "      <td>Currency Hedging in Emerging Markets: Managing...</td>\n",
              "      <td>https://hbswk.hbs.edu/item/currency-hedging-in...</td>\n",
              "    </tr>\n",
              "    <tr>\n",
              "      <th>2</th>\n",
              "      <td>Readers Ask: What's the Next 'Big Thing' in Fi...</td>\n",
              "      <td>https://hbswk.hbs.edu/item/readers-ask-whats-t...</td>\n",
              "    </tr>\n",
              "    <tr>\n",
              "      <th>3</th>\n",
              "      <td>Real Credit Cycles</td>\n",
              "      <td>https://hbswk.hbs.edu/item/real-credit-cycles</td>\n",
              "    </tr>\n",
              "    <tr>\n",
              "      <th>4</th>\n",
              "      <td>Stock Price Reactions to ESG News: The Role of...</td>\n",
              "      <td>https://hbswk.hbs.edu/item/stock-price-reactio...</td>\n",
              "    </tr>\n",
              "  </tbody>\n",
              "</table>\n",
              "</div>"
            ],
            "text/plain": [
              "                                            Headline                                        Article URL\n",
              "0  IPO or M&A? How Venture Capital Shapes a Start...  https://hbswk.hbs.edu/item/ipo-or-ma-how-ventu...\n",
              "1  Currency Hedging in Emerging Markets: Managing...  https://hbswk.hbs.edu/item/currency-hedging-in...\n",
              "2  Readers Ask: What's the Next 'Big Thing' in Fi...  https://hbswk.hbs.edu/item/readers-ask-whats-t...\n",
              "3                                 Real Credit Cycles      https://hbswk.hbs.edu/item/real-credit-cycles\n",
              "4  Stock Price Reactions to ESG News: The Role of...  https://hbswk.hbs.edu/item/stock-price-reactio..."
            ]
          },
          "metadata": {
            "tags": []
          },
          "execution_count": 8
        }
      ]
    },
    {
      "cell_type": "code",
      "metadata": {
        "colab": {
          "base_uri": "https://localhost:8080/"
        },
        "id": "ZgB4U2jFOPeS",
        "outputId": "8f1cf4af-0a00-49e1-d626-602a4b919e08"
      },
      "source": [
        "HBR.shape"
      ],
      "execution_count": null,
      "outputs": [
        {
          "output_type": "execute_result",
          "data": {
            "text/plain": [
              "(539, 2)"
            ]
          },
          "metadata": {
            "tags": []
          },
          "execution_count": 9
        }
      ]
    },
    {
      "cell_type": "code",
      "metadata": {
        "id": "TM6jgkBv0x0G"
      },
      "source": [
        "#table = soup_inside.findAll('div',attrs={\"class\":\"citrus-inherit story-body\"})\n",
        "\n",
        "#for y in table:\n",
        "#  a = y.find('p').text"
      ],
      "execution_count": null,
      "outputs": []
    },
    {
      "cell_type": "code",
      "metadata": {
        "id": "tXQLJpIK_oK9"
      },
      "source": [
        "#p.get_text()"
      ],
      "execution_count": null,
      "outputs": []
    },
    {
      "cell_type": "code",
      "metadata": {
        "id": "CQE1WLMdzQe8"
      },
      "source": [
        "#Adding an extra column to the dataframe for collecting the text\n",
        "\n",
        "collect = []\n",
        "\n",
        "for x in HBR['Article URL']:\n",
        "  #Getting Inside Page\n",
        "\n",
        "  #Loading URL\n",
        "  url_article = x\n",
        "\n",
        "  #Download the data from the inside page\n",
        "\n",
        "  try:\n",
        "    data_inside = requests.get(x).text\n",
        "  except:\n",
        "    pass\n",
        "\n",
        "  time.sleep(3)\n",
        "\n",
        "  #Parse the data using Beautiful Soup\n",
        "  soup_inside = BeautifulSoup(data_inside, \"lxml\")\n",
        "\n",
        "  #Getting just the article content from the page\n",
        "  for p in soup_inside.find_all('div', class_='citrus-inherit story-body'):\n",
        "    try:\n",
        "      text = p.get_text()\n",
        "    except:\n",
        "      pass\n",
        "    text.encode(\"ascii\", \"ignore\")\n",
        "    text.encode(\"utf-8\", \"ignore\")\n",
        "    collect.append(text)\n",
        "\n",
        "#Made a new column in data and added the text to that\n",
        "HBR['Article'] = collect "
      ],
      "execution_count": null,
      "outputs": []
    },
    {
      "cell_type": "code",
      "metadata": {
        "colab": {
          "base_uri": "https://localhost:8080/"
        },
        "id": "-2didoWnAud7",
        "outputId": "f0e0ccf3-82cb-459c-cf8e-669ef90002c3"
      },
      "source": [
        "HBR.shape"
      ],
      "execution_count": null,
      "outputs": [
        {
          "output_type": "execute_result",
          "data": {
            "text/plain": [
              "(539, 3)"
            ]
          },
          "metadata": {
            "tags": []
          },
          "execution_count": 15
        }
      ]
    },
    {
      "cell_type": "code",
      "metadata": {
        "id": "oKhem_KfPNEO",
        "colab": {
          "base_uri": "https://localhost:8080/",
          "height": 204
        },
        "outputId": "7ea059f1-df06-4d64-83c9-1452b755d5ad"
      },
      "source": [
        "HBR.head(5)"
      ],
      "execution_count": null,
      "outputs": [
        {
          "output_type": "execute_result",
          "data": {
            "text/html": [
              "<div>\n",
              "<style scoped>\n",
              "    .dataframe tbody tr th:only-of-type {\n",
              "        vertical-align: middle;\n",
              "    }\n",
              "\n",
              "    .dataframe tbody tr th {\n",
              "        vertical-align: top;\n",
              "    }\n",
              "\n",
              "    .dataframe thead th {\n",
              "        text-align: right;\n",
              "    }\n",
              "</style>\n",
              "<table border=\"1\" class=\"dataframe\">\n",
              "  <thead>\n",
              "    <tr style=\"text-align: right;\">\n",
              "      <th></th>\n",
              "      <th>Headline</th>\n",
              "      <th>Article URL</th>\n",
              "      <th>Article</th>\n",
              "    </tr>\n",
              "  </thead>\n",
              "  <tbody>\n",
              "    <tr>\n",
              "      <th>0</th>\n",
              "      <td>IPO or M&amp;A? How Venture Capital Shapes a Start...</td>\n",
              "      <td>https://hbswk.hbs.edu/item/ipo-or-ma-how-ventu...</td>\n",
              "      <td>\\nEntrepreneurs rarely consider who will ultim...</td>\n",
              "    </tr>\n",
              "    <tr>\n",
              "      <th>1</th>\n",
              "      <td>Currency Hedging in Emerging Markets: Managing...</td>\n",
              "      <td>https://hbswk.hbs.edu/item/currency-hedging-in...</td>\n",
              "      <td>\\nAuthor Abstract\\n\\nForeign currency derivati...</td>\n",
              "    </tr>\n",
              "    <tr>\n",
              "      <th>2</th>\n",
              "      <td>Readers Ask: What's the Next 'Big Thing' in Fi...</td>\n",
              "      <td>https://hbswk.hbs.edu/item/readers-ask-whats-t...</td>\n",
              "      <td>\\nWhat’s next in finance? Is bitcoin an inflat...</td>\n",
              "    </tr>\n",
              "    <tr>\n",
              "      <th>3</th>\n",
              "      <td>Real Credit Cycles</td>\n",
              "      <td>https://hbswk.hbs.edu/item/real-credit-cycles</td>\n",
              "      <td>\\nAuthor Abstract\\n\\nWe incorporate diagnostic...</td>\n",
              "    </tr>\n",
              "    <tr>\n",
              "      <th>4</th>\n",
              "      <td>Stock Price Reactions to ESG News: The Role of...</td>\n",
              "      <td>https://hbswk.hbs.edu/item/stock-price-reactio...</td>\n",
              "      <td>\\nAuthor Abstract\\n\\nWe investigate whether ES...</td>\n",
              "    </tr>\n",
              "  </tbody>\n",
              "</table>\n",
              "</div>"
            ],
            "text/plain": [
              "                                            Headline  ...                                            Article\n",
              "0  IPO or M&A? How Venture Capital Shapes a Start...  ...  \\nEntrepreneurs rarely consider who will ultim...\n",
              "1  Currency Hedging in Emerging Markets: Managing...  ...  \\nAuthor Abstract\\n\\nForeign currency derivati...\n",
              "2  Readers Ask: What's the Next 'Big Thing' in Fi...  ...  \\nWhat’s next in finance? Is bitcoin an inflat...\n",
              "3                                 Real Credit Cycles  ...  \\nAuthor Abstract\\n\\nWe incorporate diagnostic...\n",
              "4  Stock Price Reactions to ESG News: The Role of...  ...  \\nAuthor Abstract\\n\\nWe investigate whether ES...\n",
              "\n",
              "[5 rows x 3 columns]"
            ]
          },
          "metadata": {
            "tags": []
          },
          "execution_count": 16
        }
      ]
    },
    {
      "cell_type": "code",
      "metadata": {
        "colab": {
          "base_uri": "https://localhost:8080/",
          "height": 17
        },
        "id": "OmH2WzgIPVBi",
        "outputId": "084c4f00-f3ce-4f42-a36c-9eeec6929f0c"
      },
      "source": [
        "HBR.to_csv(\"HBR Management Articles.csv\")\n",
        "\n",
        "#Download the file to the laptop\n",
        "files.download('HBR Management Articles.csv')"
      ],
      "execution_count": null,
      "outputs": [
        {
          "output_type": "display_data",
          "data": {
            "application/javascript": [
              "\n",
              "    async function download(id, filename, size) {\n",
              "      if (!google.colab.kernel.accessAllowed) {\n",
              "        return;\n",
              "      }\n",
              "      const div = document.createElement('div');\n",
              "      const label = document.createElement('label');\n",
              "      label.textContent = `Downloading \"${filename}\": `;\n",
              "      div.appendChild(label);\n",
              "      const progress = document.createElement('progress');\n",
              "      progress.max = size;\n",
              "      div.appendChild(progress);\n",
              "      document.body.appendChild(div);\n",
              "\n",
              "      const buffers = [];\n",
              "      let downloaded = 0;\n",
              "\n",
              "      const channel = await google.colab.kernel.comms.open(id);\n",
              "      // Send a message to notify the kernel that we're ready.\n",
              "      channel.send({})\n",
              "\n",
              "      for await (const message of channel.messages) {\n",
              "        // Send a message to notify the kernel that we're ready.\n",
              "        channel.send({})\n",
              "        if (message.buffers) {\n",
              "          for (const buffer of message.buffers) {\n",
              "            buffers.push(buffer);\n",
              "            downloaded += buffer.byteLength;\n",
              "            progress.value = downloaded;\n",
              "          }\n",
              "        }\n",
              "      }\n",
              "      const blob = new Blob(buffers, {type: 'application/binary'});\n",
              "      const a = document.createElement('a');\n",
              "      a.href = window.URL.createObjectURL(blob);\n",
              "      a.download = filename;\n",
              "      div.appendChild(a);\n",
              "      a.click();\n",
              "      div.remove();\n",
              "    }\n",
              "  "
            ],
            "text/plain": [
              "<IPython.core.display.Javascript object>"
            ]
          },
          "metadata": {
            "tags": []
          }
        },
        {
          "output_type": "display_data",
          "data": {
            "application/javascript": [
              "download(\"download_deb7b9f1-2df6-4f6f-ae22-7679836c64b7\", \"HBR Articles.csv\", 2847278)"
            ],
            "text/plain": [
              "<IPython.core.display.Javascript object>"
            ]
          },
          "metadata": {
            "tags": []
          }
        }
      ]
    }
  ]
}